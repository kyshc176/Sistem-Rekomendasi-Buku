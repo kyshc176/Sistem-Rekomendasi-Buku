{
  "cells": [
    {
      "cell_type": "markdown",
      "metadata": {
        "id": "view-in-github",
        "colab_type": "text"
      },
      "source": [
        "<a href=\"https://colab.research.google.com/github/kyshc176/Sistem-Rekomendasi-Buku/blob/main/notebook.ipynb\" target=\"_parent\"><img src=\"https://colab.research.google.com/assets/colab-badge.svg\" alt=\"Open In Colab\"/></a>"
      ]
    },
    {
      "cell_type": "markdown",
      "metadata": {
        "id": "tt9KChcM1McX"
      },
      "source": [
        "# Data Understanding"
      ]
    },
    {
      "cell_type": "markdown",
      "metadata": {
        "id": "jNTvmw0-1McZ"
      },
      "source": [
        "### Import libraries"
      ]
    },
    {
      "cell_type": "code",
      "execution_count": null,
      "metadata": {
        "id": "VFLeB_tl1Mca"
      },
      "outputs": [],
      "source": [
        "import pandas as pd\n",
        "import numpy as np\n",
        "import matplotlib.pyplot as plt\n",
        "import tensorflow as tf\n",
        "from tensorflow import keras\n",
        "from tensorflow.keras import layers\n",
        "from tabulate import tabulate"
      ]
    },
    {
      "cell_type": "markdown",
      "metadata": {
        "id": "nIaLo4UZ1Mcc"
      },
      "source": [
        "Pada tahap awal ini, dilakukan proses import berbagai library yang digunakan dalam proyek ini, meliputi:\n",
        "\n",
        "- **Pandas, NumPy**: Untuk manipulasi dan analisis data berbasis tabel (DataFrame) dan array numerik.\n",
        "- **Matplotlib**: Untuk membuat visualisasi data dalam bentuk grafik atau plot.\n",
        "- **TensorFlow, Keras**: Untuk membangun, melatih, dan menguji model deep learning menggunakan berbagai jenis layer.\n",
        "- **Tabulate**: Untuk menampilkan output data dalam format tabel yang rapi dan mudah dibaca di console atau laporan."
      ]
    },
    {
      "cell_type": "markdown",
      "metadata": {
        "id": "3b5KVE0o1Mcd"
      },
      "source": [
        "### Load the dataset"
      ]
    },
    {
      "cell_type": "markdown",
      "metadata": {
        "id": "_4caCu_K1Mce"
      },
      "source": [
        "Dataset dibaca menggunakan fungsi `pandas.read_csv()`, yang digunakan untuk memuat data dari file CSV ke dalam format DataFrame agar dapat dianalisis lebih lanjut."
      ]
    },
    {
      "cell_type": "code",
      "execution_count": null,
      "metadata": {
        "id": "YwTOEFPk1Mcf",
        "outputId": "438ac9a1-ad5b-48d1-fbf9-228618daf998"
      },
      "outputs": [
        {
          "name": "stderr",
          "output_type": "stream",
          "text": [
            "C:\\Users\\unoto\\AppData\\Local\\Temp\\ipykernel_18944\\1353837609.py:1: DtypeWarning: Columns (3) have mixed types. Specify dtype option on import or set low_memory=False.\n",
            "  books = pd.read_csv(\"book-dataset/books.csv\")\n"
          ]
        }
      ],
      "source": [
        "books = pd.read_csv(\"book-dataset/books.csv\")\n",
        "ratings = pd.read_csv(\"book-dataset/ratings.csv\")\n",
        "users = pd.read_csv(\"book-dataset/users.csv\")"
      ]
    },
    {
      "cell_type": "code",
      "execution_count": null,
      "metadata": {
        "id": "l5eXR0Iw1Mcg",
        "outputId": "c991912b-5390-48b4-a614-67e2fec20d2c"
      },
      "outputs": [
        {
          "data": {
            "text/html": [
              "<div>\n",
              "<style scoped>\n",
              "    .dataframe tbody tr th:only-of-type {\n",
              "        vertical-align: middle;\n",
              "    }\n",
              "\n",
              "    .dataframe tbody tr th {\n",
              "        vertical-align: top;\n",
              "    }\n",
              "\n",
              "    .dataframe thead th {\n",
              "        text-align: right;\n",
              "    }\n",
              "</style>\n",
              "<table border=\"1\" class=\"dataframe\">\n",
              "  <thead>\n",
              "    <tr style=\"text-align: right;\">\n",
              "      <th></th>\n",
              "      <th>ISBN</th>\n",
              "      <th>Book-Title</th>\n",
              "      <th>Book-Author</th>\n",
              "      <th>Year-Of-Publication</th>\n",
              "      <th>Publisher</th>\n",
              "      <th>Image-URL-S</th>\n",
              "      <th>Image-URL-M</th>\n",
              "      <th>Image-URL-L</th>\n",
              "    </tr>\n",
              "  </thead>\n",
              "  <tbody>\n",
              "    <tr>\n",
              "      <th>0</th>\n",
              "      <td>0195153448</td>\n",
              "      <td>Classical Mythology</td>\n",
              "      <td>Mark P. O. Morford</td>\n",
              "      <td>2002</td>\n",
              "      <td>Oxford University Press</td>\n",
              "      <td>http://images.amazon.com/images/P/0195153448.0...</td>\n",
              "      <td>http://images.amazon.com/images/P/0195153448.0...</td>\n",
              "      <td>http://images.amazon.com/images/P/0195153448.0...</td>\n",
              "    </tr>\n",
              "    <tr>\n",
              "      <th>1</th>\n",
              "      <td>0002005018</td>\n",
              "      <td>Clara Callan</td>\n",
              "      <td>Richard Bruce Wright</td>\n",
              "      <td>2001</td>\n",
              "      <td>HarperFlamingo Canada</td>\n",
              "      <td>http://images.amazon.com/images/P/0002005018.0...</td>\n",
              "      <td>http://images.amazon.com/images/P/0002005018.0...</td>\n",
              "      <td>http://images.amazon.com/images/P/0002005018.0...</td>\n",
              "    </tr>\n",
              "    <tr>\n",
              "      <th>2</th>\n",
              "      <td>0060973129</td>\n",
              "      <td>Decision in Normandy</td>\n",
              "      <td>Carlo D'Este</td>\n",
              "      <td>1991</td>\n",
              "      <td>HarperPerennial</td>\n",
              "      <td>http://images.amazon.com/images/P/0060973129.0...</td>\n",
              "      <td>http://images.amazon.com/images/P/0060973129.0...</td>\n",
              "      <td>http://images.amazon.com/images/P/0060973129.0...</td>\n",
              "    </tr>\n",
              "    <tr>\n",
              "      <th>3</th>\n",
              "      <td>0374157065</td>\n",
              "      <td>Flu: The Story of the Great Influenza Pandemic...</td>\n",
              "      <td>Gina Bari Kolata</td>\n",
              "      <td>1999</td>\n",
              "      <td>Farrar Straus Giroux</td>\n",
              "      <td>http://images.amazon.com/images/P/0374157065.0...</td>\n",
              "      <td>http://images.amazon.com/images/P/0374157065.0...</td>\n",
              "      <td>http://images.amazon.com/images/P/0374157065.0...</td>\n",
              "    </tr>\n",
              "    <tr>\n",
              "      <th>4</th>\n",
              "      <td>0393045218</td>\n",
              "      <td>The Mummies of Urumchi</td>\n",
              "      <td>E. J. W. Barber</td>\n",
              "      <td>1999</td>\n",
              "      <td>W. W. Norton &amp;amp; Company</td>\n",
              "      <td>http://images.amazon.com/images/P/0393045218.0...</td>\n",
              "      <td>http://images.amazon.com/images/P/0393045218.0...</td>\n",
              "      <td>http://images.amazon.com/images/P/0393045218.0...</td>\n",
              "    </tr>\n",
              "  </tbody>\n",
              "</table>\n",
              "</div>"
            ],
            "text/plain": [
              "         ISBN                                         Book-Title  \\\n",
              "0  0195153448                                Classical Mythology   \n",
              "1  0002005018                                       Clara Callan   \n",
              "2  0060973129                               Decision in Normandy   \n",
              "3  0374157065  Flu: The Story of the Great Influenza Pandemic...   \n",
              "4  0393045218                             The Mummies of Urumchi   \n",
              "\n",
              "            Book-Author Year-Of-Publication                   Publisher  \\\n",
              "0    Mark P. O. Morford                2002     Oxford University Press   \n",
              "1  Richard Bruce Wright                2001       HarperFlamingo Canada   \n",
              "2          Carlo D'Este                1991             HarperPerennial   \n",
              "3      Gina Bari Kolata                1999        Farrar Straus Giroux   \n",
              "4       E. J. W. Barber                1999  W. W. Norton &amp; Company   \n",
              "\n",
              "                                         Image-URL-S  \\\n",
              "0  http://images.amazon.com/images/P/0195153448.0...   \n",
              "1  http://images.amazon.com/images/P/0002005018.0...   \n",
              "2  http://images.amazon.com/images/P/0060973129.0...   \n",
              "3  http://images.amazon.com/images/P/0374157065.0...   \n",
              "4  http://images.amazon.com/images/P/0393045218.0...   \n",
              "\n",
              "                                         Image-URL-M  \\\n",
              "0  http://images.amazon.com/images/P/0195153448.0...   \n",
              "1  http://images.amazon.com/images/P/0002005018.0...   \n",
              "2  http://images.amazon.com/images/P/0060973129.0...   \n",
              "3  http://images.amazon.com/images/P/0374157065.0...   \n",
              "4  http://images.amazon.com/images/P/0393045218.0...   \n",
              "\n",
              "                                         Image-URL-L  \n",
              "0  http://images.amazon.com/images/P/0195153448.0...  \n",
              "1  http://images.amazon.com/images/P/0002005018.0...  \n",
              "2  http://images.amazon.com/images/P/0060973129.0...  \n",
              "3  http://images.amazon.com/images/P/0374157065.0...  \n",
              "4  http://images.amazon.com/images/P/0393045218.0...  "
            ]
          },
          "execution_count": 4,
          "metadata": {},
          "output_type": "execute_result"
        }
      ],
      "source": [
        "# dataset books\n",
        "books.head()"
      ]
    },
    {
      "cell_type": "code",
      "execution_count": null,
      "metadata": {
        "id": "WDXr2Gqn1Mch",
        "outputId": "4fb4bdf2-7746-46eb-b586-1d0f305966e4"
      },
      "outputs": [
        {
          "data": {
            "text/html": [
              "<div>\n",
              "<style scoped>\n",
              "    .dataframe tbody tr th:only-of-type {\n",
              "        vertical-align: middle;\n",
              "    }\n",
              "\n",
              "    .dataframe tbody tr th {\n",
              "        vertical-align: top;\n",
              "    }\n",
              "\n",
              "    .dataframe thead th {\n",
              "        text-align: right;\n",
              "    }\n",
              "</style>\n",
              "<table border=\"1\" class=\"dataframe\">\n",
              "  <thead>\n",
              "    <tr style=\"text-align: right;\">\n",
              "      <th></th>\n",
              "      <th>User-ID</th>\n",
              "      <th>ISBN</th>\n",
              "      <th>Book-Rating</th>\n",
              "    </tr>\n",
              "  </thead>\n",
              "  <tbody>\n",
              "    <tr>\n",
              "      <th>0</th>\n",
              "      <td>276725</td>\n",
              "      <td>034545104X</td>\n",
              "      <td>0</td>\n",
              "    </tr>\n",
              "    <tr>\n",
              "      <th>1</th>\n",
              "      <td>276726</td>\n",
              "      <td>0155061224</td>\n",
              "      <td>5</td>\n",
              "    </tr>\n",
              "    <tr>\n",
              "      <th>2</th>\n",
              "      <td>276727</td>\n",
              "      <td>0446520802</td>\n",
              "      <td>0</td>\n",
              "    </tr>\n",
              "    <tr>\n",
              "      <th>3</th>\n",
              "      <td>276729</td>\n",
              "      <td>052165615X</td>\n",
              "      <td>3</td>\n",
              "    </tr>\n",
              "    <tr>\n",
              "      <th>4</th>\n",
              "      <td>276729</td>\n",
              "      <td>0521795028</td>\n",
              "      <td>6</td>\n",
              "    </tr>\n",
              "  </tbody>\n",
              "</table>\n",
              "</div>"
            ],
            "text/plain": [
              "   User-ID        ISBN  Book-Rating\n",
              "0   276725  034545104X            0\n",
              "1   276726  0155061224            5\n",
              "2   276727  0446520802            0\n",
              "3   276729  052165615X            3\n",
              "4   276729  0521795028            6"
            ]
          },
          "execution_count": 7,
          "metadata": {},
          "output_type": "execute_result"
        }
      ],
      "source": [
        "# dataset ratings\n",
        "ratings.head()"
      ]
    },
    {
      "cell_type": "code",
      "execution_count": null,
      "metadata": {
        "id": "ZRtvrxL71Mci",
        "outputId": "47113c08-36a9-43c5-f363-2637e6c6f7d2"
      },
      "outputs": [
        {
          "data": {
            "text/html": [
              "<div>\n",
              "<style scoped>\n",
              "    .dataframe tbody tr th:only-of-type {\n",
              "        vertical-align: middle;\n",
              "    }\n",
              "\n",
              "    .dataframe tbody tr th {\n",
              "        vertical-align: top;\n",
              "    }\n",
              "\n",
              "    .dataframe thead th {\n",
              "        text-align: right;\n",
              "    }\n",
              "</style>\n",
              "<table border=\"1\" class=\"dataframe\">\n",
              "  <thead>\n",
              "    <tr style=\"text-align: right;\">\n",
              "      <th></th>\n",
              "      <th>User-ID</th>\n",
              "      <th>Location</th>\n",
              "      <th>Age</th>\n",
              "    </tr>\n",
              "  </thead>\n",
              "  <tbody>\n",
              "    <tr>\n",
              "      <th>0</th>\n",
              "      <td>1</td>\n",
              "      <td>nyc, new york, usa</td>\n",
              "      <td>NaN</td>\n",
              "    </tr>\n",
              "    <tr>\n",
              "      <th>1</th>\n",
              "      <td>2</td>\n",
              "      <td>stockton, california, usa</td>\n",
              "      <td>18.0</td>\n",
              "    </tr>\n",
              "    <tr>\n",
              "      <th>2</th>\n",
              "      <td>3</td>\n",
              "      <td>moscow, yukon territory, russia</td>\n",
              "      <td>NaN</td>\n",
              "    </tr>\n",
              "    <tr>\n",
              "      <th>3</th>\n",
              "      <td>4</td>\n",
              "      <td>porto, v.n.gaia, portugal</td>\n",
              "      <td>17.0</td>\n",
              "    </tr>\n",
              "    <tr>\n",
              "      <th>4</th>\n",
              "      <td>5</td>\n",
              "      <td>farnborough, hants, united kingdom</td>\n",
              "      <td>NaN</td>\n",
              "    </tr>\n",
              "  </tbody>\n",
              "</table>\n",
              "</div>"
            ],
            "text/plain": [
              "   User-ID                            Location   Age\n",
              "0        1                  nyc, new york, usa   NaN\n",
              "1        2           stockton, california, usa  18.0\n",
              "2        3     moscow, yukon territory, russia   NaN\n",
              "3        4           porto, v.n.gaia, portugal  17.0\n",
              "4        5  farnborough, hants, united kingdom   NaN"
            ]
          },
          "execution_count": 8,
          "metadata": {},
          "output_type": "execute_result"
        }
      ],
      "source": [
        "# dataset users\n",
        "users.head()"
      ]
    },
    {
      "cell_type": "code",
      "execution_count": null,
      "metadata": {
        "id": "uC69v3YT1Mci",
        "outputId": "decbe2c0-d826-4686-866d-3fa84399ded5"
      },
      "outputs": [
        {
          "name": "stdout",
          "output_type": "stream",
          "text": [
            "Jumlah data buku: 271360\n",
            "Jumlah data rating buku dari pembaca: 340556\n",
            "jumlah data pengguna: 278858\n"
          ]
        }
      ],
      "source": [
        "print('Jumlah data buku:', len(books.ISBN.unique()))\n",
        "print('Jumlah data rating buku dari pembaca:', len(ratings.ISBN.unique()))\n",
        "print('jumlah data pengguna:', len(users['User-ID'].unique()))"
      ]
    },
    {
      "cell_type": "markdown",
      "metadata": {
        "id": "Lk75MTpe1Mcj"
      },
      "source": [
        "Berdasarkan output yang ditampilkan, diperoleh informasi struktur dari tiga variabel utama dalam dataset:\n",
        "\n",
        "### 1. `books` (271.360 data, 8 kolom)\n",
        "Berisi informasi detail tentang buku:\n",
        "- `ISBN`: Nomor identitas unik untuk setiap buku.\n",
        "- `Book-Title`: Judul buku.\n",
        "- `Book-Author`: Nama penulis buku.\n",
        "- `Year-Of-Publication`: Tahun terbit buku.\n",
        "- `Publisher`: Nama penerbit buku.\n",
        "- `Image-URL-S`: URL gambar buku ukuran kecil.\n",
        "- `Image-URL-M`: URL gambar buku ukuran sedang.\n",
        "- `Image-URL-L`: URL gambar buku ukuran besar.\n",
        "\n",
        "### 2. `ratings` (340.556 data, 3 kolom)\n",
        "Mencatat penilaian pengguna terhadap buku:\n",
        "- `User-ID`: Kode unik pengguna anonim.\n",
        "- `ISBN`: Nomor identitas buku.\n",
        "- `Book-Rating`: Nilai rating yang diberikan pengguna.\n",
        "\n",
        "### 3. `users` (278.858 data, 3 kolom)\n",
        "Menyimpan informasi pengguna:\n",
        "- `User-ID`: Kode unik pengguna anonim.\n",
        "- `Location`: Lokasi tempat tinggal pengguna.\n",
        "- `Age`: Usia pengguna."
      ]
    },
    {
      "cell_type": "markdown",
      "metadata": {
        "id": "tfKms6bl1Mck"
      },
      "source": [
        "## Univariate Exploratory Data Analysis"
      ]
    },
    {
      "cell_type": "markdown",
      "metadata": {
        "id": "mT1P76np1Mck"
      },
      "source": [
        "Pada tahap ini dilakukan analisis eksploratif terhadap masing-masing variabel untuk memahami distribusi, karakteristik, serta pola awal yang ada pada data. Pemahaman ini akan membantu dalam memilih strategi dan algoritma yang tepat untuk proses rekomendasi buku.\n",
        "\n",
        "### Variabel dalam Book Recommendation Dataset:\n",
        "- **books**: Berisi informasi detail tentang buku, seperti judul, penulis, penerbit, tahun terbit, dan link gambar.\n",
        "- **ratings**: Memuat data rating atau penilaian yang diberikan pengguna terhadap buku.\n",
        "- **users**: Berisi informasi pengguna, termasuk lokasi dan usia sebagai bagian dari data demografis."
      ]
    },
    {
      "cell_type": "markdown",
      "metadata": {
        "id": "S_th3nAp1Mcl"
      },
      "source": [
        "### Books Variabel"
      ]
    },
    {
      "cell_type": "markdown",
      "metadata": {
        "id": "Tm7i6DeQ1Mcl"
      },
      "source": [
        "Langkah pertama dalam eksplorasi data adalah memeriksa isi awal dan struktur dari dataset `books`. Hal ini dilakukan untuk memastikan data berhasil dimuat dengan benar serta memahami tipe data pada setiap kolom.\n",
        "\n",
        "### Langkah-langkah:\n",
        "- Gunakan `head()` untuk melihat 5 baris pertama dari dataset.\n",
        "- Gunakan `info()` untuk melihat jumlah entri, tipe data tiap kolom, dan nilai non-null pada dataset `books`.\n",
        "\n",
        "Langkah ini penting untuk mengidentifikasi potensi masalah awal seperti missing value, tipe data yang tidak sesuai, atau struktur data yang perlu dibersihkan."
      ]
    },
    {
      "cell_type": "code",
      "execution_count": null,
      "metadata": {
        "id": "0Caju-Nz1Mcl",
        "outputId": "9db1b1f8-4130-4e7a-cfd3-bf9f83b23abd"
      },
      "outputs": [
        {
          "name": "stdout",
          "output_type": "stream",
          "text": [
            "<class 'pandas.core.frame.DataFrame'>\n",
            "RangeIndex: 271360 entries, 0 to 271359\n",
            "Data columns (total 8 columns):\n",
            " #   Column               Non-Null Count   Dtype \n",
            "---  ------               --------------   ----- \n",
            " 0   ISBN                 271360 non-null  object\n",
            " 1   Book-Title           271360 non-null  object\n",
            " 2   Book-Author          271359 non-null  object\n",
            " 3   Year-Of-Publication  271360 non-null  object\n",
            " 4   Publisher            271358 non-null  object\n",
            " 5   Image-URL-S          271360 non-null  object\n",
            " 6   Image-URL-M          271360 non-null  object\n",
            " 7   Image-URL-L          271357 non-null  object\n",
            "dtypes: object(8)\n",
            "memory usage: 16.6+ MB\n"
          ]
        }
      ],
      "source": [
        "# cek informasi dataset\n",
        "books.info()"
      ]
    },
    {
      "cell_type": "markdown",
      "metadata": {
        "id": "R3IElKC51Mcm"
      },
      "source": [
        "Berdasarkan output dari `books.info()`, diketahui bahwa dataset `books.csv` terdiri dari:\n",
        "\n",
        "- **Jumlah entri**: 271.360 baris data\n",
        "- **Jumlah kolom**: 8 kolom, yaitu:\n",
        "  - `ISBN`\n",
        "  - `Book-Title`\n",
        "  - `Book-Author`\n",
        "  - `Year-Of-Publication`\n",
        "  - `Publisher`\n",
        "  - `Image-URL-S`\n",
        "  - `Image-URL-M`\n",
        "  - `Image-URL-L`\n"
      ]
    },
    {
      "cell_type": "markdown",
      "metadata": {
        "id": "omDm27Mk1Mcm"
      },
      "source": [
        "## Top 10 Writer"
      ]
    },
    {
      "cell_type": "code",
      "execution_count": null,
      "metadata": {
        "id": "SP8BZPqT1Mcm",
        "outputId": "f32ba195-0ad5-4326-ea0a-2d0a69eb8460"
      },
      "outputs": [
        {
          "data": {
            "image/png": "[encoded data removed]",
            "text/plain": [
              "<Figure size 864x432 with 1 Axes>"
            ]
          },
          "metadata": {
            "needs_background": "light"
          },
          "output_type": "display_data"
        }
      ],
      "source": [
        "# Grouping'Book-Author' dan hitung jumlah buku yang ditulis oleh masing-masing penulis\n",
        "author_counts = books.groupby('Book-Author')['Book-Title'].count()\n",
        "\n",
        "# Urutkan penulis dalam urutan menurun\n",
        "sorted_authors = author_counts.sort_values(ascending=False)\n",
        "\n",
        "# Pilih 10 penulis teratas\n",
        "top_10_authors = sorted_authors.head(10)\n",
        "\n",
        "# Plot 10 penulis teratas dan buku yang ditulis oleh penulis kemudian dihitung menggunakan plot batang\n",
        "plt.figure(figsize=(12, 6))\n",
        "top_10_authors.plot(kind='bar')\n",
        "plt.xlabel('Nama Penulis')\n",
        "plt.ylabel('Jumlah Buku')\n",
        "plt.title('10 Penulis Teratas Berdasarkan Jumlah Buku')\n",
        "plt.xticks(rotation=45)\n",
        "plt.tight_layout()\n",
        "plt.show()"
      ]
    },
    {
      "cell_type": "markdown",
      "metadata": {
        "id": "E4AbGhZv1Mcn"
      },
      "source": [
        "Dari data yang dianalisis, diketahui bahwa:\n",
        "\n",
        "- Penulis **Agatha Christie** menulis buku terbanyak, yaitu lebih dari 600 judul.\n",
        "- Dataset ini juga mengandung banyak penulis yang memiliki lebih dari satu judul buku.\n",
        "\n",
        "Informasi ini penting untuk memahami distribusi kontribusi penulis dalam dataset dan dapat menjadi dasar dalam pengembangan sistem rekomendasi berbasis penulis."
      ]
    },
    {
      "cell_type": "markdown",
      "metadata": {
        "id": "lN7acdg71Mcn"
      },
      "source": [
        "### Ratings Variabel"
      ]
    },
    {
      "cell_type": "markdown",
      "metadata": {
        "id": "1fIcscXc1Mcn"
      },
      "source": [
        "Selanjutnya, dilakukan eksplorasi pada variabel `ratings` yang berisi penilaian buku dari pengguna. Data ini akan menjadi dasar dalam pengembangan model **collaborative filtering**.\n",
        "\n",
        "Untuk memahami struktur dan kualitas data, gunakan fungsi `info()` untuk melihat jumlah entri, tipe data, dan nilai yang tidak kosong pada setiap kolom di dataset `ratings`."
      ]
    },
    {
      "cell_type": "code",
      "execution_count": null,
      "metadata": {
        "id": "bkkrNdqM1Mcn",
        "outputId": "30fe4843-6dc5-4748-af83-d7f97d5a2ad2"
      },
      "outputs": [
        {
          "data": {
            "text/html": [
              "<div>\n",
              "<style scoped>\n",
              "    .dataframe tbody tr th:only-of-type {\n",
              "        vertical-align: middle;\n",
              "    }\n",
              "\n",
              "    .dataframe tbody tr th {\n",
              "        vertical-align: top;\n",
              "    }\n",
              "\n",
              "    .dataframe thead th {\n",
              "        text-align: right;\n",
              "    }\n",
              "</style>\n",
              "<table border=\"1\" class=\"dataframe\">\n",
              "  <thead>\n",
              "    <tr style=\"text-align: right;\">\n",
              "      <th></th>\n",
              "      <th>User-ID</th>\n",
              "      <th>ISBN</th>\n",
              "      <th>Book-Rating</th>\n",
              "    </tr>\n",
              "  </thead>\n",
              "  <tbody>\n",
              "    <tr>\n",
              "      <th>0</th>\n",
              "      <td>276725</td>\n",
              "      <td>034545104X</td>\n",
              "      <td>0</td>\n",
              "    </tr>\n",
              "    <tr>\n",
              "      <th>1</th>\n",
              "      <td>276726</td>\n",
              "      <td>0155061224</td>\n",
              "      <td>5</td>\n",
              "    </tr>\n",
              "    <tr>\n",
              "      <th>2</th>\n",
              "      <td>276727</td>\n",
              "      <td>0446520802</td>\n",
              "      <td>0</td>\n",
              "    </tr>\n",
              "    <tr>\n",
              "      <th>3</th>\n",
              "      <td>276729</td>\n",
              "      <td>052165615X</td>\n",
              "      <td>3</td>\n",
              "    </tr>\n",
              "    <tr>\n",
              "      <th>4</th>\n",
              "      <td>276729</td>\n",
              "      <td>0521795028</td>\n",
              "      <td>6</td>\n",
              "    </tr>\n",
              "  </tbody>\n",
              "</table>\n",
              "</div>"
            ],
            "text/plain": [
              "   User-ID        ISBN  Book-Rating\n",
              "0   276725  034545104X            0\n",
              "1   276726  0155061224            5\n",
              "2   276727  0446520802            0\n",
              "3   276729  052165615X            3\n",
              "4   276729  0521795028            6"
            ]
          },
          "execution_count": 17,
          "metadata": {},
          "output_type": "execute_result"
        }
      ],
      "source": [
        "ratings.head()"
      ]
    },
    {
      "cell_type": "code",
      "execution_count": null,
      "metadata": {
        "id": "b7O4o0ip1Mco",
        "outputId": "40f1d7ae-189c-4eba-ef42-1c22843b2656"
      },
      "outputs": [
        {
          "name": "stdout",
          "output_type": "stream",
          "text": [
            "<class 'pandas.core.frame.DataFrame'>\n",
            "RangeIndex: 1149780 entries, 0 to 1149779\n",
            "Data columns (total 3 columns):\n",
            " #   Column       Non-Null Count    Dtype \n",
            "---  ------       --------------    ----- \n",
            " 0   User-ID      1149780 non-null  int64 \n",
            " 1   ISBN         1149780 non-null  object\n",
            " 2   Book-Rating  1149780 non-null  int64 \n",
            "dtypes: int64(2), object(1)\n",
            "memory usage: 26.3+ MB\n"
          ]
        }
      ],
      "source": [
        "ratings.info()"
      ]
    },
    {
      "cell_type": "markdown",
      "metadata": {
        "id": "vhITpTsX1Mco"
      },
      "source": [
        "Berdasarkan output sebelumnya, dataset `ratings` memiliki:\n",
        "\n",
        "- **Jumlah entri**: 1.149.780 baris\n",
        "- **Kolom**: 3 kolom utama, yaitu:\n",
        "  - `User-ID`: kode unik pengguna anonim\n",
        "  - `ISBN`: nomor identitas unik buku\n",
        "  - `Book-Rating`: nilai rating yang diberikan pengguna terhadap buku\n"
      ]
    },
    {
      "cell_type": "code",
      "execution_count": null,
      "metadata": {
        "id": "nluo5y-O1Mco",
        "outputId": "14ba5ae5-5fe0-4b6d-a0c3-d4f3fe27b477"
      },
      "outputs": [
        {
          "name": "stdout",
          "output_type": "stream",
          "text": [
            "Jumlah User-ID: 105283\n",
            "Jumlah buku berdasarkan ISBN: 340556\n",
            "Jumlah rating buku:\n"
          ]
        },
        {
          "data": {
            "text/html": [
              "<div>\n",
              "<style scoped>\n",
              "    .dataframe tbody tr th:only-of-type {\n",
              "        vertical-align: middle;\n",
              "    }\n",
              "\n",
              "    .dataframe tbody tr th {\n",
              "        vertical-align: top;\n",
              "    }\n",
              "\n",
              "    .dataframe thead th {\n",
              "        text-align: right;\n",
              "    }\n",
              "</style>\n",
              "<table border=\"1\" class=\"dataframe\">\n",
              "  <thead>\n",
              "    <tr style=\"text-align: right;\">\n",
              "      <th></th>\n",
              "      <th>Book-Rating</th>\n",
              "      <th>Jumlah</th>\n",
              "    </tr>\n",
              "  </thead>\n",
              "  <tbody>\n",
              "    <tr>\n",
              "      <th>0</th>\n",
              "      <td>0</td>\n",
              "      <td>716109</td>\n",
              "    </tr>\n",
              "    <tr>\n",
              "      <th>1</th>\n",
              "      <td>1</td>\n",
              "      <td>1770</td>\n",
              "    </tr>\n",
              "    <tr>\n",
              "      <th>2</th>\n",
              "      <td>2</td>\n",
              "      <td>2759</td>\n",
              "    </tr>\n",
              "    <tr>\n",
              "      <th>3</th>\n",
              "      <td>3</td>\n",
              "      <td>5996</td>\n",
              "    </tr>\n",
              "    <tr>\n",
              "      <th>4</th>\n",
              "      <td>4</td>\n",
              "      <td>8904</td>\n",
              "    </tr>\n",
              "    <tr>\n",
              "      <th>5</th>\n",
              "      <td>5</td>\n",
              "      <td>50974</td>\n",
              "    </tr>\n",
              "    <tr>\n",
              "      <th>6</th>\n",
              "      <td>6</td>\n",
              "      <td>36924</td>\n",
              "    </tr>\n",
              "    <tr>\n",
              "      <th>7</th>\n",
              "      <td>7</td>\n",
              "      <td>76457</td>\n",
              "    </tr>\n",
              "    <tr>\n",
              "      <th>8</th>\n",
              "      <td>8</td>\n",
              "      <td>103736</td>\n",
              "    </tr>\n",
              "    <tr>\n",
              "      <th>9</th>\n",
              "      <td>9</td>\n",
              "      <td>67541</td>\n",
              "    </tr>\n",
              "    <tr>\n",
              "      <th>10</th>\n",
              "      <td>10</td>\n",
              "      <td>78610</td>\n",
              "    </tr>\n",
              "  </tbody>\n",
              "</table>\n",
              "</div>"
            ],
            "text/plain": [
              "    Book-Rating  Jumlah\n",
              "0             0  716109\n",
              "1             1    1770\n",
              "2             2    2759\n",
              "3             3    5996\n",
              "4             4    8904\n",
              "5             5   50974\n",
              "6             6   36924\n",
              "7             7   76457\n",
              "8             8  103736\n",
              "9             9   67541\n",
              "10           10   78610"
            ]
          },
          "execution_count": 19,
          "metadata": {},
          "output_type": "execute_result"
        }
      ],
      "source": [
        "print('Jumlah User-ID:', len(ratings['User-ID'].unique()))\n",
        "print('Jumlah buku berdasarkan ISBN:', len(ratings['ISBN'].unique()))\n",
        "\n",
        "print('Jumlah rating buku:')\n",
        "sorted_ratings = ratings['Book-Rating'].value_counts().sort_index()\n",
        "pd.DataFrame({'Book-Rating': sorted_ratings.index, 'Jumlah': sorted_ratings.values})"
      ]
    },
    {
      "cell_type": "markdown",
      "metadata": {
        "id": "BC9bZ5T81Mco"
      },
      "source": [
        "Dari hasil analisis diketahui bahwa:\n",
        "\n",
        "- Terdapat **105.283 pengguna unik** yang memberikan rating buku.\n",
        "- Jumlah buku yang mendapat rating berdasarkan ISBN adalah **340.556 buku**.\n",
        "- Rating yang diberikan memiliki rentang nilai dari **0 (paling rendah)** hingga **10 (paling tinggi)**.\n",
        "\n",
        "Informasi ini penting sebagai dasar pemahaman skala rating untuk pengembangan model rekomendasi."
      ]
    },
    {
      "cell_type": "markdown",
      "metadata": {
        "id": "TDCJRCme1Mcp"
      },
      "source": [
        "Dataset `ratings` memiliki lebih dari 1 juta baris, yang cukup besar dan memakan banyak memori saat pelatihan model.\n",
        "\n",
        "Oleh karena itu, untuk menghemat memori dan mempercepat proses, hanya **5.000 data pertama** (baris indeks 0 hingga 4999) yang akan digunakan dalam pengembangan model collaborative filtering.\n",
        "\n",
        "Dataset hasil pemangkasan ini kemudian disimpan dengan nama variabel baru `df_rating` agar tidak membingungkan dengan dataset asli."
      ]
    },
    {
      "cell_type": "code",
      "execution_count": null,
      "metadata": {
        "id": "fhL_nu4V1Mcp",
        "outputId": "0f932d4c-b55f-4d0c-f4d9-d1817ce86535"
      },
      "outputs": [
        {
          "data": {
            "text/html": [
              "<div>\n",
              "<style scoped>\n",
              "    .dataframe tbody tr th:only-of-type {\n",
              "        vertical-align: middle;\n",
              "    }\n",
              "\n",
              "    .dataframe tbody tr th {\n",
              "        vertical-align: top;\n",
              "    }\n",
              "\n",
              "    .dataframe thead th {\n",
              "        text-align: right;\n",
              "    }\n",
              "</style>\n",
              "<table border=\"1\" class=\"dataframe\">\n",
              "  <thead>\n",
              "    <tr style=\"text-align: right;\">\n",
              "      <th></th>\n",
              "      <th>User-ID</th>\n",
              "      <th>ISBN</th>\n",
              "      <th>Book-Rating</th>\n",
              "    </tr>\n",
              "  </thead>\n",
              "  <tbody>\n",
              "    <tr>\n",
              "      <th>0</th>\n",
              "      <td>276725</td>\n",
              "      <td>034545104X</td>\n",
              "      <td>0</td>\n",
              "    </tr>\n",
              "    <tr>\n",
              "      <th>1</th>\n",
              "      <td>276726</td>\n",
              "      <td>0155061224</td>\n",
              "      <td>5</td>\n",
              "    </tr>\n",
              "    <tr>\n",
              "      <th>2</th>\n",
              "      <td>276727</td>\n",
              "      <td>0446520802</td>\n",
              "      <td>0</td>\n",
              "    </tr>\n",
              "    <tr>\n",
              "      <th>3</th>\n",
              "      <td>276729</td>\n",
              "      <td>052165615X</td>\n",
              "      <td>3</td>\n",
              "    </tr>\n",
              "    <tr>\n",
              "      <th>4</th>\n",
              "      <td>276729</td>\n",
              "      <td>0521795028</td>\n",
              "      <td>6</td>\n",
              "    </tr>\n",
              "    <tr>\n",
              "      <th>...</th>\n",
              "      <td>...</td>\n",
              "      <td>...</td>\n",
              "      <td>...</td>\n",
              "    </tr>\n",
              "    <tr>\n",
              "      <th>19995</th>\n",
              "      <td>3757</td>\n",
              "      <td>843222264X</td>\n",
              "      <td>7</td>\n",
              "    </tr>\n",
              "    <tr>\n",
              "      <th>19996</th>\n",
              "      <td>3757</td>\n",
              "      <td>8432222658</td>\n",
              "      <td>7</td>\n",
              "    </tr>\n",
              "    <tr>\n",
              "      <th>19997</th>\n",
              "      <td>3757</td>\n",
              "      <td>8432222666</td>\n",
              "      <td>7</td>\n",
              "    </tr>\n",
              "    <tr>\n",
              "      <th>19998</th>\n",
              "      <td>3757</td>\n",
              "      <td>8432222674</td>\n",
              "      <td>7</td>\n",
              "    </tr>\n",
              "    <tr>\n",
              "      <th>19999</th>\n",
              "      <td>3757</td>\n",
              "      <td>8432222682</td>\n",
              "      <td>6</td>\n",
              "    </tr>\n",
              "  </tbody>\n",
              "</table>\n",
              "<p>20000 rows × 3 columns</p>\n",
              "</div>"
            ],
            "text/plain": [
              "       User-ID        ISBN  Book-Rating\n",
              "0       276725  034545104X            0\n",
              "1       276726  0155061224            5\n",
              "2       276727  0446520802            0\n",
              "3       276729  052165615X            3\n",
              "4       276729  0521795028            6\n",
              "...        ...         ...          ...\n",
              "19995     3757  843222264X            7\n",
              "19996     3757  8432222658            7\n",
              "19997     3757  8432222666            7\n",
              "19998     3757  8432222674            7\n",
              "19999     3757  8432222682            6\n",
              "\n",
              "[20000 rows x 3 columns]"
            ]
          },
          "execution_count": 20,
          "metadata": {},
          "output_type": "execute_result"
        }
      ],
      "source": [
        "df_rating = ratings[:20000]\n",
        "df_rating"
      ]
    },
    {
      "cell_type": "markdown",
      "metadata": {
        "id": "eq0rMlQ71Mcp"
      },
      "source": [
        "### Users Variabel"
      ]
    },
    {
      "cell_type": "markdown",
      "metadata": {
        "id": "ueCDkO3u1Mcp"
      },
      "source": [
        "Variabel `users` berisi informasi tentang pengguna anonim beserta data demografisnya.\n",
        "\n",
        "Untuk memahami struktur data dan kualitas kolom, gunakan fungsi `info()` untuk melihat jumlah entri, tipe data, dan nilai non-null di setiap kolom."
      ]
    },
    {
      "cell_type": "code",
      "execution_count": null,
      "metadata": {
        "id": "6x83lgD11Mcp",
        "outputId": "52ad9f05-b8ec-48a0-d90a-4ee9d37d76f3"
      },
      "outputs": [
        {
          "data": {
            "text/html": [
              "<div>\n",
              "<style scoped>\n",
              "    .dataframe tbody tr th:only-of-type {\n",
              "        vertical-align: middle;\n",
              "    }\n",
              "\n",
              "    .dataframe tbody tr th {\n",
              "        vertical-align: top;\n",
              "    }\n",
              "\n",
              "    .dataframe thead th {\n",
              "        text-align: right;\n",
              "    }\n",
              "</style>\n",
              "<table border=\"1\" class=\"dataframe\">\n",
              "  <thead>\n",
              "    <tr style=\"text-align: right;\">\n",
              "      <th></th>\n",
              "      <th>User-ID</th>\n",
              "      <th>Location</th>\n",
              "      <th>Age</th>\n",
              "    </tr>\n",
              "  </thead>\n",
              "  <tbody>\n",
              "    <tr>\n",
              "      <th>0</th>\n",
              "      <td>1</td>\n",
              "      <td>nyc, new york, usa</td>\n",
              "      <td>NaN</td>\n",
              "    </tr>\n",
              "    <tr>\n",
              "      <th>1</th>\n",
              "      <td>2</td>\n",
              "      <td>stockton, california, usa</td>\n",
              "      <td>18.0</td>\n",
              "    </tr>\n",
              "    <tr>\n",
              "      <th>2</th>\n",
              "      <td>3</td>\n",
              "      <td>moscow, yukon territory, russia</td>\n",
              "      <td>NaN</td>\n",
              "    </tr>\n",
              "    <tr>\n",
              "      <th>3</th>\n",
              "      <td>4</td>\n",
              "      <td>porto, v.n.gaia, portugal</td>\n",
              "      <td>17.0</td>\n",
              "    </tr>\n",
              "    <tr>\n",
              "      <th>4</th>\n",
              "      <td>5</td>\n",
              "      <td>farnborough, hants, united kingdom</td>\n",
              "      <td>NaN</td>\n",
              "    </tr>\n",
              "  </tbody>\n",
              "</table>\n",
              "</div>"
            ],
            "text/plain": [
              "   User-ID                            Location   Age\n",
              "0        1                  nyc, new york, usa   NaN\n",
              "1        2           stockton, california, usa  18.0\n",
              "2        3     moscow, yukon territory, russia   NaN\n",
              "3        4           porto, v.n.gaia, portugal  17.0\n",
              "4        5  farnborough, hants, united kingdom   NaN"
            ]
          },
          "execution_count": 21,
          "metadata": {},
          "output_type": "execute_result"
        }
      ],
      "source": [
        "users.head()"
      ]
    },
    {
      "cell_type": "code",
      "execution_count": null,
      "metadata": {
        "id": "uByVmLSc1Mcq",
        "outputId": "dcb76964-c9e7-4c56-f05d-64d41d60efbe"
      },
      "outputs": [
        {
          "name": "stdout",
          "output_type": "stream",
          "text": [
            "<class 'pandas.core.frame.DataFrame'>\n",
            "RangeIndex: 278858 entries, 0 to 278857\n",
            "Data columns (total 3 columns):\n",
            " #   Column    Non-Null Count   Dtype  \n",
            "---  ------    --------------   -----  \n",
            " 0   User-ID   278858 non-null  int64  \n",
            " 1   Location  278858 non-null  object \n",
            " 2   Age       168096 non-null  float64\n",
            "dtypes: float64(1), int64(1), object(1)\n",
            "memory usage: 6.4+ MB\n"
          ]
        }
      ],
      "source": [
        "users.info()"
      ]
    },
    {
      "cell_type": "markdown",
      "metadata": {
        "id": "zI1_fEr81Mcq"
      },
      "source": [
        "Dari output `users.info()`, diketahui bahwa dataset `users` memiliki:\n",
        "\n",
        "- **278.858 entri**\n",
        "- 3 kolom utama:\n",
        "  - `User-ID`: kode unik pengguna anonim\n",
        "  - `Location`: lokasi tempat tinggal pengguna\n",
        "  - `Age`: usia pengguna (terdapat nilai yang tidak diketahui/bermasalah)\n",
        "\n",
        "Dataset `users` berguna untuk pengembangan sistem rekomendasi berbasis demografi atau kondisi sosial pengguna. Namun, untuk studi kasus ini, data `users` **tidak akan digunakan** dalam model.\n",
        "\n",
        "Model rekomendasi yang akan dikembangkan hanya menggunakan data dari **`books` dan `ratings`**."
      ]
    },
    {
      "cell_type": "markdown",
      "metadata": {
        "id": "RXUVxzMb1Mcr"
      },
      "source": [
        "## Data Preprocessing"
      ]
    },
    {
      "cell_type": "markdown",
      "metadata": {
        "id": "8TSA2Tac1Mcr"
      },
      "source": [
        "### Menggabungkan Dataset dan Menghitung Jumlah Rating"
      ]
    },
    {
      "cell_type": "markdown",
      "metadata": {
        "id": "jpKwoujg1Mcr"
      },
      "source": [
        "Langkah selanjutnya adalah menggabungkan dataset `books` dan `ratings` berdasarkan kolom `ISBN`. Penggabungan ini berguna untuk mengaitkan informasi buku dengan rating yang diberikan oleh pengguna.\n",
        "\n",
        "Setelah penggabungan, kita dapat menghitung jumlah total rating yang ada untuk analisis lebih lanjut."
      ]
    },
    {
      "cell_type": "code",
      "execution_count": null,
      "metadata": {
        "id": "V6jB92Gf1Mcs",
        "outputId": "f45b1652-a40b-4e8e-d2d5-552242433126"
      },
      "outputs": [
        {
          "data": {
            "text/html": [
              "<div>\n",
              "<style scoped>\n",
              "    .dataframe tbody tr th:only-of-type {\n",
              "        vertical-align: middle;\n",
              "    }\n",
              "\n",
              "    .dataframe tbody tr th {\n",
              "        vertical-align: top;\n",
              "    }\n",
              "\n",
              "    .dataframe thead th {\n",
              "        text-align: right;\n",
              "    }\n",
              "</style>\n",
              "<table border=\"1\" class=\"dataframe\">\n",
              "  <thead>\n",
              "    <tr style=\"text-align: right;\">\n",
              "      <th></th>\n",
              "      <th>User-ID</th>\n",
              "      <th>ISBN</th>\n",
              "      <th>Book-Rating</th>\n",
              "      <th>Book-Title</th>\n",
              "      <th>Book-Author</th>\n",
              "      <th>Year-Of-Publication</th>\n",
              "      <th>Publisher</th>\n",
              "    </tr>\n",
              "  </thead>\n",
              "  <tbody>\n",
              "    <tr>\n",
              "      <th>0</th>\n",
              "      <td>276725</td>\n",
              "      <td>034545104X</td>\n",
              "      <td>0</td>\n",
              "      <td>Flesh Tones: A Novel</td>\n",
              "      <td>M. J. Rose</td>\n",
              "      <td>2002.0</td>\n",
              "      <td>Ballantine Books</td>\n",
              "    </tr>\n",
              "    <tr>\n",
              "      <th>1</th>\n",
              "      <td>276726</td>\n",
              "      <td>0155061224</td>\n",
              "      <td>5</td>\n",
              "      <td>Rites of Passage</td>\n",
              "      <td>Judith Rae</td>\n",
              "      <td>2001.0</td>\n",
              "      <td>Heinle</td>\n",
              "    </tr>\n",
              "    <tr>\n",
              "      <th>2</th>\n",
              "      <td>276727</td>\n",
              "      <td>0446520802</td>\n",
              "      <td>0</td>\n",
              "      <td>The Notebook</td>\n",
              "      <td>Nicholas Sparks</td>\n",
              "      <td>1996.0</td>\n",
              "      <td>Warner Books</td>\n",
              "    </tr>\n",
              "    <tr>\n",
              "      <th>3</th>\n",
              "      <td>276729</td>\n",
              "      <td>052165615X</td>\n",
              "      <td>3</td>\n",
              "      <td>Help!: Level 1</td>\n",
              "      <td>Philip Prowse</td>\n",
              "      <td>1999.0</td>\n",
              "      <td>Cambridge University Press</td>\n",
              "    </tr>\n",
              "    <tr>\n",
              "      <th>4</th>\n",
              "      <td>276729</td>\n",
              "      <td>0521795028</td>\n",
              "      <td>6</td>\n",
              "      <td>The Amsterdam Connection : Level 4 (Cambridge ...</td>\n",
              "      <td>Sue Leather</td>\n",
              "      <td>2001.0</td>\n",
              "      <td>Cambridge University Press</td>\n",
              "    </tr>\n",
              "    <tr>\n",
              "      <th>...</th>\n",
              "      <td>...</td>\n",
              "      <td>...</td>\n",
              "      <td>...</td>\n",
              "      <td>...</td>\n",
              "      <td>...</td>\n",
              "      <td>...</td>\n",
              "      <td>...</td>\n",
              "    </tr>\n",
              "    <tr>\n",
              "      <th>1149775</th>\n",
              "      <td>276704</td>\n",
              "      <td>1563526298</td>\n",
              "      <td>9</td>\n",
              "      <td>Get Clark Smart : The Ultimate Guide for the S...</td>\n",
              "      <td>Clark Howard</td>\n",
              "      <td>2000.0</td>\n",
              "      <td>Longstreet Press</td>\n",
              "    </tr>\n",
              "    <tr>\n",
              "      <th>1149776</th>\n",
              "      <td>276706</td>\n",
              "      <td>0679447156</td>\n",
              "      <td>0</td>\n",
              "      <td>Eight Weeks to Optimum Health: A Proven Progra...</td>\n",
              "      <td>Andrew Weil</td>\n",
              "      <td>1997.0</td>\n",
              "      <td>Alfred A. Knopf</td>\n",
              "    </tr>\n",
              "    <tr>\n",
              "      <th>1149777</th>\n",
              "      <td>276709</td>\n",
              "      <td>0515107662</td>\n",
              "      <td>10</td>\n",
              "      <td>The Sherbrooke Bride (Bride Trilogy (Paperback))</td>\n",
              "      <td>Catherine Coulter</td>\n",
              "      <td>1996.0</td>\n",
              "      <td>Jove Books</td>\n",
              "    </tr>\n",
              "    <tr>\n",
              "      <th>1149778</th>\n",
              "      <td>276721</td>\n",
              "      <td>0590442449</td>\n",
              "      <td>10</td>\n",
              "      <td>Fourth Grade Rats</td>\n",
              "      <td>Jerry Spinelli</td>\n",
              "      <td>1996.0</td>\n",
              "      <td>Scholastic</td>\n",
              "    </tr>\n",
              "    <tr>\n",
              "      <th>1149779</th>\n",
              "      <td>276723</td>\n",
              "      <td>05162443314</td>\n",
              "      <td>8</td>\n",
              "      <td>NaN</td>\n",
              "      <td>NaN</td>\n",
              "      <td>NaN</td>\n",
              "      <td>NaN</td>\n",
              "    </tr>\n",
              "  </tbody>\n",
              "</table>\n",
              "<p>1149780 rows × 7 columns</p>\n",
              "</div>"
            ],
            "text/plain": [
              "         User-ID         ISBN  Book-Rating  \\\n",
              "0         276725   034545104X            0   \n",
              "1         276726   0155061224            5   \n",
              "2         276727   0446520802            0   \n",
              "3         276729   052165615X            3   \n",
              "4         276729   0521795028            6   \n",
              "...          ...          ...          ...   \n",
              "1149775   276704   1563526298            9   \n",
              "1149776   276706   0679447156            0   \n",
              "1149777   276709   0515107662           10   \n",
              "1149778   276721   0590442449           10   \n",
              "1149779   276723  05162443314            8   \n",
              "\n",
              "                                                Book-Title        Book-Author  \\\n",
              "0                                     Flesh Tones: A Novel         M. J. Rose   \n",
              "1                                         Rites of Passage         Judith Rae   \n",
              "2                                             The Notebook    Nicholas Sparks   \n",
              "3                                           Help!: Level 1      Philip Prowse   \n",
              "4        The Amsterdam Connection : Level 4 (Cambridge ...        Sue Leather   \n",
              "...                                                    ...                ...   \n",
              "1149775  Get Clark Smart : The Ultimate Guide for the S...       Clark Howard   \n",
              "1149776  Eight Weeks to Optimum Health: A Proven Progra...        Andrew Weil   \n",
              "1149777   The Sherbrooke Bride (Bride Trilogy (Paperback))  Catherine Coulter   \n",
              "1149778                                  Fourth Grade Rats     Jerry Spinelli   \n",
              "1149779                                                NaN                NaN   \n",
              "\n",
              "         Year-Of-Publication                   Publisher  \n",
              "0                     2002.0            Ballantine Books  \n",
              "1                     2001.0                      Heinle  \n",
              "2                     1996.0                Warner Books  \n",
              "3                     1999.0  Cambridge University Press  \n",
              "4                     2001.0  Cambridge University Press  \n",
              "...                      ...                         ...  \n",
              "1149775               2000.0            Longstreet Press  \n",
              "1149776               1997.0             Alfred A. Knopf  \n",
              "1149777               1996.0                  Jove Books  \n",
              "1149778               1996.0                  Scholastic  \n",
              "1149779                  NaN                         NaN  \n",
              "\n",
              "[1149780 rows x 7 columns]"
            ]
          },
          "execution_count": 23,
          "metadata": {},
          "output_type": "execute_result"
        }
      ],
      "source": [
        "# Menggabungkan dataframe ratings dengan books berdasarkan nilai ISBN\n",
        "books = pd.merge(ratings, books, on='ISBN', how='left')\n",
        "books"
      ]
    },
    {
      "cell_type": "markdown",
      "metadata": {
        "id": "aFxEU_lU1Mct"
      },
      "source": [
        "Setelah penggabungan dataset `books` dan `ratings`, diperoleh dataset baru dengan **7 kolom** dan **1.149.780 baris** data.\n",
        "\n",
        "Dataset ini menjadi dasar untuk pengembangan sistem rekomendasi buku.\n",
        "\n",
        "Selanjutnya, dilakukan perhitungan jumlah rating yang diterima setiap buku berdasarkan `ISBN` menggunakan kode berikut:"
      ]
    },
    {
      "cell_type": "code",
      "execution_count": null,
      "metadata": {
        "id": "z9wd0wYz1Mcu",
        "outputId": "712b1f90-af66-43a8-bf13-7cc5884fc2d6"
      },
      "outputs": [
        {
          "data": {
            "text/html": [
              "<div>\n",
              "<style scoped>\n",
              "    .dataframe tbody tr th:only-of-type {\n",
              "        vertical-align: middle;\n",
              "    }\n",
              "\n",
              "    .dataframe tbody tr th {\n",
              "        vertical-align: top;\n",
              "    }\n",
              "\n",
              "    .dataframe thead th {\n",
              "        text-align: right;\n",
              "    }\n",
              "</style>\n",
              "<table border=\"1\" class=\"dataframe\">\n",
              "  <thead>\n",
              "    <tr style=\"text-align: right;\">\n",
              "      <th></th>\n",
              "      <th>User-ID</th>\n",
              "      <th>Book-Rating</th>\n",
              "      <th>Year-Of-Publication</th>\n",
              "    </tr>\n",
              "    <tr>\n",
              "      <th>ISBN</th>\n",
              "      <th></th>\n",
              "      <th></th>\n",
              "      <th></th>\n",
              "    </tr>\n",
              "  </thead>\n",
              "  <tbody>\n",
              "    <tr>\n",
              "      <th>0330299891</th>\n",
              "      <td>271009</td>\n",
              "      <td>6</td>\n",
              "      <td>0.0</td>\n",
              "    </tr>\n",
              "    <tr>\n",
              "      <th>0375404120</th>\n",
              "      <td>356057</td>\n",
              "      <td>3</td>\n",
              "      <td>0.0</td>\n",
              "    </tr>\n",
              "    <tr>\n",
              "      <th>0586045007</th>\n",
              "      <td>89192</td>\n",
              "      <td>0</td>\n",
              "      <td>0.0</td>\n",
              "    </tr>\n",
              "    <tr>\n",
              "      <th>9022906116</th>\n",
              "      <td>100868</td>\n",
              "      <td>7</td>\n",
              "      <td>0.0</td>\n",
              "    </tr>\n",
              "    <tr>\n",
              "      <th>9032803328</th>\n",
              "      <td>89192</td>\n",
              "      <td>0</td>\n",
              "      <td>0.0</td>\n",
              "    </tr>\n",
              "    <tr>\n",
              "      <th>...</th>\n",
              "      <td>...</td>\n",
              "      <td>...</td>\n",
              "      <td>...</td>\n",
              "    </tr>\n",
              "    <tr>\n",
              "      <th>cn113107</th>\n",
              "      <td>107301</td>\n",
              "      <td>0</td>\n",
              "      <td>0.0</td>\n",
              "    </tr>\n",
              "    <tr>\n",
              "      <th>ooo7156103</th>\n",
              "      <td>266146</td>\n",
              "      <td>7</td>\n",
              "      <td>0.0</td>\n",
              "    </tr>\n",
              "    <tr>\n",
              "      <th>§423350229</th>\n",
              "      <td>85250</td>\n",
              "      <td>0</td>\n",
              "      <td>0.0</td>\n",
              "    </tr>\n",
              "    <tr>\n",
              "      <th>´3499128624</th>\n",
              "      <td>86103</td>\n",
              "      <td>8</td>\n",
              "      <td>0.0</td>\n",
              "    </tr>\n",
              "    <tr>\n",
              "      <th>Ô½crosoft</th>\n",
              "      <td>187517</td>\n",
              "      <td>7</td>\n",
              "      <td>0.0</td>\n",
              "    </tr>\n",
              "  </tbody>\n",
              "</table>\n",
              "<p>340556 rows × 3 columns</p>\n",
              "</div>"
            ],
            "text/plain": [
              "             User-ID  Book-Rating  Year-Of-Publication\n",
              "ISBN                                                  \n",
              " 0330299891   271009            6                  0.0\n",
              " 0375404120   356057            3                  0.0\n",
              " 0586045007    89192            0                  0.0\n",
              " 9022906116   100868            7                  0.0\n",
              " 9032803328    89192            0                  0.0\n",
              "...              ...          ...                  ...\n",
              "cn113107      107301            0                  0.0\n",
              "ooo7156103    266146            7                  0.0\n",
              "§423350229     85250            0                  0.0\n",
              "´3499128624    86103            8                  0.0\n",
              "Ô½crosoft     187517            7                  0.0\n",
              "\n",
              "[340556 rows x 3 columns]"
            ]
          },
          "execution_count": 24,
          "metadata": {},
          "output_type": "execute_result"
        }
      ],
      "source": [
        "books.groupby('ISBN').sum()"
      ]
    },
    {
      "cell_type": "markdown",
      "metadata": {
        "id": "r1dZZ31L1Mcv"
      },
      "source": [
        "# Data Preparation"
      ]
    },
    {
      "cell_type": "markdown",
      "metadata": {
        "id": "OUFkgQqR1Mcv"
      },
      "source": [
        "Pada tahap ini dilakukan beberapa teknik penting untuk mempersiapkan data agar siap digunakan dalam pengembangan sistem rekomendasi berbasis konten, yaitu:\n",
        "\n",
        "- **Menghilangkan missing value** untuk memastikan kualitas data yang bersih dan lengkap.\n",
        "- **Menyamakan jenis buku berdasarkan ISBN**, karena pada sistem rekomendasi berbasis konten satu nomor ISBN harus mewakili satu judul buku yang unik.\n",
        "\n",
        "Persiapan ini penting agar data valid dan konsisten selama proses pelatihan model."
      ]
    },
    {
      "cell_type": "markdown",
      "metadata": {
        "id": "g6Zn52TY1Mcw"
      },
      "source": [
        "Saat mencoba mengonversi kolom `Year-Of-Publication` ke tipe data integer, muncul error:\n",
        "\n",
        "Hal ini menunjukkan bahwa terdapat data yang seharusnya berupa tahun, namun justru berisi teks. Setelah ditelusuri, ditemukan **dua nilai tidak valid**, yaitu:\n",
        "\n",
        "- `'DK Publishing Inc'`\n",
        "- `'Gallimard'`\n",
        "\n",
        "Nilai-nilai ini merupakan **kesalahan input** dan perlu dihapus dari dataset agar tidak mengganggu proses konversi tipe data."
      ]
    },
    {
      "cell_type": "code",
      "execution_count": null,
      "metadata": {
        "id": "0gFtr7Cd1Mcw",
        "outputId": "653bc190-fe55-4b27-dd40-7aaf0763a4bc"
      },
      "outputs": [
        {
          "data": {
            "text/html": [
              "<div>\n",
              "<style scoped>\n",
              "    .dataframe tbody tr th:only-of-type {\n",
              "        vertical-align: middle;\n",
              "    }\n",
              "\n",
              "    .dataframe tbody tr th {\n",
              "        vertical-align: top;\n",
              "    }\n",
              "\n",
              "    .dataframe thead th {\n",
              "        text-align: right;\n",
              "    }\n",
              "</style>\n",
              "<table border=\"1\" class=\"dataframe\">\n",
              "  <thead>\n",
              "    <tr style=\"text-align: right;\">\n",
              "      <th></th>\n",
              "      <th>ISBN</th>\n",
              "      <th>Book-Title</th>\n",
              "      <th>Book-Author</th>\n",
              "      <th>Year-Of-Publication</th>\n",
              "      <th>Publisher</th>\n",
              "      <th>Image-URL-S</th>\n",
              "      <th>Image-URL-M</th>\n",
              "      <th>Image-URL-L</th>\n",
              "    </tr>\n",
              "  </thead>\n",
              "  <tbody>\n",
              "    <tr>\n",
              "      <th>209538</th>\n",
              "      <td>078946697X</td>\n",
              "      <td>DK Readers: Creating the X-Men, How It All Beg...</td>\n",
              "      <td>2000</td>\n",
              "      <td>DK Publishing Inc</td>\n",
              "      <td>http://images.amazon.com/images/P/078946697X.0...</td>\n",
              "      <td>http://images.amazon.com/images/P/078946697X.0...</td>\n",
              "      <td>http://images.amazon.com/images/P/078946697X.0...</td>\n",
              "      <td>NaN</td>\n",
              "    </tr>\n",
              "    <tr>\n",
              "      <th>220731</th>\n",
              "      <td>2070426769</td>\n",
              "      <td>Peuple du ciel, suivi de 'Les Bergers\\\";Jean-M...</td>\n",
              "      <td>2003</td>\n",
              "      <td>Gallimard</td>\n",
              "      <td>http://images.amazon.com/images/P/2070426769.0...</td>\n",
              "      <td>http://images.amazon.com/images/P/2070426769.0...</td>\n",
              "      <td>http://images.amazon.com/images/P/2070426769.0...</td>\n",
              "      <td>NaN</td>\n",
              "    </tr>\n",
              "    <tr>\n",
              "      <th>221678</th>\n",
              "      <td>0789466953</td>\n",
              "      <td>DK Readers: Creating the X-Men, How Comic Book...</td>\n",
              "      <td>2000</td>\n",
              "      <td>DK Publishing Inc</td>\n",
              "      <td>http://images.amazon.com/images/P/0789466953.0...</td>\n",
              "      <td>http://images.amazon.com/images/P/0789466953.0...</td>\n",
              "      <td>http://images.amazon.com/images/P/0789466953.0...</td>\n",
              "      <td>NaN</td>\n",
              "    </tr>\n",
              "  </tbody>\n",
              "</table>\n",
              "</div>"
            ],
            "text/plain": [
              "              ISBN                                         Book-Title  \\\n",
              "209538  078946697X  DK Readers: Creating the X-Men, How It All Beg...   \n",
              "220731  2070426769  Peuple du ciel, suivi de 'Les Bergers\\\";Jean-M...   \n",
              "221678  0789466953  DK Readers: Creating the X-Men, How Comic Book...   \n",
              "\n",
              "       Book-Author Year-Of-Publication  \\\n",
              "209538        2000   DK Publishing Inc   \n",
              "220731        2003           Gallimard   \n",
              "221678        2000   DK Publishing Inc   \n",
              "\n",
              "                                                Publisher  \\\n",
              "209538  http://images.amazon.com/images/P/078946697X.0...   \n",
              "220731  http://images.amazon.com/images/P/2070426769.0...   \n",
              "221678  http://images.amazon.com/images/P/0789466953.0...   \n",
              "\n",
              "                                              Image-URL-S  \\\n",
              "209538  http://images.amazon.com/images/P/078946697X.0...   \n",
              "220731  http://images.amazon.com/images/P/2070426769.0...   \n",
              "221678  http://images.amazon.com/images/P/0789466953.0...   \n",
              "\n",
              "                                              Image-URL-M Image-URL-L  \n",
              "209538  http://images.amazon.com/images/P/078946697X.0...         NaN  \n",
              "220731  http://images.amazon.com/images/P/2070426769.0...         NaN  \n",
              "221678  http://images.amazon.com/images/P/0789466953.0...         NaN  "
            ]
          },
          "execution_count": 11,
          "metadata": {},
          "output_type": "execute_result"
        }
      ],
      "source": [
        "books[(books['Year-Of-Publication'] == 'DK Publishing Inc') | (books['Year-Of-Publication'] == 'Gallimard')]"
      ]
    },
    {
      "cell_type": "markdown",
      "metadata": {
        "id": "t_c4-FD_1Mcx"
      },
      "source": [
        "Menghapus value pada 'Year-Of-Publication' yang bernilai teks tersebut."
      ]
    },
    {
      "cell_type": "code",
      "execution_count": null,
      "metadata": {
        "id": "xdWehYP81Mcx",
        "outputId": "d4e5cabf-2318-4a4e-bc4e-1ccea466be6b"
      },
      "outputs": [
        {
          "data": {
            "text/html": [
              "<div>\n",
              "<style scoped>\n",
              "    .dataframe tbody tr th:only-of-type {\n",
              "        vertical-align: middle;\n",
              "    }\n",
              "\n",
              "    .dataframe tbody tr th {\n",
              "        vertical-align: top;\n",
              "    }\n",
              "\n",
              "    .dataframe thead th {\n",
              "        text-align: right;\n",
              "    }\n",
              "</style>\n",
              "<table border=\"1\" class=\"dataframe\">\n",
              "  <thead>\n",
              "    <tr style=\"text-align: right;\">\n",
              "      <th></th>\n",
              "      <th>ISBN</th>\n",
              "      <th>Book-Title</th>\n",
              "      <th>Book-Author</th>\n",
              "      <th>Year-Of-Publication</th>\n",
              "      <th>Publisher</th>\n",
              "      <th>Image-URL-S</th>\n",
              "      <th>Image-URL-M</th>\n",
              "      <th>Image-URL-L</th>\n",
              "    </tr>\n",
              "  </thead>\n",
              "  <tbody>\n",
              "  </tbody>\n",
              "</table>\n",
              "</div>"
            ],
            "text/plain": [
              "Empty DataFrame\n",
              "Columns: [ISBN, Book-Title, Book-Author, Year-Of-Publication, Publisher, Image-URL-S, Image-URL-M, Image-URL-L]\n",
              "Index: []"
            ]
          },
          "execution_count": 12,
          "metadata": {},
          "output_type": "execute_result"
        }
      ],
      "source": [
        "temp = (books['Year-Of-Publication'] == 'DK Publishing Inc') | (books['Year-Of-Publication'] == 'Gallimard')\n",
        "books = books.drop(books[temp].index)\n",
        "books[(books['Year-Of-Publication'] == 'DK Publishing Inc') | (books['Year-Of-Publication'] == 'Gallimard')]"
      ]
    },
    {
      "cell_type": "markdown",
      "metadata": {
        "id": "FvIQidk11Mcy"
      },
      "source": [
        "Mengubah tipe data pada 'Year-Of-Publication'."
      ]
    },
    {
      "cell_type": "code",
      "execution_count": null,
      "metadata": {
        "id": "GQf47Gkh1Mcy",
        "outputId": "7af0b7e3-778c-41ac-a767-9b8fad86408f"
      },
      "outputs": [
        {
          "name": "stdout",
          "output_type": "stream",
          "text": [
            "ISBN                   object\n",
            "Book-Title             object\n",
            "Book-Author            object\n",
            "Year-Of-Publication     int32\n",
            "Publisher              object\n",
            "Image-URL-S            object\n",
            "Image-URL-M            object\n",
            "Image-URL-L            object\n",
            "dtype: object\n"
          ]
        }
      ],
      "source": [
        "books['Year-Of-Publication'] = books['Year-Of-Publication'].astype(int)\n",
        "print(books.dtypes)"
      ]
    },
    {
      "cell_type": "markdown",
      "metadata": {
        "id": "SH7tG9wf1Mcz"
      },
      "source": [
        "Setelah kolom `Year-Of-Publication` berhasil dikonversi ke tipe integer, selanjutnya dilakukan pembersihan data dengan menghapus kolom yang tidak relevan untuk pengembangan model rekomendasi berbasis konten.\n",
        "\n",
        "Karena sistem rekomendasi akan fokus pada informasi buku berupa **judul** dan **penulis**, maka kolom yang berisi URL gambar (`Image-URL-S`, `Image-URL-M`, `Image-URL-L`) tidak diperlukan dan dapat dihapus untuk menyederhanakan dataset serta mengurangi beban komputasi."
      ]
    },
    {
      "cell_type": "code",
      "execution_count": null,
      "metadata": {
        "id": "JmMiXQWf1Mcz",
        "outputId": "83060801-49d7-4dfe-896a-4f999c73c67b"
      },
      "outputs": [
        {
          "data": {
            "text/html": [
              "<div>\n",
              "<style scoped>\n",
              "    .dataframe tbody tr th:only-of-type {\n",
              "        vertical-align: middle;\n",
              "    }\n",
              "\n",
              "    .dataframe tbody tr th {\n",
              "        vertical-align: top;\n",
              "    }\n",
              "\n",
              "    .dataframe thead th {\n",
              "        text-align: right;\n",
              "    }\n",
              "</style>\n",
              "<table border=\"1\" class=\"dataframe\">\n",
              "  <thead>\n",
              "    <tr style=\"text-align: right;\">\n",
              "      <th></th>\n",
              "      <th>ISBN</th>\n",
              "      <th>Book-Title</th>\n",
              "      <th>Book-Author</th>\n",
              "      <th>Year-Of-Publication</th>\n",
              "      <th>Publisher</th>\n",
              "    </tr>\n",
              "  </thead>\n",
              "  <tbody>\n",
              "    <tr>\n",
              "      <th>0</th>\n",
              "      <td>0195153448</td>\n",
              "      <td>Classical Mythology</td>\n",
              "      <td>Mark P. O. Morford</td>\n",
              "      <td>2002</td>\n",
              "      <td>Oxford University Press</td>\n",
              "    </tr>\n",
              "    <tr>\n",
              "      <th>1</th>\n",
              "      <td>0002005018</td>\n",
              "      <td>Clara Callan</td>\n",
              "      <td>Richard Bruce Wright</td>\n",
              "      <td>2001</td>\n",
              "      <td>HarperFlamingo Canada</td>\n",
              "    </tr>\n",
              "    <tr>\n",
              "      <th>2</th>\n",
              "      <td>0060973129</td>\n",
              "      <td>Decision in Normandy</td>\n",
              "      <td>Carlo D'Este</td>\n",
              "      <td>1991</td>\n",
              "      <td>HarperPerennial</td>\n",
              "    </tr>\n",
              "    <tr>\n",
              "      <th>3</th>\n",
              "      <td>0374157065</td>\n",
              "      <td>Flu: The Story of the Great Influenza Pandemic...</td>\n",
              "      <td>Gina Bari Kolata</td>\n",
              "      <td>1999</td>\n",
              "      <td>Farrar Straus Giroux</td>\n",
              "    </tr>\n",
              "    <tr>\n",
              "      <th>4</th>\n",
              "      <td>0393045218</td>\n",
              "      <td>The Mummies of Urumchi</td>\n",
              "      <td>E. J. W. Barber</td>\n",
              "      <td>1999</td>\n",
              "      <td>W. W. Norton &amp;amp; Company</td>\n",
              "    </tr>\n",
              "  </tbody>\n",
              "</table>\n",
              "</div>"
            ],
            "text/plain": [
              "         ISBN                                         Book-Title  \\\n",
              "0  0195153448                                Classical Mythology   \n",
              "1  0002005018                                       Clara Callan   \n",
              "2  0060973129                               Decision in Normandy   \n",
              "3  0374157065  Flu: The Story of the Great Influenza Pandemic...   \n",
              "4  0393045218                             The Mummies of Urumchi   \n",
              "\n",
              "            Book-Author  Year-Of-Publication                   Publisher  \n",
              "0    Mark P. O. Morford                 2002     Oxford University Press  \n",
              "1  Richard Bruce Wright                 2001       HarperFlamingo Canada  \n",
              "2          Carlo D'Este                 1991             HarperPerennial  \n",
              "3      Gina Bari Kolata                 1999        Farrar Straus Giroux  \n",
              "4       E. J. W. Barber                 1999  W. W. Norton &amp; Company  "
            ]
          },
          "execution_count": 14,
          "metadata": {},
          "output_type": "execute_result"
        }
      ],
      "source": [
        "# Menghapus kolom Image-URL semua ukuran\n",
        "books.drop(labels=['Image-URL-S', 'Image-URL-M', 'Image-URL-L'], axis=1, inplace=True)\n",
        "\n",
        "books.head()"
      ]
    },
    {
      "cell_type": "markdown",
      "metadata": {
        "id": "9WwTRDLE1Mc0"
      },
      "source": [
        "Setelah di hapus kolom Image-URL sekarang dataset hanya tersisa 5 kolom/variabel saja."
      ]
    },
    {
      "cell_type": "code",
      "execution_count": null,
      "metadata": {
        "id": "DX3uz-AA1Mc0",
        "outputId": "c1b8419f-0122-4a2f-f3d2-f355858e498e"
      },
      "outputs": [
        {
          "name": "stdout",
          "output_type": "stream",
          "text": [
            "Jumlah nomor ISBN Buku: 271357\n",
            "Jumlah judul buku: 242132\n",
            "Jumlah penulis buku: 102022\n",
            "Jumlah Tahun Publikasi: 116\n",
            "Jumlah nama penerbit: 16805\n"
          ]
        }
      ],
      "source": [
        "print(\"Jumlah nomor ISBN Buku:\", len(books['ISBN'].unique()))\n",
        "print(\"Jumlah judul buku:\", len(books['Book-Title'].unique()))\n",
        "print('Jumlah penulis buku:', len(books['Book-Author'].unique()))\n",
        "print('Jumlah Tahun Publikasi:', len(books['Year-Of-Publication'].unique()))\n",
        "print('Jumlah nama penerbit:', len(books['Publisher'].unique()))"
      ]
    },
    {
      "cell_type": "markdown",
      "metadata": {
        "id": "1KiWQ17q1Mc1"
      },
      "source": [
        "Berdasarkan output sebelumnya, diketahui:\n",
        "\n",
        "- Jumlah **judul buku** unik: 242.135\n",
        "- Jumlah **nomor ISBN** unik: 271.357\n",
        "\n",
        "Hal ini mengindikasikan adanya buku yang **tidak memiliki nomor ISBN unik** atau terjadi duplikasi pada kolom ISBN, padahal setiap buku harus memiliki satu nomor ISBN yang unik.\n",
        "\n",
        "### Tindakan selanjutnya:\n",
        "Dataset akan difilter untuk memastikan setiap buku memiliki nomor ISBN yang valid dan unik, guna menjaga konsistensi data dalam proses pengembangan model rekomendasi."
      ]
    },
    {
      "cell_type": "markdown",
      "metadata": {
        "id": "5rcWVg5O1Mc1"
      },
      "source": [
        "### Mengatasi Missing Value"
      ]
    },
    {
      "cell_type": "code",
      "execution_count": null,
      "metadata": {
        "id": "z6CzoJkp1Mc1",
        "outputId": "c6b32969-f389-479a-a5c2-a3447bfb5c66"
      },
      "outputs": [
        {
          "data": {
            "text/plain": [
              "User-ID                     0\n",
              "ISBN                        0\n",
              "Book-Rating                 0\n",
              "Book-Title             118648\n",
              "Book-Author            118649\n",
              "Year-Of-Publication    118648\n",
              "Publisher              118650\n",
              "dtype: int64"
            ]
          },
          "execution_count": 25,
          "metadata": {},
          "output_type": "execute_result"
        }
      ],
      "source": [
        "# Cek missing value dengan fungsi isnull()\n",
        "books.isnull().sum()"
      ]
    },
    {
      "cell_type": "markdown",
      "metadata": {
        "id": "CLT0rfES1Mc2"
      },
      "source": [
        "Dari analisis diketahui bahwa sebagian besar fitur memiliki missing value, kecuali kolom `User-ID`, `ISBN`, dan `Book-Rating` yang bersih tanpa missing value.\n",
        "\n",
        "Kolom dengan missing value terbanyak adalah `Publisher` dengan 118.650 data kosong. Jumlah ini relatif kecil dibanding total data (1.149.780), sehingga penghapusan data dengan missing value dianggap layak.\n",
        "\n",
        "Langkah selanjutnya adalah menghapus baris yang mengandung missing value dan menyimpan hasilnya dalam variabel baru bernama `all_books_clean`."
      ]
    },
    {
      "cell_type": "code",
      "execution_count": null,
      "metadata": {
        "id": "KGp8RKp51Mc2",
        "outputId": "0f726843-a396-4bb4-e606-4af61baae610"
      },
      "outputs": [
        {
          "data": {
            "text/html": [
              "<div>\n",
              "<style scoped>\n",
              "    .dataframe tbody tr th:only-of-type {\n",
              "        vertical-align: middle;\n",
              "    }\n",
              "\n",
              "    .dataframe tbody tr th {\n",
              "        vertical-align: top;\n",
              "    }\n",
              "\n",
              "    .dataframe thead th {\n",
              "        text-align: right;\n",
              "    }\n",
              "</style>\n",
              "<table border=\"1\" class=\"dataframe\">\n",
              "  <thead>\n",
              "    <tr style=\"text-align: right;\">\n",
              "      <th></th>\n",
              "      <th>User-ID</th>\n",
              "      <th>ISBN</th>\n",
              "      <th>Book-Rating</th>\n",
              "      <th>Book-Title</th>\n",
              "      <th>Book-Author</th>\n",
              "      <th>Year-Of-Publication</th>\n",
              "      <th>Publisher</th>\n",
              "    </tr>\n",
              "  </thead>\n",
              "  <tbody>\n",
              "    <tr>\n",
              "      <th>0</th>\n",
              "      <td>276725</td>\n",
              "      <td>034545104X</td>\n",
              "      <td>0</td>\n",
              "      <td>Flesh Tones: A Novel</td>\n",
              "      <td>M. J. Rose</td>\n",
              "      <td>2002.0</td>\n",
              "      <td>Ballantine Books</td>\n",
              "    </tr>\n",
              "    <tr>\n",
              "      <th>1</th>\n",
              "      <td>276726</td>\n",
              "      <td>0155061224</td>\n",
              "      <td>5</td>\n",
              "      <td>Rites of Passage</td>\n",
              "      <td>Judith Rae</td>\n",
              "      <td>2001.0</td>\n",
              "      <td>Heinle</td>\n",
              "    </tr>\n",
              "    <tr>\n",
              "      <th>2</th>\n",
              "      <td>276727</td>\n",
              "      <td>0446520802</td>\n",
              "      <td>0</td>\n",
              "      <td>The Notebook</td>\n",
              "      <td>Nicholas Sparks</td>\n",
              "      <td>1996.0</td>\n",
              "      <td>Warner Books</td>\n",
              "    </tr>\n",
              "    <tr>\n",
              "      <th>3</th>\n",
              "      <td>276729</td>\n",
              "      <td>052165615X</td>\n",
              "      <td>3</td>\n",
              "      <td>Help!: Level 1</td>\n",
              "      <td>Philip Prowse</td>\n",
              "      <td>1999.0</td>\n",
              "      <td>Cambridge University Press</td>\n",
              "    </tr>\n",
              "    <tr>\n",
              "      <th>4</th>\n",
              "      <td>276729</td>\n",
              "      <td>0521795028</td>\n",
              "      <td>6</td>\n",
              "      <td>The Amsterdam Connection : Level 4 (Cambridge ...</td>\n",
              "      <td>Sue Leather</td>\n",
              "      <td>2001.0</td>\n",
              "      <td>Cambridge University Press</td>\n",
              "    </tr>\n",
              "    <tr>\n",
              "      <th>...</th>\n",
              "      <td>...</td>\n",
              "      <td>...</td>\n",
              "      <td>...</td>\n",
              "      <td>...</td>\n",
              "      <td>...</td>\n",
              "      <td>...</td>\n",
              "      <td>...</td>\n",
              "    </tr>\n",
              "    <tr>\n",
              "      <th>1149774</th>\n",
              "      <td>276704</td>\n",
              "      <td>0876044011</td>\n",
              "      <td>0</td>\n",
              "      <td>Edgar Cayce on the Akashic Records: The Book o...</td>\n",
              "      <td>Kevin J. Todeschi</td>\n",
              "      <td>1998.0</td>\n",
              "      <td>A.R.E. Press (Association of Research &amp;amp; Enlig</td>\n",
              "    </tr>\n",
              "    <tr>\n",
              "      <th>1149775</th>\n",
              "      <td>276704</td>\n",
              "      <td>1563526298</td>\n",
              "      <td>9</td>\n",
              "      <td>Get Clark Smart : The Ultimate Guide for the S...</td>\n",
              "      <td>Clark Howard</td>\n",
              "      <td>2000.0</td>\n",
              "      <td>Longstreet Press</td>\n",
              "    </tr>\n",
              "    <tr>\n",
              "      <th>1149776</th>\n",
              "      <td>276706</td>\n",
              "      <td>0679447156</td>\n",
              "      <td>0</td>\n",
              "      <td>Eight Weeks to Optimum Health: A Proven Progra...</td>\n",
              "      <td>Andrew Weil</td>\n",
              "      <td>1997.0</td>\n",
              "      <td>Alfred A. Knopf</td>\n",
              "    </tr>\n",
              "    <tr>\n",
              "      <th>1149777</th>\n",
              "      <td>276709</td>\n",
              "      <td>0515107662</td>\n",
              "      <td>10</td>\n",
              "      <td>The Sherbrooke Bride (Bride Trilogy (Paperback))</td>\n",
              "      <td>Catherine Coulter</td>\n",
              "      <td>1996.0</td>\n",
              "      <td>Jove Books</td>\n",
              "    </tr>\n",
              "    <tr>\n",
              "      <th>1149778</th>\n",
              "      <td>276721</td>\n",
              "      <td>0590442449</td>\n",
              "      <td>10</td>\n",
              "      <td>Fourth Grade Rats</td>\n",
              "      <td>Jerry Spinelli</td>\n",
              "      <td>1996.0</td>\n",
              "      <td>Scholastic</td>\n",
              "    </tr>\n",
              "  </tbody>\n",
              "</table>\n",
              "<p>1031129 rows × 7 columns</p>\n",
              "</div>"
            ],
            "text/plain": [
              "         User-ID        ISBN  Book-Rating  \\\n",
              "0         276725  034545104X            0   \n",
              "1         276726  0155061224            5   \n",
              "2         276727  0446520802            0   \n",
              "3         276729  052165615X            3   \n",
              "4         276729  0521795028            6   \n",
              "...          ...         ...          ...   \n",
              "1149774   276704  0876044011            0   \n",
              "1149775   276704  1563526298            9   \n",
              "1149776   276706  0679447156            0   \n",
              "1149777   276709  0515107662           10   \n",
              "1149778   276721  0590442449           10   \n",
              "\n",
              "                                                Book-Title        Book-Author  \\\n",
              "0                                     Flesh Tones: A Novel         M. J. Rose   \n",
              "1                                         Rites of Passage         Judith Rae   \n",
              "2                                             The Notebook    Nicholas Sparks   \n",
              "3                                           Help!: Level 1      Philip Prowse   \n",
              "4        The Amsterdam Connection : Level 4 (Cambridge ...        Sue Leather   \n",
              "...                                                    ...                ...   \n",
              "1149774  Edgar Cayce on the Akashic Records: The Book o...  Kevin J. Todeschi   \n",
              "1149775  Get Clark Smart : The Ultimate Guide for the S...       Clark Howard   \n",
              "1149776  Eight Weeks to Optimum Health: A Proven Progra...        Andrew Weil   \n",
              "1149777   The Sherbrooke Bride (Bride Trilogy (Paperback))  Catherine Coulter   \n",
              "1149778                                  Fourth Grade Rats     Jerry Spinelli   \n",
              "\n",
              "         Year-Of-Publication  \\\n",
              "0                     2002.0   \n",
              "1                     2001.0   \n",
              "2                     1996.0   \n",
              "3                     1999.0   \n",
              "4                     2001.0   \n",
              "...                      ...   \n",
              "1149774               1998.0   \n",
              "1149775               2000.0   \n",
              "1149776               1997.0   \n",
              "1149777               1996.0   \n",
              "1149778               1996.0   \n",
              "\n",
              "                                                 Publisher  \n",
              "0                                         Ballantine Books  \n",
              "1                                                   Heinle  \n",
              "2                                             Warner Books  \n",
              "3                               Cambridge University Press  \n",
              "4                               Cambridge University Press  \n",
              "...                                                    ...  \n",
              "1149774  A.R.E. Press (Association of Research &amp; Enlig  \n",
              "1149775                                   Longstreet Press  \n",
              "1149776                                    Alfred A. Knopf  \n",
              "1149777                                         Jove Books  \n",
              "1149778                                         Scholastic  \n",
              "\n",
              "[1031129 rows x 7 columns]"
            ]
          },
          "execution_count": 26,
          "metadata": {},
          "output_type": "execute_result"
        }
      ],
      "source": [
        "all_books_clean = books.dropna()\n",
        "all_books_clean"
      ]
    },
    {
      "cell_type": "code",
      "execution_count": null,
      "metadata": {
        "id": "LJUiFtCg1Mc3",
        "outputId": "08a7245b-b107-4223-bd79-f162d1c1e0d8"
      },
      "outputs": [
        {
          "data": {
            "text/plain": [
              "User-ID                0\n",
              "ISBN                   0\n",
              "Book-Rating            0\n",
              "Book-Title             0\n",
              "Book-Author            0\n",
              "Year-Of-Publication    0\n",
              "Publisher              0\n",
              "dtype: int64"
            ]
          },
          "execution_count": 27,
          "metadata": {},
          "output_type": "execute_result"
        }
      ],
      "source": [
        "all_books_clean.isnull().sum()"
      ]
    },
    {
      "cell_type": "markdown",
      "metadata": {
        "id": "_jFTRN421Mc3"
      },
      "source": [
        "Sekarang, dataset sudah bersih dan bisa lanjut ke tahap berikutnya."
      ]
    },
    {
      "cell_type": "markdown",
      "metadata": {
        "id": "kDUKrjMM1Mc4"
      },
      "source": [
        "### Menyamakan jenis buku berdasarkan ISBN"
      ]
    },
    {
      "cell_type": "markdown",
      "metadata": {
        "id": "G05RtABq1Mc4"
      },
      "source": [
        "Sebelum tahap pemodelan, penting untuk memastikan bahwa setiap nomor ISBN hanya mewakili **satu judul buku** saja.\n",
        "\n",
        "Jika terdapat nomor ISBN yang sama dengan judul berbeda, hal ini dapat menyebabkan bias dan inkonsistensi data.\n",
        "\n",
        "Oleh karena itu, perlu dilakukan proses validasi dan penyamaan judul agar data menjadi konsisten dan siap untuk model rekomendasi."
      ]
    },
    {
      "cell_type": "markdown",
      "metadata": {
        "id": "Jy6zMwCg1Mc4"
      },
      "source": [
        "Lakukan proses pengecekan ulang data setelah proses cleaning pada tahap sebelumnya. Buat variabel baru bernama fix_books untuk menyimpan dataframe."
      ]
    },
    {
      "cell_type": "code",
      "execution_count": null,
      "metadata": {
        "id": "bwF9ctkS1Mc4",
        "outputId": "13969e74-9a73-45af-d925-fc074a6a6f35"
      },
      "outputs": [
        {
          "data": {
            "text/html": [
              "<div>\n",
              "<style scoped>\n",
              "    .dataframe tbody tr th:only-of-type {\n",
              "        vertical-align: middle;\n",
              "    }\n",
              "\n",
              "    .dataframe tbody tr th {\n",
              "        vertical-align: top;\n",
              "    }\n",
              "\n",
              "    .dataframe thead th {\n",
              "        text-align: right;\n",
              "    }\n",
              "</style>\n",
              "<table border=\"1\" class=\"dataframe\">\n",
              "  <thead>\n",
              "    <tr style=\"text-align: right;\">\n",
              "      <th></th>\n",
              "      <th>User-ID</th>\n",
              "      <th>ISBN</th>\n",
              "      <th>Book-Rating</th>\n",
              "      <th>Book-Title</th>\n",
              "      <th>Book-Author</th>\n",
              "      <th>Year-Of-Publication</th>\n",
              "      <th>Publisher</th>\n",
              "    </tr>\n",
              "  </thead>\n",
              "  <tbody>\n",
              "    <tr>\n",
              "      <th>703628</th>\n",
              "      <td>171118</td>\n",
              "      <td>0000913154</td>\n",
              "      <td>8</td>\n",
              "      <td>The Way Things Work: An Illustrated Encycloped...</td>\n",
              "      <td>C. van Amerongen (translator)</td>\n",
              "      <td>1967.0</td>\n",
              "      <td>Simon &amp;amp; Schuster</td>\n",
              "    </tr>\n",
              "    <tr>\n",
              "      <th>866078</th>\n",
              "      <td>209516</td>\n",
              "      <td>0001010565</td>\n",
              "      <td>0</td>\n",
              "      <td>Mog's Christmas</td>\n",
              "      <td>Judith Kerr</td>\n",
              "      <td>1992.0</td>\n",
              "      <td>Collins</td>\n",
              "    </tr>\n",
              "    <tr>\n",
              "      <th>357256</th>\n",
              "      <td>86123</td>\n",
              "      <td>0001010565</td>\n",
              "      <td>0</td>\n",
              "      <td>Mog's Christmas</td>\n",
              "      <td>Judith Kerr</td>\n",
              "      <td>1992.0</td>\n",
              "      <td>Collins</td>\n",
              "    </tr>\n",
              "    <tr>\n",
              "      <th>103677</th>\n",
              "      <td>23902</td>\n",
              "      <td>0001046438</td>\n",
              "      <td>9</td>\n",
              "      <td>Liar</td>\n",
              "      <td>Stephen Fry</td>\n",
              "      <td>0.0</td>\n",
              "      <td>Harpercollins Uk</td>\n",
              "    </tr>\n",
              "    <tr>\n",
              "      <th>807953</th>\n",
              "      <td>196149</td>\n",
              "      <td>0001046713</td>\n",
              "      <td>0</td>\n",
              "      <td>Twopence to Cross the Mersey</td>\n",
              "      <td>Helen Forrester</td>\n",
              "      <td>1992.0</td>\n",
              "      <td>HarperCollins Publishers</td>\n",
              "    </tr>\n",
              "    <tr>\n",
              "      <th>...</th>\n",
              "      <td>...</td>\n",
              "      <td>...</td>\n",
              "      <td>...</td>\n",
              "      <td>...</td>\n",
              "      <td>...</td>\n",
              "      <td>...</td>\n",
              "      <td>...</td>\n",
              "    </tr>\n",
              "    <tr>\n",
              "      <th>1100731</th>\n",
              "      <td>264317</td>\n",
              "      <td>B000234N76</td>\n",
              "      <td>0</td>\n",
              "      <td>Falling Angels</td>\n",
              "      <td>Tracy Chevalier</td>\n",
              "      <td>2001.0</td>\n",
              "      <td>E P Dutton</td>\n",
              "    </tr>\n",
              "    <tr>\n",
              "      <th>423108</th>\n",
              "      <td>100906</td>\n",
              "      <td>B000234NC6</td>\n",
              "      <td>0</td>\n",
              "      <td>It Must've Been Something I Ate: The Return of...</td>\n",
              "      <td>Jeffrey Steingarten</td>\n",
              "      <td>2002.0</td>\n",
              "      <td>Knopf</td>\n",
              "    </tr>\n",
              "    <tr>\n",
              "      <th>419279</th>\n",
              "      <td>100088</td>\n",
              "      <td>B00029DGGO</td>\n",
              "      <td>0</td>\n",
              "      <td>Good Wife Strikes Back, The</td>\n",
              "      <td>Elizabeth Buchan</td>\n",
              "      <td>0.0</td>\n",
              "      <td>Viking Adult</td>\n",
              "    </tr>\n",
              "    <tr>\n",
              "      <th>743545</th>\n",
              "      <td>179791</td>\n",
              "      <td>B0002JV9PY</td>\n",
              "      <td>0</td>\n",
              "      <td>The Blockade Runners</td>\n",
              "      <td>Jules Verne</td>\n",
              "      <td>0.0</td>\n",
              "      <td>Digireads.com</td>\n",
              "    </tr>\n",
              "    <tr>\n",
              "      <th>743546</th>\n",
              "      <td>179791</td>\n",
              "      <td>B0002K6K8O</td>\n",
              "      <td>0</td>\n",
              "      <td>The Underground City</td>\n",
              "      <td>Jules Verne</td>\n",
              "      <td>0.0</td>\n",
              "      <td>Digireads.com</td>\n",
              "    </tr>\n",
              "  </tbody>\n",
              "</table>\n",
              "<p>1031129 rows × 7 columns</p>\n",
              "</div>"
            ],
            "text/plain": [
              "         User-ID        ISBN  Book-Rating  \\\n",
              "703628    171118  0000913154            8   \n",
              "866078    209516  0001010565            0   \n",
              "357256     86123  0001010565            0   \n",
              "103677     23902  0001046438            9   \n",
              "807953    196149  0001046713            0   \n",
              "...          ...         ...          ...   \n",
              "1100731   264317  B000234N76            0   \n",
              "423108    100906  B000234NC6            0   \n",
              "419279    100088  B00029DGGO            0   \n",
              "743545    179791  B0002JV9PY            0   \n",
              "743546    179791  B0002K6K8O            0   \n",
              "\n",
              "                                                Book-Title  \\\n",
              "703628   The Way Things Work: An Illustrated Encycloped...   \n",
              "866078                                     Mog's Christmas   \n",
              "357256                                     Mog's Christmas   \n",
              "103677                                                Liar   \n",
              "807953                        Twopence to Cross the Mersey   \n",
              "...                                                    ...   \n",
              "1100731                                     Falling Angels   \n",
              "423108   It Must've Been Something I Ate: The Return of...   \n",
              "419279                         Good Wife Strikes Back, The   \n",
              "743545                                The Blockade Runners   \n",
              "743546                                The Underground City   \n",
              "\n",
              "                           Book-Author  Year-Of-Publication  \\\n",
              "703628   C. van Amerongen (translator)               1967.0   \n",
              "866078                     Judith Kerr               1992.0   \n",
              "357256                     Judith Kerr               1992.0   \n",
              "103677                     Stephen Fry                  0.0   \n",
              "807953                 Helen Forrester               1992.0   \n",
              "...                                ...                  ...   \n",
              "1100731                Tracy Chevalier               2001.0   \n",
              "423108             Jeffrey Steingarten               2002.0   \n",
              "419279                Elizabeth Buchan                  0.0   \n",
              "743545                     Jules Verne                  0.0   \n",
              "743546                     Jules Verne                  0.0   \n",
              "\n",
              "                        Publisher  \n",
              "703628       Simon &amp; Schuster  \n",
              "866078                    Collins  \n",
              "357256                    Collins  \n",
              "103677           Harpercollins Uk  \n",
              "807953   HarperCollins Publishers  \n",
              "...                           ...  \n",
              "1100731                E P Dutton  \n",
              "423108                      Knopf  \n",
              "419279               Viking Adult  \n",
              "743545              Digireads.com  \n",
              "743546              Digireads.com  \n",
              "\n",
              "[1031129 rows x 7 columns]"
            ]
          },
          "execution_count": 28,
          "metadata": {},
          "output_type": "execute_result"
        }
      ],
      "source": [
        "# Mengurutkan buku berdasarkan ISBN kemudian memasukkannya ke dalam variabel fix_books\n",
        "fix_books = all_books_clean.sort_values('ISBN', ascending=True)\n",
        "fix_books"
      ]
    },
    {
      "cell_type": "code",
      "execution_count": null,
      "metadata": {
        "id": "wNEBy8Lw1Mc5",
        "outputId": "57f221b5-c42b-49fe-f504-a818918f5cac"
      },
      "outputs": [
        {
          "data": {
            "text/plain": [
              "270145"
            ]
          },
          "execution_count": 29,
          "metadata": {},
          "output_type": "execute_result"
        }
      ],
      "source": [
        "# Mengecek berapa jumlah fix_books\n",
        "len(fix_books['ISBN'].unique())"
      ]
    },
    {
      "cell_type": "code",
      "execution_count": null,
      "metadata": {
        "id": "oRk8T2Tj1Mc5",
        "outputId": "59dfe3ba-c94b-4b94-a534-3c302ecaf3b9"
      },
      "outputs": [
        {
          "data": {
            "text/plain": [
              "241066"
            ]
          },
          "execution_count": 30,
          "metadata": {},
          "output_type": "execute_result"
        }
      ],
      "source": [
        "#cek jumlah judul buku\n",
        "len(fix_books['Book-Title'].unique())"
      ]
    },
    {
      "cell_type": "markdown",
      "metadata": {
        "id": "AnJGa6dq1Mc6"
      },
      "source": [
        "Diketahui terdapat nomor ISBN yang sama dengan judul buku berbeda, sehingga perlu dilakukan pembersihan data untuk memastikan setiap ISBN hanya muncul sekali.\n",
        "\n",
        "Proses ini dilakukan dengan membuang data duplikat berdasarkan kolom `ISBN`, lalu hasilnya disimpan dalam variabel baru `preparation`.\n",
        "\n",
        "Data yang sudah unik ini siap untuk tahap pemodelan selanjutnya."
      ]
    },
    {
      "cell_type": "code",
      "execution_count": null,
      "metadata": {
        "id": "PKInqBu91Mc7",
        "outputId": "6f42f311-caae-42fa-885d-07c2a853081a"
      },
      "outputs": [
        {
          "data": {
            "text/html": [
              "<div>\n",
              "<style scoped>\n",
              "    .dataframe tbody tr th:only-of-type {\n",
              "        vertical-align: middle;\n",
              "    }\n",
              "\n",
              "    .dataframe tbody tr th {\n",
              "        vertical-align: top;\n",
              "    }\n",
              "\n",
              "    .dataframe thead th {\n",
              "        text-align: right;\n",
              "    }\n",
              "</style>\n",
              "<table border=\"1\" class=\"dataframe\">\n",
              "  <thead>\n",
              "    <tr style=\"text-align: right;\">\n",
              "      <th></th>\n",
              "      <th>User-ID</th>\n",
              "      <th>ISBN</th>\n",
              "      <th>Book-Rating</th>\n",
              "      <th>Book-Title</th>\n",
              "      <th>Book-Author</th>\n",
              "      <th>Year-Of-Publication</th>\n",
              "      <th>Publisher</th>\n",
              "    </tr>\n",
              "  </thead>\n",
              "  <tbody>\n",
              "    <tr>\n",
              "      <th>703628</th>\n",
              "      <td>171118</td>\n",
              "      <td>0000913154</td>\n",
              "      <td>8</td>\n",
              "      <td>The Way Things Work: An Illustrated Encycloped...</td>\n",
              "      <td>C. van Amerongen (translator)</td>\n",
              "      <td>1967.0</td>\n",
              "      <td>Simon &amp;amp; Schuster</td>\n",
              "    </tr>\n",
              "    <tr>\n",
              "      <th>866078</th>\n",
              "      <td>209516</td>\n",
              "      <td>0001010565</td>\n",
              "      <td>0</td>\n",
              "      <td>Mog's Christmas</td>\n",
              "      <td>Judith Kerr</td>\n",
              "      <td>1992.0</td>\n",
              "      <td>Collins</td>\n",
              "    </tr>\n",
              "    <tr>\n",
              "      <th>103677</th>\n",
              "      <td>23902</td>\n",
              "      <td>0001046438</td>\n",
              "      <td>9</td>\n",
              "      <td>Liar</td>\n",
              "      <td>Stephen Fry</td>\n",
              "      <td>0.0</td>\n",
              "      <td>Harpercollins Uk</td>\n",
              "    </tr>\n",
              "    <tr>\n",
              "      <th>807953</th>\n",
              "      <td>196149</td>\n",
              "      <td>0001046713</td>\n",
              "      <td>0</td>\n",
              "      <td>Twopence to Cross the Mersey</td>\n",
              "      <td>Helen Forrester</td>\n",
              "      <td>1992.0</td>\n",
              "      <td>HarperCollins Publishers</td>\n",
              "    </tr>\n",
              "    <tr>\n",
              "      <th>103678</th>\n",
              "      <td>23902</td>\n",
              "      <td>000104687X</td>\n",
              "      <td>6</td>\n",
              "      <td>T.S. Eliot Reading \\The Wasteland\\\" and Other ...</td>\n",
              "      <td>T.S. Eliot</td>\n",
              "      <td>1993.0</td>\n",
              "      <td>HarperCollins Publishers</td>\n",
              "    </tr>\n",
              "    <tr>\n",
              "      <th>...</th>\n",
              "      <td>...</td>\n",
              "      <td>...</td>\n",
              "      <td>...</td>\n",
              "      <td>...</td>\n",
              "      <td>...</td>\n",
              "      <td>...</td>\n",
              "      <td>...</td>\n",
              "    </tr>\n",
              "    <tr>\n",
              "      <th>1100731</th>\n",
              "      <td>264317</td>\n",
              "      <td>B000234N76</td>\n",
              "      <td>0</td>\n",
              "      <td>Falling Angels</td>\n",
              "      <td>Tracy Chevalier</td>\n",
              "      <td>2001.0</td>\n",
              "      <td>E P Dutton</td>\n",
              "    </tr>\n",
              "    <tr>\n",
              "      <th>423108</th>\n",
              "      <td>100906</td>\n",
              "      <td>B000234NC6</td>\n",
              "      <td>0</td>\n",
              "      <td>It Must've Been Something I Ate: The Return of...</td>\n",
              "      <td>Jeffrey Steingarten</td>\n",
              "      <td>2002.0</td>\n",
              "      <td>Knopf</td>\n",
              "    </tr>\n",
              "    <tr>\n",
              "      <th>419279</th>\n",
              "      <td>100088</td>\n",
              "      <td>B00029DGGO</td>\n",
              "      <td>0</td>\n",
              "      <td>Good Wife Strikes Back, The</td>\n",
              "      <td>Elizabeth Buchan</td>\n",
              "      <td>0.0</td>\n",
              "      <td>Viking Adult</td>\n",
              "    </tr>\n",
              "    <tr>\n",
              "      <th>743545</th>\n",
              "      <td>179791</td>\n",
              "      <td>B0002JV9PY</td>\n",
              "      <td>0</td>\n",
              "      <td>The Blockade Runners</td>\n",
              "      <td>Jules Verne</td>\n",
              "      <td>0.0</td>\n",
              "      <td>Digireads.com</td>\n",
              "    </tr>\n",
              "    <tr>\n",
              "      <th>743546</th>\n",
              "      <td>179791</td>\n",
              "      <td>B0002K6K8O</td>\n",
              "      <td>0</td>\n",
              "      <td>The Underground City</td>\n",
              "      <td>Jules Verne</td>\n",
              "      <td>0.0</td>\n",
              "      <td>Digireads.com</td>\n",
              "    </tr>\n",
              "  </tbody>\n",
              "</table>\n",
              "<p>270145 rows × 7 columns</p>\n",
              "</div>"
            ],
            "text/plain": [
              "         User-ID        ISBN  Book-Rating  \\\n",
              "703628    171118  0000913154            8   \n",
              "866078    209516  0001010565            0   \n",
              "103677     23902  0001046438            9   \n",
              "807953    196149  0001046713            0   \n",
              "103678     23902  000104687X            6   \n",
              "...          ...         ...          ...   \n",
              "1100731   264317  B000234N76            0   \n",
              "423108    100906  B000234NC6            0   \n",
              "419279    100088  B00029DGGO            0   \n",
              "743545    179791  B0002JV9PY            0   \n",
              "743546    179791  B0002K6K8O            0   \n",
              "\n",
              "                                                Book-Title  \\\n",
              "703628   The Way Things Work: An Illustrated Encycloped...   \n",
              "866078                                     Mog's Christmas   \n",
              "103677                                                Liar   \n",
              "807953                        Twopence to Cross the Mersey   \n",
              "103678   T.S. Eliot Reading \\The Wasteland\\\" and Other ...   \n",
              "...                                                    ...   \n",
              "1100731                                     Falling Angels   \n",
              "423108   It Must've Been Something I Ate: The Return of...   \n",
              "419279                         Good Wife Strikes Back, The   \n",
              "743545                                The Blockade Runners   \n",
              "743546                                The Underground City   \n",
              "\n",
              "                           Book-Author  Year-Of-Publication  \\\n",
              "703628   C. van Amerongen (translator)               1967.0   \n",
              "866078                     Judith Kerr               1992.0   \n",
              "103677                     Stephen Fry                  0.0   \n",
              "807953                 Helen Forrester               1992.0   \n",
              "103678                      T.S. Eliot               1993.0   \n",
              "...                                ...                  ...   \n",
              "1100731                Tracy Chevalier               2001.0   \n",
              "423108             Jeffrey Steingarten               2002.0   \n",
              "419279                Elizabeth Buchan                  0.0   \n",
              "743545                     Jules Verne                  0.0   \n",
              "743546                     Jules Verne                  0.0   \n",
              "\n",
              "                        Publisher  \n",
              "703628       Simon &amp; Schuster  \n",
              "866078                    Collins  \n",
              "103677           Harpercollins Uk  \n",
              "807953   HarperCollins Publishers  \n",
              "103678   HarperCollins Publishers  \n",
              "...                           ...  \n",
              "1100731                E P Dutton  \n",
              "423108                      Knopf  \n",
              "419279               Viking Adult  \n",
              "743545              Digireads.com  \n",
              "743546              Digireads.com  \n",
              "\n",
              "[270145 rows x 7 columns]"
            ]
          },
          "execution_count": 31,
          "metadata": {},
          "output_type": "execute_result"
        }
      ],
      "source": [
        "preparation = fix_books.drop_duplicates('ISBN')\n",
        "preparation"
      ]
    },
    {
      "cell_type": "markdown",
      "metadata": {
        "id": "yPXCQnKM1Mc9"
      },
      "source": [
        "Setelah data duplikat berdasarkan `ISBN` dihapus, lakukan pengecekan ulang jumlah data pada kolom:\n",
        "\n",
        "- `ISBN`\n",
        "- `Book-Title`\n",
        "- `Book-Author`\n",
        "\n",
        "Selanjutnya, konversi data dari tipe Series menjadi list menggunakan fungsi `tolist()`. Langkah ini memudahkan manipulasi dan analisis data selanjutnya."
      ]
    },
    {
      "cell_type": "code",
      "execution_count": null,
      "metadata": {
        "id": "r5qXf0Td1Mc-",
        "outputId": "35a62f18-31ed-45e0-9bd7-3aa5b16db91c"
      },
      "outputs": [
        {
          "name": "stdout",
          "output_type": "stream",
          "text": [
            "270145\n",
            "270145\n",
            "270145\n",
            "270145\n",
            "270145\n"
          ]
        }
      ],
      "source": [
        "# konversi data series 'ISBN' menjadi bentuk list\n",
        "isbn_id = preparation['ISBN'].tolist()\n",
        "\n",
        "# konversi data series 'Book-Title' menjadi bentuk list\n",
        "book_title = preparation['Book-Title'].tolist()\n",
        "\n",
        "# konversi data series 'Book-Author' menjadi bentuk list\n",
        "book_author = preparation['Book-Author'].tolist()\n",
        "\n",
        "# konversi data series 'Year-Of-Publication' menjadi bentuk list\n",
        "year_of_publication = preparation['Year-Of-Publication'].tolist()\n",
        "\n",
        "# konversi data series 'Publisher' menjadi bentuk list\n",
        "publisher = preparation['Publisher'].tolist()\n",
        "\n",
        "print(len(isbn_id))\n",
        "print(len(book_title))\n",
        "print(len(book_author))\n",
        "print(len(year_of_publication))\n",
        "print(len(publisher))"
      ]
    },
    {
      "cell_type": "markdown",
      "metadata": {
        "id": "vKgedsgL1Mc_"
      },
      "source": [
        "Setelah memastikan data `ISBN`, `Book-Title`, `Book-Author`, `Year-Of-Publication`, dan `Publisher` sudah unik dan konsisten (tersisa 270.145 baris), langkah selanjutnya adalah membuat dictionary.\n",
        "\n",
        "Dictionary ini berfungsi untuk menyimpan pasangan key-value dari masing-masing kolom, yang nantinya akan digunakan dalam proses pengembangan model sistem rekomendasi berbasis konten (content-based filtering)."
      ]
    },
    {
      "cell_type": "code",
      "execution_count": null,
      "metadata": {
        "id": "a-g3OaBW1Mc_",
        "outputId": "4ecbd21a-c2fe-4691-e802-35f707b53b16"
      },
      "outputs": [
        {
          "data": {
            "text/html": [
              "<div>\n",
              "<style scoped>\n",
              "    .dataframe tbody tr th:only-of-type {\n",
              "        vertical-align: middle;\n",
              "    }\n",
              "\n",
              "    .dataframe tbody tr th {\n",
              "        vertical-align: top;\n",
              "    }\n",
              "\n",
              "    .dataframe thead th {\n",
              "        text-align: right;\n",
              "    }\n",
              "</style>\n",
              "<table border=\"1\" class=\"dataframe\">\n",
              "  <thead>\n",
              "    <tr style=\"text-align: right;\">\n",
              "      <th></th>\n",
              "      <th>isbn</th>\n",
              "      <th>book_title</th>\n",
              "      <th>book_author</th>\n",
              "      <th>year_of_publication</th>\n",
              "      <th>publisher</th>\n",
              "    </tr>\n",
              "  </thead>\n",
              "  <tbody>\n",
              "    <tr>\n",
              "      <th>0</th>\n",
              "      <td>0000913154</td>\n",
              "      <td>The Way Things Work: An Illustrated Encycloped...</td>\n",
              "      <td>C. van Amerongen (translator)</td>\n",
              "      <td>1967.0</td>\n",
              "      <td>Simon &amp;amp; Schuster</td>\n",
              "    </tr>\n",
              "    <tr>\n",
              "      <th>1</th>\n",
              "      <td>0001010565</td>\n",
              "      <td>Mog's Christmas</td>\n",
              "      <td>Judith Kerr</td>\n",
              "      <td>1992.0</td>\n",
              "      <td>Collins</td>\n",
              "    </tr>\n",
              "    <tr>\n",
              "      <th>2</th>\n",
              "      <td>0001046438</td>\n",
              "      <td>Liar</td>\n",
              "      <td>Stephen Fry</td>\n",
              "      <td>0.0</td>\n",
              "      <td>Harpercollins Uk</td>\n",
              "    </tr>\n",
              "    <tr>\n",
              "      <th>3</th>\n",
              "      <td>0001046713</td>\n",
              "      <td>Twopence to Cross the Mersey</td>\n",
              "      <td>Helen Forrester</td>\n",
              "      <td>1992.0</td>\n",
              "      <td>HarperCollins Publishers</td>\n",
              "    </tr>\n",
              "    <tr>\n",
              "      <th>4</th>\n",
              "      <td>000104687X</td>\n",
              "      <td>T.S. Eliot Reading \\The Wasteland\\\" and Other ...</td>\n",
              "      <td>T.S. Eliot</td>\n",
              "      <td>1993.0</td>\n",
              "      <td>HarperCollins Publishers</td>\n",
              "    </tr>\n",
              "    <tr>\n",
              "      <th>...</th>\n",
              "      <td>...</td>\n",
              "      <td>...</td>\n",
              "      <td>...</td>\n",
              "      <td>...</td>\n",
              "      <td>...</td>\n",
              "    </tr>\n",
              "    <tr>\n",
              "      <th>270140</th>\n",
              "      <td>B000234N76</td>\n",
              "      <td>Falling Angels</td>\n",
              "      <td>Tracy Chevalier</td>\n",
              "      <td>2001.0</td>\n",
              "      <td>E P Dutton</td>\n",
              "    </tr>\n",
              "    <tr>\n",
              "      <th>270141</th>\n",
              "      <td>B000234NC6</td>\n",
              "      <td>It Must've Been Something I Ate: The Return of...</td>\n",
              "      <td>Jeffrey Steingarten</td>\n",
              "      <td>2002.0</td>\n",
              "      <td>Knopf</td>\n",
              "    </tr>\n",
              "    <tr>\n",
              "      <th>270142</th>\n",
              "      <td>B00029DGGO</td>\n",
              "      <td>Good Wife Strikes Back, The</td>\n",
              "      <td>Elizabeth Buchan</td>\n",
              "      <td>0.0</td>\n",
              "      <td>Viking Adult</td>\n",
              "    </tr>\n",
              "    <tr>\n",
              "      <th>270143</th>\n",
              "      <td>B0002JV9PY</td>\n",
              "      <td>The Blockade Runners</td>\n",
              "      <td>Jules Verne</td>\n",
              "      <td>0.0</td>\n",
              "      <td>Digireads.com</td>\n",
              "    </tr>\n",
              "    <tr>\n",
              "      <th>270144</th>\n",
              "      <td>B0002K6K8O</td>\n",
              "      <td>The Underground City</td>\n",
              "      <td>Jules Verne</td>\n",
              "      <td>0.0</td>\n",
              "      <td>Digireads.com</td>\n",
              "    </tr>\n",
              "  </tbody>\n",
              "</table>\n",
              "<p>270145 rows × 5 columns</p>\n",
              "</div>"
            ],
            "text/plain": [
              "              isbn                                         book_title  \\\n",
              "0       0000913154  The Way Things Work: An Illustrated Encycloped...   \n",
              "1       0001010565                                    Mog's Christmas   \n",
              "2       0001046438                                               Liar   \n",
              "3       0001046713                       Twopence to Cross the Mersey   \n",
              "4       000104687X  T.S. Eliot Reading \\The Wasteland\\\" and Other ...   \n",
              "...            ...                                                ...   \n",
              "270140  B000234N76                                     Falling Angels   \n",
              "270141  B000234NC6  It Must've Been Something I Ate: The Return of...   \n",
              "270142  B00029DGGO                        Good Wife Strikes Back, The   \n",
              "270143  B0002JV9PY                               The Blockade Runners   \n",
              "270144  B0002K6K8O                               The Underground City   \n",
              "\n",
              "                          book_author  year_of_publication  \\\n",
              "0       C. van Amerongen (translator)               1967.0   \n",
              "1                         Judith Kerr               1992.0   \n",
              "2                         Stephen Fry                  0.0   \n",
              "3                     Helen Forrester               1992.0   \n",
              "4                          T.S. Eliot               1993.0   \n",
              "...                               ...                  ...   \n",
              "270140                Tracy Chevalier               2001.0   \n",
              "270141            Jeffrey Steingarten               2002.0   \n",
              "270142               Elizabeth Buchan                  0.0   \n",
              "270143                    Jules Verne                  0.0   \n",
              "270144                    Jules Verne                  0.0   \n",
              "\n",
              "                       publisher  \n",
              "0           Simon &amp; Schuster  \n",
              "1                        Collins  \n",
              "2               Harpercollins Uk  \n",
              "3       HarperCollins Publishers  \n",
              "4       HarperCollins Publishers  \n",
              "...                          ...  \n",
              "270140                E P Dutton  \n",
              "270141                     Knopf  \n",
              "270142              Viking Adult  \n",
              "270143             Digireads.com  \n",
              "270144             Digireads.com  \n",
              "\n",
              "[270145 rows x 5 columns]"
            ]
          },
          "execution_count": 33,
          "metadata": {},
          "output_type": "execute_result"
        }
      ],
      "source": [
        "# Membuat dictionary untuk data ‘isbn_id’, ‘book_title’, ‘book_author’, 'year_of_publication', dan 'publisher'\n",
        "books_new = pd.DataFrame({\n",
        "    'isbn': isbn_id,\n",
        "    'book_title': book_title,\n",
        "    'book_author': book_author,\n",
        "    'year_of_publication': year_of_publication,\n",
        "    'publisher': publisher\n",
        "\n",
        "})\n",
        "\n",
        "books_new"
      ]
    },
    {
      "cell_type": "markdown",
      "metadata": {
        "id": "PNI9SPeF1MdA"
      },
      "source": [
        "Karena ukuran dataset yang sangat besar dapat menyebabkan penggunaan memori yang tinggi saat pelatihan model, pada proyek ini data yang digunakan akan dibatasi hanya pada **20.000 baris pertama** (exclude data ke-20.000).\n",
        "\n",
        "Pembatasan ini bertujuan untuk menghemat memori dan mempercepat proses pengembangan model tanpa mengurangi kualitas hasil secara signifikan."
      ]
    },
    {
      "cell_type": "code",
      "execution_count": null,
      "metadata": {
        "id": "_-L8w_481MdB"
      },
      "outputs": [],
      "source": [
        "books_new = books_new[:20000]"
      ]
    },
    {
      "cell_type": "code",
      "execution_count": null,
      "metadata": {
        "id": "xKMhXkEM1MdB",
        "outputId": "a802d245-5d4c-403a-b10a-69f13792bb35"
      },
      "outputs": [
        {
          "data": {
            "text/html": [
              "<div>\n",
              "<style scoped>\n",
              "    .dataframe tbody tr th:only-of-type {\n",
              "        vertical-align: middle;\n",
              "    }\n",
              "\n",
              "    .dataframe tbody tr th {\n",
              "        vertical-align: top;\n",
              "    }\n",
              "\n",
              "    .dataframe thead th {\n",
              "        text-align: right;\n",
              "    }\n",
              "</style>\n",
              "<table border=\"1\" class=\"dataframe\">\n",
              "  <thead>\n",
              "    <tr style=\"text-align: right;\">\n",
              "      <th></th>\n",
              "      <th>isbn</th>\n",
              "      <th>book_title</th>\n",
              "      <th>book_author</th>\n",
              "      <th>year_of_publication</th>\n",
              "      <th>publisher</th>\n",
              "    </tr>\n",
              "  </thead>\n",
              "  <tbody>\n",
              "    <tr>\n",
              "      <th>0</th>\n",
              "      <td>0000913154</td>\n",
              "      <td>The Way Things Work: An Illustrated Encycloped...</td>\n",
              "      <td>C. van Amerongen (translator)</td>\n",
              "      <td>1967.0</td>\n",
              "      <td>Simon &amp;amp; Schuster</td>\n",
              "    </tr>\n",
              "    <tr>\n",
              "      <th>1</th>\n",
              "      <td>0001010565</td>\n",
              "      <td>Mog's Christmas</td>\n",
              "      <td>Judith Kerr</td>\n",
              "      <td>1992.0</td>\n",
              "      <td>Collins</td>\n",
              "    </tr>\n",
              "    <tr>\n",
              "      <th>2</th>\n",
              "      <td>0001046438</td>\n",
              "      <td>Liar</td>\n",
              "      <td>Stephen Fry</td>\n",
              "      <td>0.0</td>\n",
              "      <td>Harpercollins Uk</td>\n",
              "    </tr>\n",
              "    <tr>\n",
              "      <th>3</th>\n",
              "      <td>0001046713</td>\n",
              "      <td>Twopence to Cross the Mersey</td>\n",
              "      <td>Helen Forrester</td>\n",
              "      <td>1992.0</td>\n",
              "      <td>HarperCollins Publishers</td>\n",
              "    </tr>\n",
              "    <tr>\n",
              "      <th>4</th>\n",
              "      <td>000104687X</td>\n",
              "      <td>T.S. Eliot Reading \\The Wasteland\\\" and Other ...</td>\n",
              "      <td>T.S. Eliot</td>\n",
              "      <td>1993.0</td>\n",
              "      <td>HarperCollins Publishers</td>\n",
              "    </tr>\n",
              "    <tr>\n",
              "      <th>...</th>\n",
              "      <td>...</td>\n",
              "      <td>...</td>\n",
              "      <td>...</td>\n",
              "      <td>...</td>\n",
              "      <td>...</td>\n",
              "    </tr>\n",
              "    <tr>\n",
              "      <th>19995</th>\n",
              "      <td>0140444696</td>\n",
              "      <td>The Kreutzer Sonata and Other Stories (Penguin...</td>\n",
              "      <td>Leo Tolstoy</td>\n",
              "      <td>1986.0</td>\n",
              "      <td>Penguin Books</td>\n",
              "    </tr>\n",
              "    <tr>\n",
              "      <th>19996</th>\n",
              "      <td>014044470X</td>\n",
              "      <td>The Fiancee and Other Stories (Penguin Classics)</td>\n",
              "      <td>Anton Pavlovich Chekhov</td>\n",
              "      <td>1986.0</td>\n",
              "      <td>Penguin Books</td>\n",
              "    </tr>\n",
              "    <tr>\n",
              "      <th>19997</th>\n",
              "      <td>0140444726</td>\n",
              "      <td>Jacques the Fatalist and His Master (Penguin C...</td>\n",
              "      <td>Denis Diderot</td>\n",
              "      <td>1986.0</td>\n",
              "      <td>Penguin Books</td>\n",
              "    </tr>\n",
              "    <tr>\n",
              "      <th>19998</th>\n",
              "      <td>0140444742</td>\n",
              "      <td>Seven Viking Romances (Penguin Classics)</td>\n",
              "      <td>Hermann Palsson</td>\n",
              "      <td>1986.0</td>\n",
              "      <td>Penguin Books</td>\n",
              "    </tr>\n",
              "    <tr>\n",
              "      <th>19999</th>\n",
              "      <td>0140444750</td>\n",
              "      <td>Early Christian Writings: The Apostolic Father...</td>\n",
              "      <td>Maxwell Staniforth</td>\n",
              "      <td>1987.0</td>\n",
              "      <td>Penguin Books</td>\n",
              "    </tr>\n",
              "  </tbody>\n",
              "</table>\n",
              "<p>20000 rows × 5 columns</p>\n",
              "</div>"
            ],
            "text/plain": [
              "             isbn                                         book_title  \\\n",
              "0      0000913154  The Way Things Work: An Illustrated Encycloped...   \n",
              "1      0001010565                                    Mog's Christmas   \n",
              "2      0001046438                                               Liar   \n",
              "3      0001046713                       Twopence to Cross the Mersey   \n",
              "4      000104687X  T.S. Eliot Reading \\The Wasteland\\\" and Other ...   \n",
              "...           ...                                                ...   \n",
              "19995  0140444696  The Kreutzer Sonata and Other Stories (Penguin...   \n",
              "19996  014044470X   The Fiancee and Other Stories (Penguin Classics)   \n",
              "19997  0140444726  Jacques the Fatalist and His Master (Penguin C...   \n",
              "19998  0140444742           Seven Viking Romances (Penguin Classics)   \n",
              "19999  0140444750  Early Christian Writings: The Apostolic Father...   \n",
              "\n",
              "                         book_author  year_of_publication  \\\n",
              "0      C. van Amerongen (translator)               1967.0   \n",
              "1                        Judith Kerr               1992.0   \n",
              "2                        Stephen Fry                  0.0   \n",
              "3                    Helen Forrester               1992.0   \n",
              "4                         T.S. Eliot               1993.0   \n",
              "...                              ...                  ...   \n",
              "19995                    Leo Tolstoy               1986.0   \n",
              "19996        Anton Pavlovich Chekhov               1986.0   \n",
              "19997                  Denis Diderot               1986.0   \n",
              "19998                Hermann Palsson               1986.0   \n",
              "19999             Maxwell Staniforth               1987.0   \n",
              "\n",
              "                      publisher  \n",
              "0          Simon &amp; Schuster  \n",
              "1                       Collins  \n",
              "2              Harpercollins Uk  \n",
              "3      HarperCollins Publishers  \n",
              "4      HarperCollins Publishers  \n",
              "...                         ...  \n",
              "19995             Penguin Books  \n",
              "19996             Penguin Books  \n",
              "19997             Penguin Books  \n",
              "19998             Penguin Books  \n",
              "19999             Penguin Books  \n",
              "\n",
              "[20000 rows x 5 columns]"
            ]
          },
          "execution_count": 35,
          "metadata": {},
          "output_type": "execute_result"
        }
      ],
      "source": [
        "books_new"
      ]
    },
    {
      "cell_type": "markdown",
      "metadata": {
        "id": "tC305Be31MdC"
      },
      "source": [
        "### Data Preparation Untuk Model Pengembangan dengan Collaborative Filtering"
      ]
    },
    {
      "cell_type": "markdown",
      "metadata": {
        "id": "UNXZS8sA1MdC"
      },
      "source": [
        "Sebelum membagi data menjadi training dan validasi, dilakukan beberapa langkah penting:\n",
        "\n",
        "- Menyandikan (encode) fitur `User-ID` dan `ISBN` menjadi indeks integer agar model lebih mudah mengenali data.\n",
        "- Membuat mapping `User-ID` dan `ISBN` ke dataframe yang berkaitan untuk referensi.\n",
        "- Mengecek jumlah unik pengguna dan buku untuk memastikan data siap.\n",
        "- Mengubah tipe data `Book-Rating` menjadi float agar sesuai untuk pelatihan model.\n",
        "\n",
        "Langkah-langkah ini memudahkan proses transformasi data menjadi bentuk matriks numerik yang efisien untuk model collaborative filtering."
      ]
    },
    {
      "cell_type": "code",
      "execution_count": null,
      "metadata": {
        "id": "r3MUDj8C1MdC",
        "outputId": "7aa225d1-44c1-42fd-b446-067a3ca722f0"
      },
      "outputs": [
        {
          "name": "stdout",
          "output_type": "stream",
          "text": [
            "list userID:  [276725, 276726, 276727, 276729, 276733, 276736, 276737, 276744, 276745, 276746, 276747, 276748, 276751, 276754, 276755, 276760, 276762, 276765, 276768, 276772, 276774, 276780, 276786, 276788, 276796, 276798, 276800, 276803, 276804, 276806, 276808, 276811, 276812, 276813, 276814, 276817, 276820, 276822, 276827, 276828, 276830, 276832, 276833, 276835, 276837, 276838, 276840, 276842, 276847, 276848, 276850, 276852, 276853, 276854, 276856, 276857, 276859, 276861, 276862, 276863, 276866, 276869, 276870, 276872, 276873, 276875, 276878, 276879, 276884, 276887, 276888, 276889, 276890, 276896, 276904, 276905, 276911, 276912, 276915, 276916, 276925, 276927, 276928, 276929, 276934, 276936, 276939, 276943, 276946, 276949, 276950, 276953, 276954, 276957, 276959, 276963, 276964, 276965, 276975, 276981, 276984, 276986, 276988, 276989, 276990, 276992, 276994, 276997, 276998, 277002, 277007, 277009, 277010, 277012, 277018, 277019, 277022, 277023, 277028, 277031, 277032, 277035, 277036, 277040, 277042, 277048, 277051, 277052, 277053, 277056, 277058, 277064, 277065, 277072, 277073, 277074, 277075, 277079, 277085, 277087, 277090, 277094, 277096, 277102, 277107, 277109, 277114, 277116, 277123, 277124, 277128, 277129, 277134, 277135, 277139, 277142, 277143, 277149, 277155, 277157, 277159, 277165, 277168, 277170, 277171, 277176, 277179, 277180, 277183, 277186, 277187, 277188, 277189, 277195, 277196, 277197, 277203, 277205, 277209, 277212, 277220, 277221, 277228, 277229, 277230, 277231, 277232, 277235, 277237, 277240, 277242, 277243, 277244, 277245, 277246, 277249, 277253, 277256, 277257, 277261, 277262, 277265, 277267, 277268, 277269, 277271, 277272, 277274, 277281, 277284, 277285, 277288, 277291, 277292, 277293, 277305, 277314, 277315, 277317, 277330, 277334, 277338, 277339, 277340, 277341, 277343, 277348, 277351, 277353, 277358, 277359, 277363, 277364, 277367, 277369, 277371, 277374, 277375, 277378, 277379, 277380, 277384, 277388, 277389, 277392, 277397, 277399, 277400, 277402, 277405, 277408, 277411, 277413, 277424, 277425, 277427, 277432, 277433, 277434, 277435, 277436, 277439, 277444, 277453, 277457, 277461, 277462, 277466, 277469, 277470, 277471, 277473, 277474, 277478, 277479, 277486, 277488, 277489, 277502, 277506, 277508, 277509, 277513, 277514, 277516, 277517, 277518, 277519, 277523, 277525, 277526, 277527, 277528, 277529, 277530, 277532, 277533, 277535, 277538, 277544, 277547, 277548, 277554, 277556, 277559, 277560, 277562, 277563, 277565, 277568, 277569, 277574, 277575, 277579, 277585, 277586, 277588, 277589, 277590, 277594, 277595, 277596, 277598, 277601, 277605, 277610, 277619, 277622, 277623, 277627, 277629, 277632, 277633, 277636, 277638, 277639, 277641, 277643, 277646, 277647, 277648, 277650, 277651, 277657, 277660, 277662, 277665, 277667, 277680, 277681, 277682, 277687, 277688, 277689, 277691, 277696, 277697, 277698, 277700, 277701, 277705, 277706, 277710, 277711, 277712, 277714, 277716, 277720, 277722, 277727, 277728, 277737, 277740, 277741, 277743, 277744, 277746, 277748, 277752, 277753, 277756, 277759, 277761, 277764, 277765, 277767, 277768, 277769, 277774, 277775, 277776, 277777, 277778, 277779, 277781, 277782, 277783, 277784, 277786, 277787, 277788, 277790, 277791, 277793, 277794, 277795, 277797, 277798, 277799, 277800, 277801, 277802, 277803, 277807, 277808, 277809, 277811, 277812, 277813, 277814, 277816, 277817, 277818, 277819, 277820, 277823, 277824, 277825, 277826, 277827, 277828, 277830, 277831, 277832, 277833, 277834, 277835, 277837, 277838, 277840, 277841, 277842, 277843, 277844, 277845, 277847, 277853, 277856, 277862, 277864, 277867, 277872, 277873, 277877, 277879, 277882, 277884, 277888, 277891, 277892, 277894, 277895, 277898, 277901, 277903, 277904, 277908, 277909, 277911, 277913, 277915, 277918, 277919, 277921, 277922, 277923, 277928, 277929, 277930, 277932, 277934, 277937, 277938, 277941, 277945, 277946, 277947, 277953, 277954, 277958, 277959, 277962, 277964, 277965, 277969, 277975, 277978, 277982, 277984, 277987, 277988, 277989, 277992, 277993, 277996, 277997, 277998, 278002, 278004, 278007, 278008, 278009, 278012, 278013, 278014, 278017, 278019, 278020, 278021, 278022, 278023, 278024, 278026, 278030, 278034, 278036, 278043, 278044, 278048, 278054, 278056, 278057, 278058, 278063, 278064, 278065, 278066, 278069, 278070, 278074, 278075, 278079, 278085, 278089, 278092, 278094, 278095, 278096, 278097, 278098, 278100, 278104, 278106, 278107, 278110, 278111, 278112, 278117, 278119, 278120, 278122, 278126, 278130, 278131, 278137, 278139, 278140, 278144, 278148, 278149, 278153, 278155, 278156, 278158, 278159, 278160, 278161, 278162, 278167, 278168, 278172, 278176, 278177, 278181, 278183, 278184, 278185, 278188, 278193, 278194, 278197, 278199, 278200, 278202, 278203, 278204, 278206, 278207, 278209, 278212, 278213, 278215, 278216, 278218, 278220, 278221, 278224, 278227, 278229, 278235, 278237, 278238, 278242, 278243, 278244, 278245, 278246, 278248, 278249, 278250, 278251, 278253, 278254, 278255, 278257, 278259, 278260, 278263, 278264, 278270, 278274, 278279, 278280, 278297, 278300, 278302, 278307, 278310, 278311, 278313, 278314, 278316, 278319, 278325, 278328, 278330, 278332, 278333, 278334, 278336, 278342, 278345, 278346, 278350, 278355, 278356, 278357, 278358, 278361, 278364, 278365, 278368, 278373, 278376, 278377, 278378, 278388, 278389, 278390, 278394, 278396, 278398, 278400, 278401, 278407, 278409, 278411, 278413, 278418, 278419, 278422, 278423, 278425, 278430, 278431, 278432, 278435, 278439, 278444, 278446, 278449, 278450, 278452, 278458, 278459, 278461, 278462, 278465, 278466, 278469, 278474, 278475, 278479, 278483, 278487, 278488, 278490, 278491, 278492, 278500, 278501, 278503, 278506, 278510, 278512, 278514, 278515, 278520, 278522, 278524, 278525, 278528, 278529, 278531, 278533, 278534, 278535, 278536, 278537, 278538, 278539, 278540, 278541, 278542, 278543, 278545, 278550, 278551, 278552, 278554, 278556, 278559, 278561, 278563, 278565, 278568, 278569, 278571, 278573, 278582, 278586, 278588, 278597, 278601, 278606, 278608, 278610, 278615, 278618, 278620, 278621, 278629, 278633, 278634, 278636, 278637, 278641, 278644, 278645, 278648, 278650, 278652, 278653, 278659, 278663, 278665, 278668, 278669, 278670, 278671, 278672, 278675, 278681, 278683, 278688, 278691, 278692, 278694, 278698, 278710, 278713, 278714, 278715, 278720, 278721, 278723, 278724, 278729, 278731, 278732, 278740, 278747, 278750, 278752, 278755, 278759, 278760, 278764, 278766, 278767, 278769, 278771, 278772, 278773, 278774, 278777, 278778, 278781, 278782, 278784, 278786, 278788, 278789, 278795, 278796, 278798, 278799, 278800, 278806, 278807, 278813, 278815, 278818, 278819, 278820, 278823, 278824, 278825, 278828, 278831, 278832, 278836, 278838, 278843, 278844, 278846, 278849, 278851, 278852, 278854, 2, 7, 8, 9, 10, 12, 14, 16, 17, 19, 20, 22, 23, 26, 32, 36, 38, 39, 42, 44, 51, 53, 56, 64, 67, 68, 69, 70, 73, 75, 77, 78, 79, 81, 82, 83, 85, 86, 87, 88, 91, 92, 95, 97, 99, 100, 102, 107, 109, 110, 114, 125, 129, 132, 133, 135, 137, 139, 141, 144, 151, 160, 162, 165, 169, 176, 178, 182, 183, 185, 190, 193, 199, 202, 204, 207, 212, 215, 217, 221, 224, 226, 228, 230, 232, 233, 236, 237, 241, 242, 243, 244, 247, 249, 250, 254, 256, 257, 269, 272, 273, 278, 280, 289, 291, 300, 302, 306, 310, 311, 313, 316, 323, 326, 327, 332, 334, 337, 338, 339, 343, 345, 356, 357, 359, 361, 362, 364, 367, 369, 372, 376, 382, 383, 384, 387, 388, 392, 393, 400, 406, 408, 413, 422, 424, 430, 431, 432, 433, 435, 438, 439, 440, 441, 444, 446, 447, 453, 460, 463, 469, 472, 475, 476, 479, 483, 486, 487, 489, 493, 494, 496, 499, 500, 501, 503, 505, 507, 508, 512, 513, 516, 518, 523, 530, 537, 538, 542, 546, 547, 552, 558, 559, 564, 565, 566, 567, 569, 585, 592, 595, 596, 602, 614, 618, 619, 620, 621, 623, 625, 626, 628, 634, 638, 639, 640, 641, 643, 645, 649, 650, 651, 657, 660, 677, 678, 683, 685, 695, 698, 701, 705, 707, 708, 709, 711, 712, 713, 714, 717, 720, 724, 726, 728, 730, 735, 736, 737, 739, 741, 743, 744, 746, 753, 756, 757, 758, 759, 763, 765, 767, 769, 771, 774, 776, 777, 778, 780, 782, 785, 786, 790, 791, 795, 799, 805, 809, 811, 818, 819, 822, 824, 827, 828, 834, 835, 843, 848, 849, 850, 853, 861, 876, 878, 882, 883, 885, 886, 887, 895, 896, 899, 900, 901, 902, 903, 913, 914, 915, 916, 919, 921, 924, 929, 932, 933, 936, 937, 938, 941, 944, 945, 951, 955, 965, 967, 969, 970, 973, 974, 981, 984, 986, 989, 996, 998, 999, 1000, 1003, 1007, 1008, 1009, 1010, 1011, 1012, 1016, 1017, 1019, 1021, 1022, 1024, 1025, 1026, 1031, 1032, 1038, 1040, 1043, 1046, 1048, 1054, 1056, 1057, 1060, 1063, 1064, 1069, 1075, 1079, 1082, 1083, 1084, 1087, 1089, 1093, 1094, 1095, 1096, 1098, 1100, 1106, 1108, 1111, 1113, 1116, 1118, 1123, 1124, 1129, 1131, 1132, 1133, 1137, 1138, 1140, 1150, 1155, 1161, 1164, 1166, 1167, 1168, 1169, 1170, 1172, 1174, 1178, 1180, 1184, 1189, 1192, 1193, 1200, 1206, 1210, 1211, 1214, 1219, 1223, 1225, 1231, 1233, 1234, 1235, 1237, 1238, 1242, 1248, 1249, 1250, 1252, 1254, 1256, 1258, 1259, 1260, 1261, 1262, 1263, 1264, 1266, 1267, 1270, 1275, 1279, 1281, 1293, 1294, 1296, 1297, 1300, 1303, 1309, 1314, 1317, 1324, 1325, 1326, 1330, 1331, 1332, 1334, 1343, 1344, 1345, 1348, 1355, 1359, 1360, 1361, 1368, 1369, 1372, 1375, 1376, 1377, 1378, 1389, 1390, 1395, 1396, 1398, 1399, 1403, 1409, 1410, 1412, 1416, 1417, 1421, 1424, 1427, 1433, 1434, 1435, 1436, 1439, 1442, 1448, 1455, 1461, 1466, 1467, 1469, 1473, 1475, 1477, 1484, 1485, 1486, 1487, 1489, 1490, 1491, 1496, 1499, 1500, 1502, 1504, 1505, 1506, 1511, 1513, 1515, 1517, 1519, 1521, 1530, 1533, 1535, 1539, 1541, 1543, 1545, 1546, 1547, 1548, 1550, 1552, 1554, 1555, 1556, 1557, 1558, 1559, 1564, 1567, 1569, 1570, 1573, 1578, 1582, 1583, 1585, 1586, 1588, 1589, 1591, 1596, 1597, 1599, 1608, 1610, 1615, 1616, 1617, 1618, 1619, 1633, 1639, 1641, 1643, 1646, 1650, 1652, 1653, 1654, 1660, 1661, 1664, 1667, 1672, 1673, 1674, 1676, 1683, 1684, 1687, 1688, 1696, 1703, 1705, 1706, 1718, 1719, 1721, 1723, 1725, 1729, 1730, 1733, 1745, 1750, 1759, 1761, 1762, 1765, 1768, 1770, 1773, 1775, 1781, 1782, 1785, 1790, 1791, 1792, 1793, 1797, 1799, 1802, 1803, 1805, 1807, 1809, 1812, 1813, 1827, 1829, 1830, 1835, 1838, 1841, 1844, 1846, 1848, 1850, 1859, 1861, 1863, 1867, 1869, 1878, 1881, 1888, 1891, 1892, 1898, 1900, 1901, 1903, 1904, 1905, 1910, 1915, 1918, 1921, 1922, 1923, 1924, 1927, 1928, 1930, 1933, 1937, 1938, 1945, 1947, 1948, 1949, 1951, 1954, 1956, 1960, 1961, 1963, 1965, 1966, 1969, 1971, 1973, 1978, 1983, 1984, 1986, 1987, 1989, 1990, 1993, 1995, 1996, 2009, 2010, 2012, 2013, 2018, 2019, 2020, 2024, 2030, 2033, 2035, 2036, 2038, 2041, 2043, 2045, 2046, 2051, 2060, 2061, 2063, 2066, 2070, 2074, 2075, 2076, 2077, 2078, 2082, 2084, 2087, 2089, 2090, 2097, 2099, 2103, 2104, 2105, 2106, 2108, 2109, 2110, 2115, 2116, 2119, 2127, 2129, 2130, 2132, 2134, 2135, 2136, 2138, 2139, 2141, 2147, 2148, 2150, 2152, 2155, 2158, 2160, 2163, 2169, 2170, 2172, 2178, 2179, 2181, 2183, 2189, 2190, 2196, 2197, 2198, 2199, 2203, 2204, 2209, 2216, 2218, 2219, 2222, 2223, 2224, 2225, 2226, 2230, 2232, 2238, 2240, 2244, 2250, 2253, 2255, 2266, 2268, 2270, 2271, 2275, 2276, 2281, 2283, 2287, 2288, 2290, 2292, 2295, 2296, 2302, 2305, 2308, 2311, 2312, 2313, 2316, 2324, 2326, 2329, 2330, 2333, 2334, 2335, 2336, 2337, 2339, 2340, 2345, 2349, 2350, 2351, 2352, 2354, 2355, 2357, 2358, 2359, 2363, 2366, 2368, 2369, 2374, 2375, 2376, 2379, 2385, 2386, 2388, 2389, 2395, 2398, 2399, 2403, 2404, 2406, 2411, 2414, 2415, 2416, 2417, 2421, 2425, 2436, 2437, 2439, 2442, 2448, 2451, 2453, 2455, 2457, 2459, 2461, 2462, 2466, 2470, 2473, 2480, 2481, 2482, 2484, 2485, 2488, 2499, 2500, 2501, 2503, 2504, 2506, 2508, 2515, 2517, 2520, 2524, 2525, 2528, 2529, 2531, 2534, 2540, 2542, 2544, 2545, 2546, 2549, 2550, 2552, 2555, 2559, 2562, 2565, 2566, 2567, 2568, 2569, 2574, 2576, 2578, 2579, 2580, 2582, 2583, 2584, 2588, 2589, 2590, 2591, 2592, 2595, 2596, 2597, 2598, 2599, 2605, 2608, 2611, 2613, 2615, 2616, 2617, 2618, 2622, 2630, 2632, 2633, 2634, 2638, 2640, 2643, 2644, 2651, 2653, 2655, 2656, 2658, 2661, 2665, 2668, 2670, 2678, 2679, 2681, 2683, 2685, 2687, 2688, 2690, 2693, 2696, 2700, 2705, 2708, 2711, 2712, 2718, 2719, 2723, 2724, 2728, 2729, 2731, 2734, 2738, 2742, 2744, 2746, 2749, 2759, 2760, 2765, 2766, 2768, 2769, 2770, 2771, 2776, 2781, 2782, 2784, 2789, 2790, 2791, 2793, 2798, 2799, 2803, 2804, 2807, 2808, 2830, 2837, 2844, 2847, 2850, 2853, 2854, 2855, 2859, 2861, 2863, 2864, 2869, 2870, 2871, 2872, 2882, 2883, 2885, 2889, 2891, 2892, 2893, 2896, 2900, 2903, 2906, 2907, 2914, 2932, 2933, 2935, 2936, 2939, 2942, 2943, 2945, 2946, 2948, 2950, 2954, 2957, 2962, 2964, 2966, 2968, 2972, 2973, 2974, 2977, 2979, 2980, 2982, 2983, 2984, 2985, 2991, 2992, 2995, 2996, 3003, 3005, 3009, 3017, 3020, 3023, 3026, 3027, 3030, 3032, 3035, 3039, 3044, 3045, 3046, 3048, 3049, 3052, 3053, 3054, 3060, 3061, 3062, 3063, 3066, 3067, 3071, 3073, 3074, 3077, 3079, 3081, 3087, 3088, 3089, 3093, 3094, 3095, 3096, 3099, 3100, 3101, 3104, 3106, 3111, 3113, 3114, 3133, 3141, 3142, 3145, 3146, 3148, 3150, 3154, 3165, 3166, 3167, 3168, 3172, 3174, 3175, 3177, 3185, 3186, 3189, 3191, 3192, 3193, 3194, 3197, 3200, 3202, 3206, 3209, 3224, 3232, 3236, 3237, 3243, 3247, 3251, 3257, 3260, 3261, 3262, 3266, 3268, 3282, 3283, 3289, 3291, 3293, 3296, 3300, 3302, 3305, 3307, 3310, 3315, 3320, 3321, 3323, 3326, 3328, 3329, 3331, 3332, 3343, 3344, 3346, 3347, 3350, 3351, 3355, 3357, 3362, 3363, 3364, 3368, 3371, 3373, 3374, 3376, 3379, 3385, 3386, 3388, 3391, 3393, 3395, 3396, 3400, 3401, 3402, 3404, 3408, 3416, 3418, 3421, 3422, 3423, 3427, 3432, 3433, 3435, 3437, 3445, 3449, 3452, 3454, 3460, 3462, 3463, 3467, 3471, 3472, 3473, 3477, 3479, 3480, 3481, 3487, 3488, 3492, 3493, 3495, 3496, 3502, 3505, 3506, 3507, 3508, 3509, 3510, 3512, 3514, 3519, 3521, 3528, 3529, 3532, 3533, 3534, 3537, 3538, 3541, 3542, 3543, 3544, 3546, 3547, 3549, 3550, 3554, 3556, 3564, 3569, 3570, 3571, 3573, 3575, 3578, 3580, 3583, 3586, 3588, 3593, 3594, 3596, 3599, 3601, 3602, 3603, 3604, 3605, 3611, 3613, 3615, 3619, 3622, 3628, 3630, 3632, 3633, 3640, 3641, 3643, 3645, 3647, 3648, 3651, 3652, 3654, 3655, 3656, 3659, 3660, 3665, 3667, 3668, 3669, 3670, 3671, 3673, 3674, 3675, 3677, 3679, 3684, 3686, 3690, 3693, 3694, 3702, 3704, 3709, 3711, 3712, 3713, 3719, 3728, 3731, 3739, 3740, 3743, 3745, 3752, 3756, 3757]\n",
            "encoded userID:  {276725: 0, 276726: 1, 276727: 2, 276729: 3, 276733: 4, 276736: 5, 276737: 6, 276744: 7, 276745: 8, 276746: 9, 276747: 10, 276748: 11, 276751: 12, 276754: 13, 276755: 14, 276760: 15, 276762: 16, 276765: 17, 276768: 18, 276772: 19, 276774: 20, 276780: 21, 276786: 22, 276788: 23, 276796: 24, 276798: 25, 276800: 26, 276803: 27, 276804: 28, 276806: 29, 276808: 30, 276811: 31, 276812: 32, 276813: 33, 276814: 34, 276817: 35, 276820: 36, 276822: 37, 276827: 38, 276828: 39, 276830: 40, 276832: 41, 276833: 42, 276835: 43, 276837: 44, 276838: 45, 276840: 46, 276842: 47, 276847: 48, 276848: 49, 276850: 50, 276852: 51, 276853: 52, 276854: 53, 276856: 54, 276857: 55, 276859: 56, 276861: 57, 276862: 58, 276863: 59, 276866: 60, 276869: 61, 276870: 62, 276872: 63, 276873: 64, 276875: 65, 276878: 66, 276879: 67, 276884: 68, 276887: 69, 276888: 70, 276889: 71, 276890: 72, 276896: 73, 276904: 74, 276905: 75, 276911: 76, 276912: 77, 276915: 78, 276916: 79, 276925: 80, 276927: 81, 276928: 82, 276929: 83, 276934: 84, 276936: 85, 276939: 86, 276943: 87, 276946: 88, 276949: 89, 276950: 90, 276953: 91, 276954: 92, 276957: 93, 276959: 94, 276963: 95, 276964: 96, 276965: 97, 276975: 98, 276981: 99, 276984: 100, 276986: 101, 276988: 102, 276989: 103, 276990: 104, 276992: 105, 276994: 106, 276997: 107, 276998: 108, 277002: 109, 277007: 110, 277009: 111, 277010: 112, 277012: 113, 277018: 114, 277019: 115, 277022: 116, 277023: 117, 277028: 118, 277031: 119, 277032: 120, 277035: 121, 277036: 122, 277040: 123, 277042: 124, 277048: 125, 277051: 126, 277052: 127, 277053: 128, 277056: 129, 277058: 130, 277064: 131, 277065: 132, 277072: 133, 277073: 134, 277074: 135, 277075: 136, 277079: 137, 277085: 138, 277087: 139, 277090: 140, 277094: 141, 277096: 142, 277102: 143, 277107: 144, 277109: 145, 277114: 146, 277116: 147, 277123: 148, 277124: 149, 277128: 150, 277129: 151, 277134: 152, 277135: 153, 277139: 154, 277142: 155, 277143: 156, 277149: 157, 277155: 158, 277157: 159, 277159: 160, 277165: 161, 277168: 162, 277170: 163, 277171: 164, 277176: 165, 277179: 166, 277180: 167, 277183: 168, 277186: 169, 277187: 170, 277188: 171, 277189: 172, 277195: 173, 277196: 174, 277197: 175, 277203: 176, 277205: 177, 277209: 178, 277212: 179, 277220: 180, 277221: 181, 277228: 182, 277229: 183, 277230: 184, 277231: 185, 277232: 186, 277235: 187, 277237: 188, 277240: 189, 277242: 190, 277243: 191, 277244: 192, 277245: 193, 277246: 194, 277249: 195, 277253: 196, 277256: 197, 277257: 198, 277261: 199, 277262: 200, 277265: 201, 277267: 202, 277268: 203, 277269: 204, 277271: 205, 277272: 206, 277274: 207, 277281: 208, 277284: 209, 277285: 210, 277288: 211, 277291: 212, 277292: 213, 277293: 214, 277305: 215, 277314: 216, 277315: 217, 277317: 218, 277330: 219, 277334: 220, 277338: 221, 277339: 222, 277340: 223, 277341: 224, 277343: 225, 277348: 226, 277351: 227, 277353: 228, 277358: 229, 277359: 230, 277363: 231, 277364: 232, 277367: 233, 277369: 234, 277371: 235, 277374: 236, 277375: 237, 277378: 238, 277379: 239, 277380: 240, 277384: 241, 277388: 242, 277389: 243, 277392: 244, 277397: 245, 277399: 246, 277400: 247, 277402: 248, 277405: 249, 277408: 250, 277411: 251, 277413: 252, 277424: 253, 277425: 254, 277427: 255, 277432: 256, 277433: 257, 277434: 258, 277435: 259, 277436: 260, 277439: 261, 277444: 262, 277453: 263, 277457: 264, 277461: 265, 277462: 266, 277466: 267, 277469: 268, 277470: 269, 277471: 270, 277473: 271, 277474: 272, 277478: 273, 277479: 274, 277486: 275, 277488: 276, 277489: 277, 277502: 278, 277506: 279, 277508: 280, 277509: 281, 277513: 282, 277514: 283, 277516: 284, 277517: 285, 277518: 286, 277519: 287, 277523: 288, 277525: 289, 277526: 290, 277527: 291, 277528: 292, 277529: 293, 277530: 294, 277532: 295, 277533: 296, 277535: 297, 277538: 298, 277544: 299, 277547: 300, 277548: 301, 277554: 302, 277556: 303, 277559: 304, 277560: 305, 277562: 306, 277563: 307, 277565: 308, 277568: 309, 277569: 310, 277574: 311, 277575: 312, 277579: 313, 277585: 314, 277586: 315, 277588: 316, 277589: 317, 277590: 318, 277594: 319, 277595: 320, 277596: 321, 277598: 322, 277601: 323, 277605: 324, 277610: 325, 277619: 326, 277622: 327, 277623: 328, 277627: 329, 277629: 330, 277632: 331, 277633: 332, 277636: 333, 277638: 334, 277639: 335, 277641: 336, 277643: 337, 277646: 338, 277647: 339, 277648: 340, 277650: 341, 277651: 342, 277657: 343, 277660: 344, 277662: 345, 277665: 346, 277667: 347, 277680: 348, 277681: 349, 277682: 350, 277687: 351, 277688: 352, 277689: 353, 277691: 354, 277696: 355, 277697: 356, 277698: 357, 277700: 358, 277701: 359, 277705: 360, 277706: 361, 277710: 362, 277711: 363, 277712: 364, 277714: 365, 277716: 366, 277720: 367, 277722: 368, 277727: 369, 277728: 370, 277737: 371, 277740: 372, 277741: 373, 277743: 374, 277744: 375, 277746: 376, 277748: 377, 277752: 378, 277753: 379, 277756: 380, 277759: 381, 277761: 382, 277764: 383, 277765: 384, 277767: 385, 277768: 386, 277769: 387, 277774: 388, 277775: 389, 277776: 390, 277777: 391, 277778: 392, 277779: 393, 277781: 394, 277782: 395, 277783: 396, 277784: 397, 277786: 398, 277787: 399, 277788: 400, 277790: 401, 277791: 402, 277793: 403, 277794: 404, 277795: 405, 277797: 406, 277798: 407, 277799: 408, 277800: 409, 277801: 410, 277802: 411, 277803: 412, 277807: 413, 277808: 414, 277809: 415, 277811: 416, 277812: 417, 277813: 418, 277814: 419, 277816: 420, 277817: 421, 277818: 422, 277819: 423, 277820: 424, 277823: 425, 277824: 426, 277825: 427, 277826: 428, 277827: 429, 277828: 430, 277830: 431, 277831: 432, 277832: 433, 277833: 434, 277834: 435, 277835: 436, 277837: 437, 277838: 438, 277840: 439, 277841: 440, 277842: 441, 277843: 442, 277844: 443, 277845: 444, 277847: 445, 277853: 446, 277856: 447, 277862: 448, 277864: 449, 277867: 450, 277872: 451, 277873: 452, 277877: 453, 277879: 454, 277882: 455, 277884: 456, 277888: 457, 277891: 458, 277892: 459, 277894: 460, 277895: 461, 277898: 462, 277901: 463, 277903: 464, 277904: 465, 277908: 466, 277909: 467, 277911: 468, 277913: 469, 277915: 470, 277918: 471, 277919: 472, 277921: 473, 277922: 474, 277923: 475, 277928: 476, 277929: 477, 277930: 478, 277932: 479, 277934: 480, 277937: 481, 277938: 482, 277941: 483, 277945: 484, 277946: 485, 277947: 486, 277953: 487, 277954: 488, 277958: 489, 277959: 490, 277962: 491, 277964: 492, 277965: 493, 277969: 494, 277975: 495, 277978: 496, 277982: 497, 277984: 498, 277987: 499, 277988: 500, 277989: 501, 277992: 502, 277993: 503, 277996: 504, 277997: 505, 277998: 506, 278002: 507, 278004: 508, 278007: 509, 278008: 510, 278009: 511, 278012: 512, 278013: 513, 278014: 514, 278017: 515, 278019: 516, 278020: 517, 278021: 518, 278022: 519, 278023: 520, 278024: 521, 278026: 522, 278030: 523, 278034: 524, 278036: 525, 278043: 526, 278044: 527, 278048: 528, 278054: 529, 278056: 530, 278057: 531, 278058: 532, 278063: 533, 278064: 534, 278065: 535, 278066: 536, 278069: 537, 278070: 538, 278074: 539, 278075: 540, 278079: 541, 278085: 542, 278089: 543, 278092: 544, 278094: 545, 278095: 546, 278096: 547, 278097: 548, 278098: 549, 278100: 550, 278104: 551, 278106: 552, 278107: 553, 278110: 554, 278111: 555, 278112: 556, 278117: 557, 278119: 558, 278120: 559, 278122: 560, 278126: 561, 278130: 562, 278131: 563, 278137: 564, 278139: 565, 278140: 566, 278144: 567, 278148: 568, 278149: 569, 278153: 570, 278155: 571, 278156: 572, 278158: 573, 278159: 574, 278160: 575, 278161: 576, 278162: 577, 278167: 578, 278168: 579, 278172: 580, 278176: 581, 278177: 582, 278181: 583, 278183: 584, 278184: 585, 278185: 586, 278188: 587, 278193: 588, 278194: 589, 278197: 590, 278199: 591, 278200: 592, 278202: 593, 278203: 594, 278204: 595, 278206: 596, 278207: 597, 278209: 598, 278212: 599, 278213: 600, 278215: 601, 278216: 602, 278218: 603, 278220: 604, 278221: 605, 278224: 606, 278227: 607, 278229: 608, 278235: 609, 278237: 610, 278238: 611, 278242: 612, 278243: 613, 278244: 614, 278245: 615, 278246: 616, 278248: 617, 278249: 618, 278250: 619, 278251: 620, 278253: 621, 278254: 622, 278255: 623, 278257: 624, 278259: 625, 278260: 626, 278263: 627, 278264: 628, 278270: 629, 278274: 630, 278279: 631, 278280: 632, 278297: 633, 278300: 634, 278302: 635, 278307: 636, 278310: 637, 278311: 638, 278313: 639, 278314: 640, 278316: 641, 278319: 642, 278325: 643, 278328: 644, 278330: 645, 278332: 646, 278333: 647, 278334: 648, 278336: 649, 278342: 650, 278345: 651, 278346: 652, 278350: 653, 278355: 654, 278356: 655, 278357: 656, 278358: 657, 278361: 658, 278364: 659, 278365: 660, 278368: 661, 278373: 662, 278376: 663, 278377: 664, 278378: 665, 278388: 666, 278389: 667, 278390: 668, 278394: 669, 278396: 670, 278398: 671, 278400: 672, 278401: 673, 278407: 674, 278409: 675, 278411: 676, 278413: 677, 278418: 678, 278419: 679, 278422: 680, 278423: 681, 278425: 682, 278430: 683, 278431: 684, 278432: 685, 278435: 686, 278439: 687, 278444: 688, 278446: 689, 278449: 690, 278450: 691, 278452: 692, 278458: 693, 278459: 694, 278461: 695, 278462: 696, 278465: 697, 278466: 698, 278469: 699, 278474: 700, 278475: 701, 278479: 702, 278483: 703, 278487: 704, 278488: 705, 278490: 706, 278491: 707, 278492: 708, 278500: 709, 278501: 710, 278503: 711, 278506: 712, 278510: 713, 278512: 714, 278514: 715, 278515: 716, 278520: 717, 278522: 718, 278524: 719, 278525: 720, 278528: 721, 278529: 722, 278531: 723, 278533: 724, 278534: 725, 278535: 726, 278536: 727, 278537: 728, 278538: 729, 278539: 730, 278540: 731, 278541: 732, 278542: 733, 278543: 734, 278545: 735, 278550: 736, 278551: 737, 278552: 738, 278554: 739, 278556: 740, 278559: 741, 278561: 742, 278563: 743, 278565: 744, 278568: 745, 278569: 746, 278571: 747, 278573: 748, 278582: 749, 278586: 750, 278588: 751, 278597: 752, 278601: 753, 278606: 754, 278608: 755, 278610: 756, 278615: 757, 278618: 758, 278620: 759, 278621: 760, 278629: 761, 278633: 762, 278634: 763, 278636: 764, 278637: 765, 278641: 766, 278644: 767, 278645: 768, 278648: 769, 278650: 770, 278652: 771, 278653: 772, 278659: 773, 278663: 774, 278665: 775, 278668: 776, 278669: 777, 278670: 778, 278671: 779, 278672: 780, 278675: 781, 278681: 782, 278683: 783, 278688: 784, 278691: 785, 278692: 786, 278694: 787, 278698: 788, 278710: 789, 278713: 790, 278714: 791, 278715: 792, 278720: 793, 278721: 794, 278723: 795, 278724: 796, 278729: 797, 278731: 798, 278732: 799, 278740: 800, 278747: 801, 278750: 802, 278752: 803, 278755: 804, 278759: 805, 278760: 806, 278764: 807, 278766: 808, 278767: 809, 278769: 810, 278771: 811, 278772: 812, 278773: 813, 278774: 814, 278777: 815, 278778: 816, 278781: 817, 278782: 818, 278784: 819, 278786: 820, 278788: 821, 278789: 822, 278795: 823, 278796: 824, 278798: 825, 278799: 826, 278800: 827, 278806: 828, 278807: 829, 278813: 830, 278815: 831, 278818: 832, 278819: 833, 278820: 834, 278823: 835, 278824: 836, 278825: 837, 278828: 838, 278831: 839, 278832: 840, 278836: 841, 278838: 842, 278843: 843, 278844: 844, 278846: 845, 278849: 846, 278851: 847, 278852: 848, 278854: 849, 2: 850, 7: 851, 8: 852, 9: 853, 10: 854, 12: 855, 14: 856, 16: 857, 17: 858, 19: 859, 20: 860, 22: 861, 23: 862, 26: 863, 32: 864, 36: 865, 38: 866, 39: 867, 42: 868, 44: 869, 51: 870, 53: 871, 56: 872, 64: 873, 67: 874, 68: 875, 69: 876, 70: 877, 73: 878, 75: 879, 77: 880, 78: 881, 79: 882, 81: 883, 82: 884, 83: 885, 85: 886, 86: 887, 87: 888, 88: 889, 91: 890, 92: 891, 95: 892, 97: 893, 99: 894, 100: 895, 102: 896, 107: 897, 109: 898, 110: 899, 114: 900, 125: 901, 129: 902, 132: 903, 133: 904, 135: 905, 137: 906, 139: 907, 141: 908, 144: 909, 151: 910, 160: 911, 162: 912, 165: 913, 169: 914, 176: 915, 178: 916, 182: 917, 183: 918, 185: 919, 190: 920, 193: 921, 199: 922, 202: 923, 204: 924, 207: 925, 212: 926, 215: 927, 217: 928, 221: 929, 224: 930, 226: 931, 228: 932, 230: 933, 232: 934, 233: 935, 236: 936, 237: 937, 241: 938, 242: 939, 243: 940, 244: 941, 247: 942, 249: 943, 250: 944, 254: 945, 256: 946, 257: 947, 269: 948, 272: 949, 273: 950, 278: 951, 280: 952, 289: 953, 291: 954, 300: 955, 302: 956, 306: 957, 310: 958, 311: 959, 313: 960, 316: 961, 323: 962, 326: 963, 327: 964, 332: 965, 334: 966, 337: 967, 338: 968, 339: 969, 343: 970, 345: 971, 356: 972, 357: 973, 359: 974, 361: 975, 362: 976, 364: 977, 367: 978, 369: 979, 372: 980, 376: 981, 382: 982, 383: 983, 384: 984, 387: 985, 388: 986, 392: 987, 393: 988, 400: 989, 406: 990, 408: 991, 413: 992, 422: 993, 424: 994, 430: 995, 431: 996, 432: 997, 433: 998, 435: 999, 438: 1000, 439: 1001, 440: 1002, 441: 1003, 444: 1004, 446: 1005, 447: 1006, 453: 1007, 460: 1008, 463: 1009, 469: 1010, 472: 1011, 475: 1012, 476: 1013, 479: 1014, 483: 1015, 486: 1016, 487: 1017, 489: 1018, 493: 1019, 494: 1020, 496: 1021, 499: 1022, 500: 1023, 501: 1024, 503: 1025, 505: 1026, 507: 1027, 508: 1028, 512: 1029, 513: 1030, 516: 1031, 518: 1032, 523: 1033, 530: 1034, 537: 1035, 538: 1036, 542: 1037, 546: 1038, 547: 1039, 552: 1040, 558: 1041, 559: 1042, 564: 1043, 565: 1044, 566: 1045, 567: 1046, 569: 1047, 585: 1048, 592: 1049, 595: 1050, 596: 1051, 602: 1052, 614: 1053, 618: 1054, 619: 1055, 620: 1056, 621: 1057, 623: 1058, 625: 1059, 626: 1060, 628: 1061, 634: 1062, 638: 1063, 639: 1064, 640: 1065, 641: 1066, 643: 1067, 645: 1068, 649: 1069, 650: 1070, 651: 1071, 657: 1072, 660: 1073, 677: 1074, 678: 1075, 683: 1076, 685: 1077, 695: 1078, 698: 1079, 701: 1080, 705: 1081, 707: 1082, 708: 1083, 709: 1084, 711: 1085, 712: 1086, 713: 1087, 714: 1088, 717: 1089, 720: 1090, 724: 1091, 726: 1092, 728: 1093, 730: 1094, 735: 1095, 736: 1096, 737: 1097, 739: 1098, 741: 1099, 743: 1100, 744: 1101, 746: 1102, 753: 1103, 756: 1104, 757: 1105, 758: 1106, 759: 1107, 763: 1108, 765: 1109, 767: 1110, 769: 1111, 771: 1112, 774: 1113, 776: 1114, 777: 1115, 778: 1116, 780: 1117, 782: 1118, 785: 1119, 786: 1120, 790: 1121, 791: 1122, 795: 1123, 799: 1124, 805: 1125, 809: 1126, 811: 1127, 818: 1128, 819: 1129, 822: 1130, 824: 1131, 827: 1132, 828: 1133, 834: 1134, 835: 1135, 843: 1136, 848: 1137, 849: 1138, 850: 1139, 853: 1140, 861: 1141, 876: 1142, 878: 1143, 882: 1144, 883: 1145, 885: 1146, 886: 1147, 887: 1148, 895: 1149, 896: 1150, 899: 1151, 900: 1152, 901: 1153, 902: 1154, 903: 1155, 913: 1156, 914: 1157, 915: 1158, 916: 1159, 919: 1160, 921: 1161, 924: 1162, 929: 1163, 932: 1164, 933: 1165, 936: 1166, 937: 1167, 938: 1168, 941: 1169, 944: 1170, 945: 1171, 951: 1172, 955: 1173, 965: 1174, 967: 1175, 969: 1176, 970: 1177, 973: 1178, 974: 1179, 981: 1180, 984: 1181, 986: 1182, 989: 1183, 996: 1184, 998: 1185, 999: 1186, 1000: 1187, 1003: 1188, 1007: 1189, 1008: 1190, 1009: 1191, 1010: 1192, 1011: 1193, 1012: 1194, 1016: 1195, 1017: 1196, 1019: 1197, 1021: 1198, 1022: 1199, 1024: 1200, 1025: 1201, 1026: 1202, 1031: 1203, 1032: 1204, 1038: 1205, 1040: 1206, 1043: 1207, 1046: 1208, 1048: 1209, 1054: 1210, 1056: 1211, 1057: 1212, 1060: 1213, 1063: 1214, 1064: 1215, 1069: 1216, 1075: 1217, 1079: 1218, 1082: 1219, 1083: 1220, 1084: 1221, 1087: 1222, 1089: 1223, 1093: 1224, 1094: 1225, 1095: 1226, 1096: 1227, 1098: 1228, 1100: 1229, 1106: 1230, 1108: 1231, 1111: 1232, 1113: 1233, 1116: 1234, 1118: 1235, 1123: 1236, 1124: 1237, 1129: 1238, 1131: 1239, 1132: 1240, 1133: 1241, 1137: 1242, 1138: 1243, 1140: 1244, 1150: 1245, 1155: 1246, 1161: 1247, 1164: 1248, 1166: 1249, 1167: 1250, 1168: 1251, 1169: 1252, 1170: 1253, 1172: 1254, 1174: 1255, 1178: 1256, 1180: 1257, 1184: 1258, 1189: 1259, 1192: 1260, 1193: 1261, 1200: 1262, 1206: 1263, 1210: 1264, 1211: 1265, 1214: 1266, 1219: 1267, 1223: 1268, 1225: 1269, 1231: 1270, 1233: 1271, 1234: 1272, 1235: 1273, 1237: 1274, 1238: 1275, 1242: 1276, 1248: 1277, 1249: 1278, 1250: 1279, 1252: 1280, 1254: 1281, 1256: 1282, 1258: 1283, 1259: 1284, 1260: 1285, 1261: 1286, 1262: 1287, 1263: 1288, 1264: 1289, 1266: 1290, 1267: 1291, 1270: 1292, 1275: 1293, 1279: 1294, 1281: 1295, 1293: 1296, 1294: 1297, 1296: 1298, 1297: 1299, 1300: 1300, 1303: 1301, 1309: 1302, 1314: 1303, 1317: 1304, 1324: 1305, 1325: 1306, 1326: 1307, 1330: 1308, 1331: 1309, 1332: 1310, 1334: 1311, 1343: 1312, 1344: 1313, 1345: 1314, 1348: 1315, 1355: 1316, 1359: 1317, 1360: 1318, 1361: 1319, 1368: 1320, 1369: 1321, 1372: 1322, 1375: 1323, 1376: 1324, 1377: 1325, 1378: 1326, 1389: 1327, 1390: 1328, 1395: 1329, 1396: 1330, 1398: 1331, 1399: 1332, 1403: 1333, 1409: 1334, 1410: 1335, 1412: 1336, 1416: 1337, 1417: 1338, 1421: 1339, 1424: 1340, 1427: 1341, 1433: 1342, 1434: 1343, 1435: 1344, 1436: 1345, 1439: 1346, 1442: 1347, 1448: 1348, 1455: 1349, 1461: 1350, 1466: 1351, 1467: 1352, 1469: 1353, 1473: 1354, 1475: 1355, 1477: 1356, 1484: 1357, 1485: 1358, 1486: 1359, 1487: 1360, 1489: 1361, 1490: 1362, 1491: 1363, 1496: 1364, 1499: 1365, 1500: 1366, 1502: 1367, 1504: 1368, 1505: 1369, 1506: 1370, 1511: 1371, 1513: 1372, 1515: 1373, 1517: 1374, 1519: 1375, 1521: 1376, 1530: 1377, 1533: 1378, 1535: 1379, 1539: 1380, 1541: 1381, 1543: 1382, 1545: 1383, 1546: 1384, 1547: 1385, 1548: 1386, 1550: 1387, 1552: 1388, 1554: 1389, 1555: 1390, 1556: 1391, 1557: 1392, 1558: 1393, 1559: 1394, 1564: 1395, 1567: 1396, 1569: 1397, 1570: 1398, 1573: 1399, 1578: 1400, 1582: 1401, 1583: 1402, 1585: 1403, 1586: 1404, 1588: 1405, 1589: 1406, 1591: 1407, 1596: 1408, 1597: 1409, 1599: 1410, 1608: 1411, 1610: 1412, 1615: 1413, 1616: 1414, 1617: 1415, 1618: 1416, 1619: 1417, 1633: 1418, 1639: 1419, 1641: 1420, 1643: 1421, 1646: 1422, 1650: 1423, 1652: 1424, 1653: 1425, 1654: 1426, 1660: 1427, 1661: 1428, 1664: 1429, 1667: 1430, 1672: 1431, 1673: 1432, 1674: 1433, 1676: 1434, 1683: 1435, 1684: 1436, 1687: 1437, 1688: 1438, 1696: 1439, 1703: 1440, 1705: 1441, 1706: 1442, 1718: 1443, 1719: 1444, 1721: 1445, 1723: 1446, 1725: 1447, 1729: 1448, 1730: 1449, 1733: 1450, 1745: 1451, 1750: 1452, 1759: 1453, 1761: 1454, 1762: 1455, 1765: 1456, 1768: 1457, 1770: 1458, 1773: 1459, 1775: 1460, 1781: 1461, 1782: 1462, 1785: 1463, 1790: 1464, 1791: 1465, 1792: 1466, 1793: 1467, 1797: 1468, 1799: 1469, 1802: 1470, 1803: 1471, 1805: 1472, 1807: 1473, 1809: 1474, 1812: 1475, 1813: 1476, 1827: 1477, 1829: 1478, 1830: 1479, 1835: 1480, 1838: 1481, 1841: 1482, 1844: 1483, 1846: 1484, 1848: 1485, 1850: 1486, 1859: 1487, 1861: 1488, 1863: 1489, 1867: 1490, 1869: 1491, 1878: 1492, 1881: 1493, 1888: 1494, 1891: 1495, 1892: 1496, 1898: 1497, 1900: 1498, 1901: 1499, 1903: 1500, 1904: 1501, 1905: 1502, 1910: 1503, 1915: 1504, 1918: 1505, 1921: 1506, 1922: 1507, 1923: 1508, 1924: 1509, 1927: 1510, 1928: 1511, 1930: 1512, 1933: 1513, 1937: 1514, 1938: 1515, 1945: 1516, 1947: 1517, 1948: 1518, 1949: 1519, 1951: 1520, 1954: 1521, 1956: 1522, 1960: 1523, 1961: 1524, 1963: 1525, 1965: 1526, 1966: 1527, 1969: 1528, 1971: 1529, 1973: 1530, 1978: 1531, 1983: 1532, 1984: 1533, 1986: 1534, 1987: 1535, 1989: 1536, 1990: 1537, 1993: 1538, 1995: 1539, 1996: 1540, 2009: 1541, 2010: 1542, 2012: 1543, 2013: 1544, 2018: 1545, 2019: 1546, 2020: 1547, 2024: 1548, 2030: 1549, 2033: 1550, 2035: 1551, 2036: 1552, 2038: 1553, 2041: 1554, 2043: 1555, 2045: 1556, 2046: 1557, 2051: 1558, 2060: 1559, 2061: 1560, 2063: 1561, 2066: 1562, 2070: 1563, 2074: 1564, 2075: 1565, 2076: 1566, 2077: 1567, 2078: 1568, 2082: 1569, 2084: 1570, 2087: 1571, 2089: 1572, 2090: 1573, 2097: 1574, 2099: 1575, 2103: 1576, 2104: 1577, 2105: 1578, 2106: 1579, 2108: 1580, 2109: 1581, 2110: 1582, 2115: 1583, 2116: 1584, 2119: 1585, 2127: 1586, 2129: 1587, 2130: 1588, 2132: 1589, 2134: 1590, 2135: 1591, 2136: 1592, 2138: 1593, 2139: 1594, 2141: 1595, 2147: 1596, 2148: 1597, 2150: 1598, 2152: 1599, 2155: 1600, 2158: 1601, 2160: 1602, 2163: 1603, 2169: 1604, 2170: 1605, 2172: 1606, 2178: 1607, 2179: 1608, 2181: 1609, 2183: 1610, 2189: 1611, 2190: 1612, 2196: 1613, 2197: 1614, 2198: 1615, 2199: 1616, 2203: 1617, 2204: 1618, 2209: 1619, 2216: 1620, 2218: 1621, 2219: 1622, 2222: 1623, 2223: 1624, 2224: 1625, 2225: 1626, 2226: 1627, 2230: 1628, 2232: 1629, 2238: 1630, 2240: 1631, 2244: 1632, 2250: 1633, 2253: 1634, 2255: 1635, 2266: 1636, 2268: 1637, 2270: 1638, 2271: 1639, 2275: 1640, 2276: 1641, 2281: 1642, 2283: 1643, 2287: 1644, 2288: 1645, 2290: 1646, 2292: 1647, 2295: 1648, 2296: 1649, 2302: 1650, 2305: 1651, 2308: 1652, 2311: 1653, 2312: 1654, 2313: 1655, 2316: 1656, 2324: 1657, 2326: 1658, 2329: 1659, 2330: 1660, 2333: 1661, 2334: 1662, 2335: 1663, 2336: 1664, 2337: 1665, 2339: 1666, 2340: 1667, 2345: 1668, 2349: 1669, 2350: 1670, 2351: 1671, 2352: 1672, 2354: 1673, 2355: 1674, 2357: 1675, 2358: 1676, 2359: 1677, 2363: 1678, 2366: 1679, 2368: 1680, 2369: 1681, 2374: 1682, 2375: 1683, 2376: 1684, 2379: 1685, 2385: 1686, 2386: 1687, 2388: 1688, 2389: 1689, 2395: 1690, 2398: 1691, 2399: 1692, 2403: 1693, 2404: 1694, 2406: 1695, 2411: 1696, 2414: 1697, 2415: 1698, 2416: 1699, 2417: 1700, 2421: 1701, 2425: 1702, 2436: 1703, 2437: 1704, 2439: 1705, 2442: 1706, 2448: 1707, 2451: 1708, 2453: 1709, 2455: 1710, 2457: 1711, 2459: 1712, 2461: 1713, 2462: 1714, 2466: 1715, 2470: 1716, 2473: 1717, 2480: 1718, 2481: 1719, 2482: 1720, 2484: 1721, 2485: 1722, 2488: 1723, 2499: 1724, 2500: 1725, 2501: 1726, 2503: 1727, 2504: 1728, 2506: 1729, 2508: 1730, 2515: 1731, 2517: 1732, 2520: 1733, 2524: 1734, 2525: 1735, 2528: 1736, 2529: 1737, 2531: 1738, 2534: 1739, 2540: 1740, 2542: 1741, 2544: 1742, 2545: 1743, 2546: 1744, 2549: 1745, 2550: 1746, 2552: 1747, 2555: 1748, 2559: 1749, 2562: 1750, 2565: 1751, 2566: 1752, 2567: 1753, 2568: 1754, 2569: 1755, 2574: 1756, 2576: 1757, 2578: 1758, 2579: 1759, 2580: 1760, 2582: 1761, 2583: 1762, 2584: 1763, 2588: 1764, 2589: 1765, 2590: 1766, 2591: 1767, 2592: 1768, 2595: 1769, 2596: 1770, 2597: 1771, 2598: 1772, 2599: 1773, 2605: 1774, 2608: 1775, 2611: 1776, 2613: 1777, 2615: 1778, 2616: 1779, 2617: 1780, 2618: 1781, 2622: 1782, 2630: 1783, 2632: 1784, 2633: 1785, 2634: 1786, 2638: 1787, 2640: 1788, 2643: 1789, 2644: 1790, 2651: 1791, 2653: 1792, 2655: 1793, 2656: 1794, 2658: 1795, 2661: 1796, 2665: 1797, 2668: 1798, 2670: 1799, 2678: 1800, 2679: 1801, 2681: 1802, 2683: 1803, 2685: 1804, 2687: 1805, 2688: 1806, 2690: 1807, 2693: 1808, 2696: 1809, 2700: 1810, 2705: 1811, 2708: 1812, 2711: 1813, 2712: 1814, 2718: 1815, 2719: 1816, 2723: 1817, 2724: 1818, 2728: 1819, 2729: 1820, 2731: 1821, 2734: 1822, 2738: 1823, 2742: 1824, 2744: 1825, 2746: 1826, 2749: 1827, 2759: 1828, 2760: 1829, 2765: 1830, 2766: 1831, 2768: 1832, 2769: 1833, 2770: 1834, 2771: 1835, 2776: 1836, 2781: 1837, 2782: 1838, 2784: 1839, 2789: 1840, 2790: 1841, 2791: 1842, 2793: 1843, 2798: 1844, 2799: 1845, 2803: 1846, 2804: 1847, 2807: 1848, 2808: 1849, 2830: 1850, 2837: 1851, 2844: 1852, 2847: 1853, 2850: 1854, 2853: 1855, 2854: 1856, 2855: 1857, 2859: 1858, 2861: 1859, 2863: 1860, 2864: 1861, 2869: 1862, 2870: 1863, 2871: 1864, 2872: 1865, 2882: 1866, 2883: 1867, 2885: 1868, 2889: 1869, 2891: 1870, 2892: 1871, 2893: 1872, 2896: 1873, 2900: 1874, 2903: 1875, 2906: 1876, 2907: 1877, 2914: 1878, 2932: 1879, 2933: 1880, 2935: 1881, 2936: 1882, 2939: 1883, 2942: 1884, 2943: 1885, 2945: 1886, 2946: 1887, 2948: 1888, 2950: 1889, 2954: 1890, 2957: 1891, 2962: 1892, 2964: 1893, 2966: 1894, 2968: 1895, 2972: 1896, 2973: 1897, 2974: 1898, 2977: 1899, 2979: 1900, 2980: 1901, 2982: 1902, 2983: 1903, 2984: 1904, 2985: 1905, 2991: 1906, 2992: 1907, 2995: 1908, 2996: 1909, 3003: 1910, 3005: 1911, 3009: 1912, 3017: 1913, 3020: 1914, 3023: 1915, 3026: 1916, 3027: 1917, 3030: 1918, 3032: 1919, 3035: 1920, 3039: 1921, 3044: 1922, 3045: 1923, 3046: 1924, 3048: 1925, 3049: 1926, 3052: 1927, 3053: 1928, 3054: 1929, 3060: 1930, 3061: 1931, 3062: 1932, 3063: 1933, 3066: 1934, 3067: 1935, 3071: 1936, 3073: 1937, 3074: 1938, 3077: 1939, 3079: 1940, 3081: 1941, 3087: 1942, 3088: 1943, 3089: 1944, 3093: 1945, 3094: 1946, 3095: 1947, 3096: 1948, 3099: 1949, 3100: 1950, 3101: 1951, 3104: 1952, 3106: 1953, 3111: 1954, 3113: 1955, 3114: 1956, 3133: 1957, 3141: 1958, 3142: 1959, 3145: 1960, 3146: 1961, 3148: 1962, 3150: 1963, 3154: 1964, 3165: 1965, 3166: 1966, 3167: 1967, 3168: 1968, 3172: 1969, 3174: 1970, 3175: 1971, 3177: 1972, 3185: 1973, 3186: 1974, 3189: 1975, 3191: 1976, 3192: 1977, 3193: 1978, 3194: 1979, 3197: 1980, 3200: 1981, 3202: 1982, 3206: 1983, 3209: 1984, 3224: 1985, 3232: 1986, 3236: 1987, 3237: 1988, 3243: 1989, 3247: 1990, 3251: 1991, 3257: 1992, 3260: 1993, 3261: 1994, 3262: 1995, 3266: 1996, 3268: 1997, 3282: 1998, 3283: 1999, 3289: 2000, 3291: 2001, 3293: 2002, 3296: 2003, 3300: 2004, 3302: 2005, 3305: 2006, 3307: 2007, 3310: 2008, 3315: 2009, 3320: 2010, 3321: 2011, 3323: 2012, 3326: 2013, 3328: 2014, 3329: 2015, 3331: 2016, 3332: 2017, 3343: 2018, 3344: 2019, 3346: 2020, 3347: 2021, 3350: 2022, 3351: 2023, 3355: 2024, 3357: 2025, 3362: 2026, 3363: 2027, 3364: 2028, 3368: 2029, 3371: 2030, 3373: 2031, 3374: 2032, 3376: 2033, 3379: 2034, 3385: 2035, 3386: 2036, 3388: 2037, 3391: 2038, 3393: 2039, 3395: 2040, 3396: 2041, 3400: 2042, 3401: 2043, 3402: 2044, 3404: 2045, 3408: 2046, 3416: 2047, 3418: 2048, 3421: 2049, 3422: 2050, 3423: 2051, 3427: 2052, 3432: 2053, 3433: 2054, 3435: 2055, 3437: 2056, 3445: 2057, 3449: 2058, 3452: 2059, 3454: 2060, 3460: 2061, 3462: 2062, 3463: 2063, 3467: 2064, 3471: 2065, 3472: 2066, 3473: 2067, 3477: 2068, 3479: 2069, 3480: 2070, 3481: 2071, 3487: 2072, 3488: 2073, 3492: 2074, 3493: 2075, 3495: 2076, 3496: 2077, 3502: 2078, 3505: 2079, 3506: 2080, 3507: 2081, 3508: 2082, 3509: 2083, 3510: 2084, 3512: 2085, 3514: 2086, 3519: 2087, 3521: 2088, 3528: 2089, 3529: 2090, 3532: 2091, 3533: 2092, 3534: 2093, 3537: 2094, 3538: 2095, 3541: 2096, 3542: 2097, 3543: 2098, 3544: 2099, 3546: 2100, 3547: 2101, 3549: 2102, 3550: 2103, 3554: 2104, 3556: 2105, 3564: 2106, 3569: 2107, 3570: 2108, 3571: 2109, 3573: 2110, 3575: 2111, 3578: 2112, 3580: 2113, 3583: 2114, 3586: 2115, 3588: 2116, 3593: 2117, 3594: 2118, 3596: 2119, 3599: 2120, 3601: 2121, 3602: 2122, 3603: 2123, 3604: 2124, 3605: 2125, 3611: 2126, 3613: 2127, 3615: 2128, 3619: 2129, 3622: 2130, 3628: 2131, 3630: 2132, 3632: 2133, 3633: 2134, 3640: 2135, 3641: 2136, 3643: 2137, 3645: 2138, 3647: 2139, 3648: 2140, 3651: 2141, 3652: 2142, 3654: 2143, 3655: 2144, 3656: 2145, 3659: 2146, 3660: 2147, 3665: 2148, 3667: 2149, 3668: 2150, 3669: 2151, 3670: 2152, 3671: 2153, 3673: 2154, 3674: 2155, 3675: 2156, 3677: 2157, 3679: 2158, 3684: 2159, 3686: 2160, 3690: 2161, 3693: 2162, 3694: 2163, 3702: 2164, 3704: 2165, 3709: 2166, 3711: 2167, 3712: 2168, 3713: 2169, 3719: 2170, 3728: 2171, 3731: 2172, 3739: 2173, 3740: 2174, 3743: 2175, 3745: 2176, 3752: 2177, 3756: 2178, 3757: 2179}\n",
            "encoded angka ke userID:  {0: 276725, 1: 276726, 2: 276727, 3: 276729, 4: 276733, 5: 276736, 6: 276737, 7: 276744, 8: 276745, 9: 276746, 10: 276747, 11: 276748, 12: 276751, 13: 276754, 14: 276755, 15: 276760, 16: 276762, 17: 276765, 18: 276768, 19: 276772, 20: 276774, 21: 276780, 22: 276786, 23: 276788, 24: 276796, 25: 276798, 26: 276800, 27: 276803, 28: 276804, 29: 276806, 30: 276808, 31: 276811, 32: 276812, 33: 276813, 34: 276814, 35: 276817, 36: 276820, 37: 276822, 38: 276827, 39: 276828, 40: 276830, 41: 276832, 42: 276833, 43: 276835, 44: 276837, 45: 276838, 46: 276840, 47: 276842, 48: 276847, 49: 276848, 50: 276850, 51: 276852, 52: 276853, 53: 276854, 54: 276856, 55: 276857, 56: 276859, 57: 276861, 58: 276862, 59: 276863, 60: 276866, 61: 276869, 62: 276870, 63: 276872, 64: 276873, 65: 276875, 66: 276878, 67: 276879, 68: 276884, 69: 276887, 70: 276888, 71: 276889, 72: 276890, 73: 276896, 74: 276904, 75: 276905, 76: 276911, 77: 276912, 78: 276915, 79: 276916, 80: 276925, 81: 276927, 82: 276928, 83: 276929, 84: 276934, 85: 276936, 86: 276939, 87: 276943, 88: 276946, 89: 276949, 90: 276950, 91: 276953, 92: 276954, 93: 276957, 94: 276959, 95: 276963, 96: 276964, 97: 276965, 98: 276975, 99: 276981, 100: 276984, 101: 276986, 102: 276988, 103: 276989, 104: 276990, 105: 276992, 106: 276994, 107: 276997, 108: 276998, 109: 277002, 110: 277007, 111: 277009, 112: 277010, 113: 277012, 114: 277018, 115: 277019, 116: 277022, 117: 277023, 118: 277028, 119: 277031, 120: 277032, 121: 277035, 122: 277036, 123: 277040, 124: 277042, 125: 277048, 126: 277051, 127: 277052, 128: 277053, 129: 277056, 130: 277058, 131: 277064, 132: 277065, 133: 277072, 134: 277073, 135: 277074, 136: 277075, 137: 277079, 138: 277085, 139: 277087, 140: 277090, 141: 277094, 142: 277096, 143: 277102, 144: 277107, 145: 277109, 146: 277114, 147: 277116, 148: 277123, 149: 277124, 150: 277128, 151: 277129, 152: 277134, 153: 277135, 154: 277139, 155: 277142, 156: 277143, 157: 277149, 158: 277155, 159: 277157, 160: 277159, 161: 277165, 162: 277168, 163: 277170, 164: 277171, 165: 277176, 166: 277179, 167: 277180, 168: 277183, 169: 277186, 170: 277187, 171: 277188, 172: 277189, 173: 277195, 174: 277196, 175: 277197, 176: 277203, 177: 277205, 178: 277209, 179: 277212, 180: 277220, 181: 277221, 182: 277228, 183: 277229, 184: 277230, 185: 277231, 186: 277232, 187: 277235, 188: 277237, 189: 277240, 190: 277242, 191: 277243, 192: 277244, 193: 277245, 194: 277246, 195: 277249, 196: 277253, 197: 277256, 198: 277257, 199: 277261, 200: 277262, 201: 277265, 202: 277267, 203: 277268, 204: 277269, 205: 277271, 206: 277272, 207: 277274, 208: 277281, 209: 277284, 210: 277285, 211: 277288, 212: 277291, 213: 277292, 214: 277293, 215: 277305, 216: 277314, 217: 277315, 218: 277317, 219: 277330, 220: 277334, 221: 277338, 222: 277339, 223: 277340, 224: 277341, 225: 277343, 226: 277348, 227: 277351, 228: 277353, 229: 277358, 230: 277359, 231: 277363, 232: 277364, 233: 277367, 234: 277369, 235: 277371, 236: 277374, 237: 277375, 238: 277378, 239: 277379, 240: 277380, 241: 277384, 242: 277388, 243: 277389, 244: 277392, 245: 277397, 246: 277399, 247: 277400, 248: 277402, 249: 277405, 250: 277408, 251: 277411, 252: 277413, 253: 277424, 254: 277425, 255: 277427, 256: 277432, 257: 277433, 258: 277434, 259: 277435, 260: 277436, 261: 277439, 262: 277444, 263: 277453, 264: 277457, 265: 277461, 266: 277462, 267: 277466, 268: 277469, 269: 277470, 270: 277471, 271: 277473, 272: 277474, 273: 277478, 274: 277479, 275: 277486, 276: 277488, 277: 277489, 278: 277502, 279: 277506, 280: 277508, 281: 277509, 282: 277513, 283: 277514, 284: 277516, 285: 277517, 286: 277518, 287: 277519, 288: 277523, 289: 277525, 290: 277526, 291: 277527, 292: 277528, 293: 277529, 294: 277530, 295: 277532, 296: 277533, 297: 277535, 298: 277538, 299: 277544, 300: 277547, 301: 277548, 302: 277554, 303: 277556, 304: 277559, 305: 277560, 306: 277562, 307: 277563, 308: 277565, 309: 277568, 310: 277569, 311: 277574, 312: 277575, 313: 277579, 314: 277585, 315: 277586, 316: 277588, 317: 277589, 318: 277590, 319: 277594, 320: 277595, 321: 277596, 322: 277598, 323: 277601, 324: 277605, 325: 277610, 326: 277619, 327: 277622, 328: 277623, 329: 277627, 330: 277629, 331: 277632, 332: 277633, 333: 277636, 334: 277638, 335: 277639, 336: 277641, 337: 277643, 338: 277646, 339: 277647, 340: 277648, 341: 277650, 342: 277651, 343: 277657, 344: 277660, 345: 277662, 346: 277665, 347: 277667, 348: 277680, 349: 277681, 350: 277682, 351: 277687, 352: 277688, 353: 277689, 354: 277691, 355: 277696, 356: 277697, 357: 277698, 358: 277700, 359: 277701, 360: 277705, 361: 277706, 362: 277710, 363: 277711, 364: 277712, 365: 277714, 366: 277716, 367: 277720, 368: 277722, 369: 277727, 370: 277728, 371: 277737, 372: 277740, 373: 277741, 374: 277743, 375: 277744, 376: 277746, 377: 277748, 378: 277752, 379: 277753, 380: 277756, 381: 277759, 382: 277761, 383: 277764, 384: 277765, 385: 277767, 386: 277768, 387: 277769, 388: 277774, 389: 277775, 390: 277776, 391: 277777, 392: 277778, 393: 277779, 394: 277781, 395: 277782, 396: 277783, 397: 277784, 398: 277786, 399: 277787, 400: 277788, 401: 277790, 402: 277791, 403: 277793, 404: 277794, 405: 277795, 406: 277797, 407: 277798, 408: 277799, 409: 277800, 410: 277801, 411: 277802, 412: 277803, 413: 277807, 414: 277808, 415: 277809, 416: 277811, 417: 277812, 418: 277813, 419: 277814, 420: 277816, 421: 277817, 422: 277818, 423: 277819, 424: 277820, 425: 277823, 426: 277824, 427: 277825, 428: 277826, 429: 277827, 430: 277828, 431: 277830, 432: 277831, 433: 277832, 434: 277833, 435: 277834, 436: 277835, 437: 277837, 438: 277838, 439: 277840, 440: 277841, 441: 277842, 442: 277843, 443: 277844, 444: 277845, 445: 277847, 446: 277853, 447: 277856, 448: 277862, 449: 277864, 450: 277867, 451: 277872, 452: 277873, 453: 277877, 454: 277879, 455: 277882, 456: 277884, 457: 277888, 458: 277891, 459: 277892, 460: 277894, 461: 277895, 462: 277898, 463: 277901, 464: 277903, 465: 277904, 466: 277908, 467: 277909, 468: 277911, 469: 277913, 470: 277915, 471: 277918, 472: 277919, 473: 277921, 474: 277922, 475: 277923, 476: 277928, 477: 277929, 478: 277930, 479: 277932, 480: 277934, 481: 277937, 482: 277938, 483: 277941, 484: 277945, 485: 277946, 486: 277947, 487: 277953, 488: 277954, 489: 277958, 490: 277959, 491: 277962, 492: 277964, 493: 277965, 494: 277969, 495: 277975, 496: 277978, 497: 277982, 498: 277984, 499: 277987, 500: 277988, 501: 277989, 502: 277992, 503: 277993, 504: 277996, 505: 277997, 506: 277998, 507: 278002, 508: 278004, 509: 278007, 510: 278008, 511: 278009, 512: 278012, 513: 278013, 514: 278014, 515: 278017, 516: 278019, 517: 278020, 518: 278021, 519: 278022, 520: 278023, 521: 278024, 522: 278026, 523: 278030, 524: 278034, 525: 278036, 526: 278043, 527: 278044, 528: 278048, 529: 278054, 530: 278056, 531: 278057, 532: 278058, 533: 278063, 534: 278064, 535: 278065, 536: 278066, 537: 278069, 538: 278070, 539: 278074, 540: 278075, 541: 278079, 542: 278085, 543: 278089, 544: 278092, 545: 278094, 546: 278095, 547: 278096, 548: 278097, 549: 278098, 550: 278100, 551: 278104, 552: 278106, 553: 278107, 554: 278110, 555: 278111, 556: 278112, 557: 278117, 558: 278119, 559: 278120, 560: 278122, 561: 278126, 562: 278130, 563: 278131, 564: 278137, 565: 278139, 566: 278140, 567: 278144, 568: 278148, 569: 278149, 570: 278153, 571: 278155, 572: 278156, 573: 278158, 574: 278159, 575: 278160, 576: 278161, 577: 278162, 578: 278167, 579: 278168, 580: 278172, 581: 278176, 582: 278177, 583: 278181, 584: 278183, 585: 278184, 586: 278185, 587: 278188, 588: 278193, 589: 278194, 590: 278197, 591: 278199, 592: 278200, 593: 278202, 594: 278203, 595: 278204, 596: 278206, 597: 278207, 598: 278209, 599: 278212, 600: 278213, 601: 278215, 602: 278216, 603: 278218, 604: 278220, 605: 278221, 606: 278224, 607: 278227, 608: 278229, 609: 278235, 610: 278237, 611: 278238, 612: 278242, 613: 278243, 614: 278244, 615: 278245, 616: 278246, 617: 278248, 618: 278249, 619: 278250, 620: 278251, 621: 278253, 622: 278254, 623: 278255, 624: 278257, 625: 278259, 626: 278260, 627: 278263, 628: 278264, 629: 278270, 630: 278274, 631: 278279, 632: 278280, 633: 278297, 634: 278300, 635: 278302, 636: 278307, 637: 278310, 638: 278311, 639: 278313, 640: 278314, 641: 278316, 642: 278319, 643: 278325, 644: 278328, 645: 278330, 646: 278332, 647: 278333, 648: 278334, 649: 278336, 650: 278342, 651: 278345, 652: 278346, 653: 278350, 654: 278355, 655: 278356, 656: 278357, 657: 278358, 658: 278361, 659: 278364, 660: 278365, 661: 278368, 662: 278373, 663: 278376, 664: 278377, 665: 278378, 666: 278388, 667: 278389, 668: 278390, 669: 278394, 670: 278396, 671: 278398, 672: 278400, 673: 278401, 674: 278407, 675: 278409, 676: 278411, 677: 278413, 678: 278418, 679: 278419, 680: 278422, 681: 278423, 682: 278425, 683: 278430, 684: 278431, 685: 278432, 686: 278435, 687: 278439, 688: 278444, 689: 278446, 690: 278449, 691: 278450, 692: 278452, 693: 278458, 694: 278459, 695: 278461, 696: 278462, 697: 278465, 698: 278466, 699: 278469, 700: 278474, 701: 278475, 702: 278479, 703: 278483, 704: 278487, 705: 278488, 706: 278490, 707: 278491, 708: 278492, 709: 278500, 710: 278501, 711: 278503, 712: 278506, 713: 278510, 714: 278512, 715: 278514, 716: 278515, 717: 278520, 718: 278522, 719: 278524, 720: 278525, 721: 278528, 722: 278529, 723: 278531, 724: 278533, 725: 278534, 726: 278535, 727: 278536, 728: 278537, 729: 278538, 730: 278539, 731: 278540, 732: 278541, 733: 278542, 734: 278543, 735: 278545, 736: 278550, 737: 278551, 738: 278552, 739: 278554, 740: 278556, 741: 278559, 742: 278561, 743: 278563, 744: 278565, 745: 278568, 746: 278569, 747: 278571, 748: 278573, 749: 278582, 750: 278586, 751: 278588, 752: 278597, 753: 278601, 754: 278606, 755: 278608, 756: 278610, 757: 278615, 758: 278618, 759: 278620, 760: 278621, 761: 278629, 762: 278633, 763: 278634, 764: 278636, 765: 278637, 766: 278641, 767: 278644, 768: 278645, 769: 278648, 770: 278650, 771: 278652, 772: 278653, 773: 278659, 774: 278663, 775: 278665, 776: 278668, 777: 278669, 778: 278670, 779: 278671, 780: 278672, 781: 278675, 782: 278681, 783: 278683, 784: 278688, 785: 278691, 786: 278692, 787: 278694, 788: 278698, 789: 278710, 790: 278713, 791: 278714, 792: 278715, 793: 278720, 794: 278721, 795: 278723, 796: 278724, 797: 278729, 798: 278731, 799: 278732, 800: 278740, 801: 278747, 802: 278750, 803: 278752, 804: 278755, 805: 278759, 806: 278760, 807: 278764, 808: 278766, 809: 278767, 810: 278769, 811: 278771, 812: 278772, 813: 278773, 814: 278774, 815: 278777, 816: 278778, 817: 278781, 818: 278782, 819: 278784, 820: 278786, 821: 278788, 822: 278789, 823: 278795, 824: 278796, 825: 278798, 826: 278799, 827: 278800, 828: 278806, 829: 278807, 830: 278813, 831: 278815, 832: 278818, 833: 278819, 834: 278820, 835: 278823, 836: 278824, 837: 278825, 838: 278828, 839: 278831, 840: 278832, 841: 278836, 842: 278838, 843: 278843, 844: 278844, 845: 278846, 846: 278849, 847: 278851, 848: 278852, 849: 278854, 850: 2, 851: 7, 852: 8, 853: 9, 854: 10, 855: 12, 856: 14, 857: 16, 858: 17, 859: 19, 860: 20, 861: 22, 862: 23, 863: 26, 864: 32, 865: 36, 866: 38, 867: 39, 868: 42, 869: 44, 870: 51, 871: 53, 872: 56, 873: 64, 874: 67, 875: 68, 876: 69, 877: 70, 878: 73, 879: 75, 880: 77, 881: 78, 882: 79, 883: 81, 884: 82, 885: 83, 886: 85, 887: 86, 888: 87, 889: 88, 890: 91, 891: 92, 892: 95, 893: 97, 894: 99, 895: 100, 896: 102, 897: 107, 898: 109, 899: 110, 900: 114, 901: 125, 902: 129, 903: 132, 904: 133, 905: 135, 906: 137, 907: 139, 908: 141, 909: 144, 910: 151, 911: 160, 912: 162, 913: 165, 914: 169, 915: 176, 916: 178, 917: 182, 918: 183, 919: 185, 920: 190, 921: 193, 922: 199, 923: 202, 924: 204, 925: 207, 926: 212, 927: 215, 928: 217, 929: 221, 930: 224, 931: 226, 932: 228, 933: 230, 934: 232, 935: 233, 936: 236, 937: 237, 938: 241, 939: 242, 940: 243, 941: 244, 942: 247, 943: 249, 944: 250, 945: 254, 946: 256, 947: 257, 948: 269, 949: 272, 950: 273, 951: 278, 952: 280, 953: 289, 954: 291, 955: 300, 956: 302, 957: 306, 958: 310, 959: 311, 960: 313, 961: 316, 962: 323, 963: 326, 964: 327, 965: 332, 966: 334, 967: 337, 968: 338, 969: 339, 970: 343, 971: 345, 972: 356, 973: 357, 974: 359, 975: 361, 976: 362, 977: 364, 978: 367, 979: 369, 980: 372, 981: 376, 982: 382, 983: 383, 984: 384, 985: 387, 986: 388, 987: 392, 988: 393, 989: 400, 990: 406, 991: 408, 992: 413, 993: 422, 994: 424, 995: 430, 996: 431, 997: 432, 998: 433, 999: 435, 1000: 438, 1001: 439, 1002: 440, 1003: 441, 1004: 444, 1005: 446, 1006: 447, 1007: 453, 1008: 460, 1009: 463, 1010: 469, 1011: 472, 1012: 475, 1013: 476, 1014: 479, 1015: 483, 1016: 486, 1017: 487, 1018: 489, 1019: 493, 1020: 494, 1021: 496, 1022: 499, 1023: 500, 1024: 501, 1025: 503, 1026: 505, 1027: 507, 1028: 508, 1029: 512, 1030: 513, 1031: 516, 1032: 518, 1033: 523, 1034: 530, 1035: 537, 1036: 538, 1037: 542, 1038: 546, 1039: 547, 1040: 552, 1041: 558, 1042: 559, 1043: 564, 1044: 565, 1045: 566, 1046: 567, 1047: 569, 1048: 585, 1049: 592, 1050: 595, 1051: 596, 1052: 602, 1053: 614, 1054: 618, 1055: 619, 1056: 620, 1057: 621, 1058: 623, 1059: 625, 1060: 626, 1061: 628, 1062: 634, 1063: 638, 1064: 639, 1065: 640, 1066: 641, 1067: 643, 1068: 645, 1069: 649, 1070: 650, 1071: 651, 1072: 657, 1073: 660, 1074: 677, 1075: 678, 1076: 683, 1077: 685, 1078: 695, 1079: 698, 1080: 701, 1081: 705, 1082: 707, 1083: 708, 1084: 709, 1085: 711, 1086: 712, 1087: 713, 1088: 714, 1089: 717, 1090: 720, 1091: 724, 1092: 726, 1093: 728, 1094: 730, 1095: 735, 1096: 736, 1097: 737, 1098: 739, 1099: 741, 1100: 743, 1101: 744, 1102: 746, 1103: 753, 1104: 756, 1105: 757, 1106: 758, 1107: 759, 1108: 763, 1109: 765, 1110: 767, 1111: 769, 1112: 771, 1113: 774, 1114: 776, 1115: 777, 1116: 778, 1117: 780, 1118: 782, 1119: 785, 1120: 786, 1121: 790, 1122: 791, 1123: 795, 1124: 799, 1125: 805, 1126: 809, 1127: 811, 1128: 818, 1129: 819, 1130: 822, 1131: 824, 1132: 827, 1133: 828, 1134: 834, 1135: 835, 1136: 843, 1137: 848, 1138: 849, 1139: 850, 1140: 853, 1141: 861, 1142: 876, 1143: 878, 1144: 882, 1145: 883, 1146: 885, 1147: 886, 1148: 887, 1149: 895, 1150: 896, 1151: 899, 1152: 900, 1153: 901, 1154: 902, 1155: 903, 1156: 913, 1157: 914, 1158: 915, 1159: 916, 1160: 919, 1161: 921, 1162: 924, 1163: 929, 1164: 932, 1165: 933, 1166: 936, 1167: 937, 1168: 938, 1169: 941, 1170: 944, 1171: 945, 1172: 951, 1173: 955, 1174: 965, 1175: 967, 1176: 969, 1177: 970, 1178: 973, 1179: 974, 1180: 981, 1181: 984, 1182: 986, 1183: 989, 1184: 996, 1185: 998, 1186: 999, 1187: 1000, 1188: 1003, 1189: 1007, 1190: 1008, 1191: 1009, 1192: 1010, 1193: 1011, 1194: 1012, 1195: 1016, 1196: 1017, 1197: 1019, 1198: 1021, 1199: 1022, 1200: 1024, 1201: 1025, 1202: 1026, 1203: 1031, 1204: 1032, 1205: 1038, 1206: 1040, 1207: 1043, 1208: 1046, 1209: 1048, 1210: 1054, 1211: 1056, 1212: 1057, 1213: 1060, 1214: 1063, 1215: 1064, 1216: 1069, 1217: 1075, 1218: 1079, 1219: 1082, 1220: 1083, 1221: 1084, 1222: 1087, 1223: 1089, 1224: 1093, 1225: 1094, 1226: 1095, 1227: 1096, 1228: 1098, 1229: 1100, 1230: 1106, 1231: 1108, 1232: 1111, 1233: 1113, 1234: 1116, 1235: 1118, 1236: 1123, 1237: 1124, 1238: 1129, 1239: 1131, 1240: 1132, 1241: 1133, 1242: 1137, 1243: 1138, 1244: 1140, 1245: 1150, 1246: 1155, 1247: 1161, 1248: 1164, 1249: 1166, 1250: 1167, 1251: 1168, 1252: 1169, 1253: 1170, 1254: 1172, 1255: 1174, 1256: 1178, 1257: 1180, 1258: 1184, 1259: 1189, 1260: 1192, 1261: 1193, 1262: 1200, 1263: 1206, 1264: 1210, 1265: 1211, 1266: 1214, 1267: 1219, 1268: 1223, 1269: 1225, 1270: 1231, 1271: 1233, 1272: 1234, 1273: 1235, 1274: 1237, 1275: 1238, 1276: 1242, 1277: 1248, 1278: 1249, 1279: 1250, 1280: 1252, 1281: 1254, 1282: 1256, 1283: 1258, 1284: 1259, 1285: 1260, 1286: 1261, 1287: 1262, 1288: 1263, 1289: 1264, 1290: 1266, 1291: 1267, 1292: 1270, 1293: 1275, 1294: 1279, 1295: 1281, 1296: 1293, 1297: 1294, 1298: 1296, 1299: 1297, 1300: 1300, 1301: 1303, 1302: 1309, 1303: 1314, 1304: 1317, 1305: 1324, 1306: 1325, 1307: 1326, 1308: 1330, 1309: 1331, 1310: 1332, 1311: 1334, 1312: 1343, 1313: 1344, 1314: 1345, 1315: 1348, 1316: 1355, 1317: 1359, 1318: 1360, 1319: 1361, 1320: 1368, 1321: 1369, 1322: 1372, 1323: 1375, 1324: 1376, 1325: 1377, 1326: 1378, 1327: 1389, 1328: 1390, 1329: 1395, 1330: 1396, 1331: 1398, 1332: 1399, 1333: 1403, 1334: 1409, 1335: 1410, 1336: 1412, 1337: 1416, 1338: 1417, 1339: 1421, 1340: 1424, 1341: 1427, 1342: 1433, 1343: 1434, 1344: 1435, 1345: 1436, 1346: 1439, 1347: 1442, 1348: 1448, 1349: 1455, 1350: 1461, 1351: 1466, 1352: 1467, 1353: 1469, 1354: 1473, 1355: 1475, 1356: 1477, 1357: 1484, 1358: 1485, 1359: 1486, 1360: 1487, 1361: 1489, 1362: 1490, 1363: 1491, 1364: 1496, 1365: 1499, 1366: 1500, 1367: 1502, 1368: 1504, 1369: 1505, 1370: 1506, 1371: 1511, 1372: 1513, 1373: 1515, 1374: 1517, 1375: 1519, 1376: 1521, 1377: 1530, 1378: 1533, 1379: 1535, 1380: 1539, 1381: 1541, 1382: 1543, 1383: 1545, 1384: 1546, 1385: 1547, 1386: 1548, 1387: 1550, 1388: 1552, 1389: 1554, 1390: 1555, 1391: 1556, 1392: 1557, 1393: 1558, 1394: 1559, 1395: 1564, 1396: 1567, 1397: 1569, 1398: 1570, 1399: 1573, 1400: 1578, 1401: 1582, 1402: 1583, 1403: 1585, 1404: 1586, 1405: 1588, 1406: 1589, 1407: 1591, 1408: 1596, 1409: 1597, 1410: 1599, 1411: 1608, 1412: 1610, 1413: 1615, 1414: 1616, 1415: 1617, 1416: 1618, 1417: 1619, 1418: 1633, 1419: 1639, 1420: 1641, 1421: 1643, 1422: 1646, 1423: 1650, 1424: 1652, 1425: 1653, 1426: 1654, 1427: 1660, 1428: 1661, 1429: 1664, 1430: 1667, 1431: 1672, 1432: 1673, 1433: 1674, 1434: 1676, 1435: 1683, 1436: 1684, 1437: 1687, 1438: 1688, 1439: 1696, 1440: 1703, 1441: 1705, 1442: 1706, 1443: 1718, 1444: 1719, 1445: 1721, 1446: 1723, 1447: 1725, 1448: 1729, 1449: 1730, 1450: 1733, 1451: 1745, 1452: 1750, 1453: 1759, 1454: 1761, 1455: 1762, 1456: 1765, 1457: 1768, 1458: 1770, 1459: 1773, 1460: 1775, 1461: 1781, 1462: 1782, 1463: 1785, 1464: 1790, 1465: 1791, 1466: 1792, 1467: 1793, 1468: 1797, 1469: 1799, 1470: 1802, 1471: 1803, 1472: 1805, 1473: 1807, 1474: 1809, 1475: 1812, 1476: 1813, 1477: 1827, 1478: 1829, 1479: 1830, 1480: 1835, 1481: 1838, 1482: 1841, 1483: 1844, 1484: 1846, 1485: 1848, 1486: 1850, 1487: 1859, 1488: 1861, 1489: 1863, 1490: 1867, 1491: 1869, 1492: 1878, 1493: 1881, 1494: 1888, 1495: 1891, 1496: 1892, 1497: 1898, 1498: 1900, 1499: 1901, 1500: 1903, 1501: 1904, 1502: 1905, 1503: 1910, 1504: 1915, 1505: 1918, 1506: 1921, 1507: 1922, 1508: 1923, 1509: 1924, 1510: 1927, 1511: 1928, 1512: 1930, 1513: 1933, 1514: 1937, 1515: 1938, 1516: 1945, 1517: 1947, 1518: 1948, 1519: 1949, 1520: 1951, 1521: 1954, 1522: 1956, 1523: 1960, 1524: 1961, 1525: 1963, 1526: 1965, 1527: 1966, 1528: 1969, 1529: 1971, 1530: 1973, 1531: 1978, 1532: 1983, 1533: 1984, 1534: 1986, 1535: 1987, 1536: 1989, 1537: 1990, 1538: 1993, 1539: 1995, 1540: 1996, 1541: 2009, 1542: 2010, 1543: 2012, 1544: 2013, 1545: 2018, 1546: 2019, 1547: 2020, 1548: 2024, 1549: 2030, 1550: 2033, 1551: 2035, 1552: 2036, 1553: 2038, 1554: 2041, 1555: 2043, 1556: 2045, 1557: 2046, 1558: 2051, 1559: 2060, 1560: 2061, 1561: 2063, 1562: 2066, 1563: 2070, 1564: 2074, 1565: 2075, 1566: 2076, 1567: 2077, 1568: 2078, 1569: 2082, 1570: 2084, 1571: 2087, 1572: 2089, 1573: 2090, 1574: 2097, 1575: 2099, 1576: 2103, 1577: 2104, 1578: 2105, 1579: 2106, 1580: 2108, 1581: 2109, 1582: 2110, 1583: 2115, 1584: 2116, 1585: 2119, 1586: 2127, 1587: 2129, 1588: 2130, 1589: 2132, 1590: 2134, 1591: 2135, 1592: 2136, 1593: 2138, 1594: 2139, 1595: 2141, 1596: 2147, 1597: 2148, 1598: 2150, 1599: 2152, 1600: 2155, 1601: 2158, 1602: 2160, 1603: 2163, 1604: 2169, 1605: 2170, 1606: 2172, 1607: 2178, 1608: 2179, 1609: 2181, 1610: 2183, 1611: 2189, 1612: 2190, 1613: 2196, 1614: 2197, 1615: 2198, 1616: 2199, 1617: 2203, 1618: 2204, 1619: 2209, 1620: 2216, 1621: 2218, 1622: 2219, 1623: 2222, 1624: 2223, 1625: 2224, 1626: 2225, 1627: 2226, 1628: 2230, 1629: 2232, 1630: 2238, 1631: 2240, 1632: 2244, 1633: 2250, 1634: 2253, 1635: 2255, 1636: 2266, 1637: 2268, 1638: 2270, 1639: 2271, 1640: 2275, 1641: 2276, 1642: 2281, 1643: 2283, 1644: 2287, 1645: 2288, 1646: 2290, 1647: 2292, 1648: 2295, 1649: 2296, 1650: 2302, 1651: 2305, 1652: 2308, 1653: 2311, 1654: 2312, 1655: 2313, 1656: 2316, 1657: 2324, 1658: 2326, 1659: 2329, 1660: 2330, 1661: 2333, 1662: 2334, 1663: 2335, 1664: 2336, 1665: 2337, 1666: 2339, 1667: 2340, 1668: 2345, 1669: 2349, 1670: 2350, 1671: 2351, 1672: 2352, 1673: 2354, 1674: 2355, 1675: 2357, 1676: 2358, 1677: 2359, 1678: 2363, 1679: 2366, 1680: 2368, 1681: 2369, 1682: 2374, 1683: 2375, 1684: 2376, 1685: 2379, 1686: 2385, 1687: 2386, 1688: 2388, 1689: 2389, 1690: 2395, 1691: 2398, 1692: 2399, 1693: 2403, 1694: 2404, 1695: 2406, 1696: 2411, 1697: 2414, 1698: 2415, 1699: 2416, 1700: 2417, 1701: 2421, 1702: 2425, 1703: 2436, 1704: 2437, 1705: 2439, 1706: 2442, 1707: 2448, 1708: 2451, 1709: 2453, 1710: 2455, 1711: 2457, 1712: 2459, 1713: 2461, 1714: 2462, 1715: 2466, 1716: 2470, 1717: 2473, 1718: 2480, 1719: 2481, 1720: 2482, 1721: 2484, 1722: 2485, 1723: 2488, 1724: 2499, 1725: 2500, 1726: 2501, 1727: 2503, 1728: 2504, 1729: 2506, 1730: 2508, 1731: 2515, 1732: 2517, 1733: 2520, 1734: 2524, 1735: 2525, 1736: 2528, 1737: 2529, 1738: 2531, 1739: 2534, 1740: 2540, 1741: 2542, 1742: 2544, 1743: 2545, 1744: 2546, 1745: 2549, 1746: 2550, 1747: 2552, 1748: 2555, 1749: 2559, 1750: 2562, 1751: 2565, 1752: 2566, 1753: 2567, 1754: 2568, 1755: 2569, 1756: 2574, 1757: 2576, 1758: 2578, 1759: 2579, 1760: 2580, 1761: 2582, 1762: 2583, 1763: 2584, 1764: 2588, 1765: 2589, 1766: 2590, 1767: 2591, 1768: 2592, 1769: 2595, 1770: 2596, 1771: 2597, 1772: 2598, 1773: 2599, 1774: 2605, 1775: 2608, 1776: 2611, 1777: 2613, 1778: 2615, 1779: 2616, 1780: 2617, 1781: 2618, 1782: 2622, 1783: 2630, 1784: 2632, 1785: 2633, 1786: 2634, 1787: 2638, 1788: 2640, 1789: 2643, 1790: 2644, 1791: 2651, 1792: 2653, 1793: 2655, 1794: 2656, 1795: 2658, 1796: 2661, 1797: 2665, 1798: 2668, 1799: 2670, 1800: 2678, 1801: 2679, 1802: 2681, 1803: 2683, 1804: 2685, 1805: 2687, 1806: 2688, 1807: 2690, 1808: 2693, 1809: 2696, 1810: 2700, 1811: 2705, 1812: 2708, 1813: 2711, 1814: 2712, 1815: 2718, 1816: 2719, 1817: 2723, 1818: 2724, 1819: 2728, 1820: 2729, 1821: 2731, 1822: 2734, 1823: 2738, 1824: 2742, 1825: 2744, 1826: 2746, 1827: 2749, 1828: 2759, 1829: 2760, 1830: 2765, 1831: 2766, 1832: 2768, 1833: 2769, 1834: 2770, 1835: 2771, 1836: 2776, 1837: 2781, 1838: 2782, 1839: 2784, 1840: 2789, 1841: 2790, 1842: 2791, 1843: 2793, 1844: 2798, 1845: 2799, 1846: 2803, 1847: 2804, 1848: 2807, 1849: 2808, 1850: 2830, 1851: 2837, 1852: 2844, 1853: 2847, 1854: 2850, 1855: 2853, 1856: 2854, 1857: 2855, 1858: 2859, 1859: 2861, 1860: 2863, 1861: 2864, 1862: 2869, 1863: 2870, 1864: 2871, 1865: 2872, 1866: 2882, 1867: 2883, 1868: 2885, 1869: 2889, 1870: 2891, 1871: 2892, 1872: 2893, 1873: 2896, 1874: 2900, 1875: 2903, 1876: 2906, 1877: 2907, 1878: 2914, 1879: 2932, 1880: 2933, 1881: 2935, 1882: 2936, 1883: 2939, 1884: 2942, 1885: 2943, 1886: 2945, 1887: 2946, 1888: 2948, 1889: 2950, 1890: 2954, 1891: 2957, 1892: 2962, 1893: 2964, 1894: 2966, 1895: 2968, 1896: 2972, 1897: 2973, 1898: 2974, 1899: 2977, 1900: 2979, 1901: 2980, 1902: 2982, 1903: 2983, 1904: 2984, 1905: 2985, 1906: 2991, 1907: 2992, 1908: 2995, 1909: 2996, 1910: 3003, 1911: 3005, 1912: 3009, 1913: 3017, 1914: 3020, 1915: 3023, 1916: 3026, 1917: 3027, 1918: 3030, 1919: 3032, 1920: 3035, 1921: 3039, 1922: 3044, 1923: 3045, 1924: 3046, 1925: 3048, 1926: 3049, 1927: 3052, 1928: 3053, 1929: 3054, 1930: 3060, 1931: 3061, 1932: 3062, 1933: 3063, 1934: 3066, 1935: 3067, 1936: 3071, 1937: 3073, 1938: 3074, 1939: 3077, 1940: 3079, 1941: 3081, 1942: 3087, 1943: 3088, 1944: 3089, 1945: 3093, 1946: 3094, 1947: 3095, 1948: 3096, 1949: 3099, 1950: 3100, 1951: 3101, 1952: 3104, 1953: 3106, 1954: 3111, 1955: 3113, 1956: 3114, 1957: 3133, 1958: 3141, 1959: 3142, 1960: 3145, 1961: 3146, 1962: 3148, 1963: 3150, 1964: 3154, 1965: 3165, 1966: 3166, 1967: 3167, 1968: 3168, 1969: 3172, 1970: 3174, 1971: 3175, 1972: 3177, 1973: 3185, 1974: 3186, 1975: 3189, 1976: 3191, 1977: 3192, 1978: 3193, 1979: 3194, 1980: 3197, 1981: 3200, 1982: 3202, 1983: 3206, 1984: 3209, 1985: 3224, 1986: 3232, 1987: 3236, 1988: 3237, 1989: 3243, 1990: 3247, 1991: 3251, 1992: 3257, 1993: 3260, 1994: 3261, 1995: 3262, 1996: 3266, 1997: 3268, 1998: 3282, 1999: 3283, 2000: 3289, 2001: 3291, 2002: 3293, 2003: 3296, 2004: 3300, 2005: 3302, 2006: 3305, 2007: 3307, 2008: 3310, 2009: 3315, 2010: 3320, 2011: 3321, 2012: 3323, 2013: 3326, 2014: 3328, 2015: 3329, 2016: 3331, 2017: 3332, 2018: 3343, 2019: 3344, 2020: 3346, 2021: 3347, 2022: 3350, 2023: 3351, 2024: 3355, 2025: 3357, 2026: 3362, 2027: 3363, 2028: 3364, 2029: 3368, 2030: 3371, 2031: 3373, 2032: 3374, 2033: 3376, 2034: 3379, 2035: 3385, 2036: 3386, 2037: 3388, 2038: 3391, 2039: 3393, 2040: 3395, 2041: 3396, 2042: 3400, 2043: 3401, 2044: 3402, 2045: 3404, 2046: 3408, 2047: 3416, 2048: 3418, 2049: 3421, 2050: 3422, 2051: 3423, 2052: 3427, 2053: 3432, 2054: 3433, 2055: 3435, 2056: 3437, 2057: 3445, 2058: 3449, 2059: 3452, 2060: 3454, 2061: 3460, 2062: 3462, 2063: 3463, 2064: 3467, 2065: 3471, 2066: 3472, 2067: 3473, 2068: 3477, 2069: 3479, 2070: 3480, 2071: 3481, 2072: 3487, 2073: 3488, 2074: 3492, 2075: 3493, 2076: 3495, 2077: 3496, 2078: 3502, 2079: 3505, 2080: 3506, 2081: 3507, 2082: 3508, 2083: 3509, 2084: 3510, 2085: 3512, 2086: 3514, 2087: 3519, 2088: 3521, 2089: 3528, 2090: 3529, 2091: 3532, 2092: 3533, 2093: 3534, 2094: 3537, 2095: 3538, 2096: 3541, 2097: 3542, 2098: 3543, 2099: 3544, 2100: 3546, 2101: 3547, 2102: 3549, 2103: 3550, 2104: 3554, 2105: 3556, 2106: 3564, 2107: 3569, 2108: 3570, 2109: 3571, 2110: 3573, 2111: 3575, 2112: 3578, 2113: 3580, 2114: 3583, 2115: 3586, 2116: 3588, 2117: 3593, 2118: 3594, 2119: 3596, 2120: 3599, 2121: 3601, 2122: 3602, 2123: 3603, 2124: 3604, 2125: 3605, 2126: 3611, 2127: 3613, 2128: 3615, 2129: 3619, 2130: 3622, 2131: 3628, 2132: 3630, 2133: 3632, 2134: 3633, 2135: 3640, 2136: 3641, 2137: 3643, 2138: 3645, 2139: 3647, 2140: 3648, 2141: 3651, 2142: 3652, 2143: 3654, 2144: 3655, 2145: 3656, 2146: 3659, 2147: 3660, 2148: 3665, 2149: 3667, 2150: 3668, 2151: 3669, 2152: 3670, 2153: 3671, 2154: 3673, 2155: 3674, 2156: 3675, 2157: 3677, 2158: 3679, 2159: 3684, 2160: 3686, 2161: 3690, 2162: 3693, 2163: 3694, 2164: 3702, 2165: 3704, 2166: 3709, 2167: 3711, 2168: 3712, 2169: 3713, 2170: 3719, 2171: 3728, 2172: 3731, 2173: 3739, 2174: 3740, 2175: 3743, 2176: 3745, 2177: 3752, 2178: 3756, 2179: 3757}\n"
          ]
        }
      ],
      "source": [
        "# mengubah User-ID menjadi list tanpa nilai yang sama\n",
        "user_ids = df_rating['User-ID'].unique().tolist()\n",
        "print('list userID: ', user_ids)\n",
        "\n",
        "# melakukan encoding User-ID\n",
        "user_to_user_encoded = {x: i for i, x in enumerate(user_ids)}\n",
        "print('encoded userID: ', user_to_user_encoded)\n",
        "\n",
        "# melakukan proses encoding angka ke User-ID\n",
        "user_encoded_to_user = {i: x for i, x in enumerate(user_ids)}\n",
        "print('encoded angka ke userID: ', user_encoded_to_user)"
      ]
    },
    {
      "cell_type": "code",
      "execution_count": null,
      "metadata": {
        "id": "0LsvoShT1MdD"
      },
      "outputs": [],
      "source": [
        "# mengubah ISBN menjadi list tanpa nilai yang sama\n",
        "isbn_id = df_rating['ISBN'].unique().tolist()\n",
        "\n",
        "# melakukan encoding ISBN\n",
        "isbn_to_isbn_encoded = {x: i for i, x in enumerate(isbn_id)}\n",
        "\n",
        "# melakukan proses encoding angka ke ISBN\n",
        "isbn_encoded_to_isbn = {i: x for i, x in enumerate(isbn_id)}"
      ]
    },
    {
      "cell_type": "code",
      "execution_count": null,
      "metadata": {
        "id": "Gm2p9zqg1MdE"
      },
      "outputs": [],
      "source": [
        "# Menonaktifkan peringatan SettingWithCopyWarning\n",
        "pd.options.mode.chained_assignment = None  # \"warn\" atau \"raise\" untuk menyalakannya kembali\n",
        "\n",
        "# Mapping User-ID ke dataframe user\n",
        "df_rating['user'] = df_rating['User-ID'].map(user_to_user_encoded)\n",
        "\n",
        "# Mapping ISBN ke dataframe judul buku\n",
        "df_rating['book_title'] = df_rating['ISBN'].map(isbn_to_isbn_encoded)"
      ]
    },
    {
      "cell_type": "markdown",
      "metadata": {
        "id": "KtFYEJcp1MdE"
      },
      "source": [
        "Cek beberapa hal dalam data seperti jumlah user, jumlah judul buku, dan mengubah nilai rating menjadi float."
      ]
    },
    {
      "cell_type": "code",
      "execution_count": null,
      "metadata": {
        "id": "wkgDR_pe1MdE",
        "outputId": "2b62733b-ce13-43b9-88ff-44a5baefe6a4"
      },
      "outputs": [
        {
          "name": "stdout",
          "output_type": "stream",
          "text": [
            "2180\n",
            "17178\n",
            "Number of User: 2180, Number of Resto: 17178, Min Rating: 0.0, Max Rating: 10.0\n"
          ]
        }
      ],
      "source": [
        "# mendapatkan jumlah user\n",
        "num_users = len(user_to_user_encoded)\n",
        "print(num_users)\n",
        "\n",
        "# mendapatkan jumlah judul buku\n",
        "num_book_title = len(isbn_to_isbn_encoded)\n",
        "print(num_book_title)\n",
        "\n",
        "# mengubah rating menjadi nilai float\n",
        "df_rating['Book-Rating'] = df_rating['Book-Rating'].values.astype(np.float32)\n",
        "\n",
        "# nilai minimum rating\n",
        "min_rating = min(df_rating['Book-Rating'])\n",
        "\n",
        "# nilai maksimum rating\n",
        "max_rating = max(df_rating['Book-Rating'])\n",
        "\n",
        "print('Number of User: {}, Number of Book: {}, Min Rating: {}, Max Rating: {}'.format(\n",
        "    num_users, num_book_title, min_rating, max_rating\n",
        "))"
      ]
    },
    {
      "cell_type": "markdown",
      "metadata": {
        "id": "4EzB0VyY1MdF"
      },
      "source": [
        "Proses persiapan data telah selesai dilakukan. Data kini sudah dalam format yang sesuai dan siap digunakan untuk pembagian menjadi data training dan data validasi.\n",
        "\n",
        "Langkah selanjutnya adalah melanjutkan ke proses pengembangan model collaborative filtering dengan menggunakan data yang telah dipersiapkan."
      ]
    },
    {
      "cell_type": "markdown",
      "metadata": {
        "id": "M3hG497E1MdF"
      },
      "source": [
        "### Teknik yang digunakan:\n",
        "\n",
        "- **TF-IDF Vectorizer**  \n",
        "  Mengubah teks (judul buku) menjadi representasi vektor berdasarkan frekuensi kata penting.  \n",
        "  - *Term Frequency (TF)*: frekuensi kata dalam dokumen.  \n",
        "  - *Inverse Document Frequency (IDF)*: bobot unik kata dalam seluruh koleksi dokumen.\n",
        "\n",
        "- **Cosine Similarity**  \n",
        "  Mengukur kesamaan antar vektor fitur (judul buku) dengan menghitung sudut kosinus antara dua vektor.  \n",
        "  Semakin kecil sudut, semakin tinggi tingkat kemiripan."
      ]
    },
    {
      "cell_type": "markdown",
      "metadata": {
        "id": "yUV_YiHz1MdF"
      },
      "source": [
        "### TF-IDF Vectorizer"
      ]
    },
    {
      "cell_type": "markdown",
      "metadata": {
        "id": "mEyXEiKY1MdF"
      },
      "source": [
        "Import fungsi tfidfvectorizer() dari libray Sklearn."
      ]
    },
    {
      "cell_type": "code",
      "execution_count": null,
      "metadata": {
        "id": "9Td1sUop1MdF",
        "outputId": "ec3fe200-5232-4b18-8c11-86e3cdf5e886"
      },
      "outputs": [
        {
          "data": {
            "text/plain": [
              "array(['1988', 'aaron', 'aarons', ..., 'zweifel', 'zwinger', 'â¼nter'],\n",
              "      dtype=object)"
            ]
          },
          "execution_count": 41,
          "metadata": {},
          "output_type": "execute_result"
        }
      ],
      "source": [
        "from sklearn.feature_extraction.text import TfidfVectorizer\n",
        "\n",
        "# Inisialisasi TfidfVectorizer\n",
        "tf = TfidfVectorizer()\n",
        "\n",
        "# Melakukan perhitungan idf pada data book_author\n",
        "tf.fit(data['book_author'])\n",
        "\n",
        "# Mapping array dari fitur index integer ke fitur nama\n",
        "tf.get_feature_names_out()"
      ]
    },
    {
      "cell_type": "markdown",
      "metadata": {
        "id": "5q61xwky1MdF"
      },
      "source": [
        "Selanjutnya, lakukan fit dan transformasi ke dalam bentuk matriks."
      ]
    },
    {
      "cell_type": "code",
      "execution_count": null,
      "metadata": {
        "id": "wr-1Dozv1MdG",
        "outputId": "5f9bfd05-e803-4929-9ae8-ae8b99b6ea73"
      },
      "outputs": [
        {
          "data": {
            "text/plain": [
              "(20000, 8746)"
            ]
          },
          "execution_count": 42,
          "metadata": {},
          "output_type": "execute_result"
        }
      ],
      "source": [
        "# Melakukan fit lalu ditransformasikan ke bentuk matrix\n",
        "tfidf_matrix = tf.fit_transform(data['book_author'])\n",
        "\n",
        "# Melihat ukuran matrix tfidf\n",
        "tfidf_matrix.shape"
      ]
    },
    {
      "cell_type": "markdown",
      "metadata": {
        "id": "zxTi4ZsR1MdG"
      },
      "source": [
        "Berdasarkan output, matriks TF-IDF memiliki ukuran `(20000, 8746)` dimana:\n",
        "\n",
        "- **20000**: jumlah data buku yang digunakan.\n",
        "- **8746**: jumlah fitur unik berupa kata dari nama penulis buku.\n",
        "\n",
        "Untuk mengubah matriks TF-IDF yang bersifat sparse menjadi matriks dense (penuh), digunakan fungsi `todense()`.  \n",
        "Matriks dense memudahkan pemrosesan lanjutan pada model rekomendasi."
      ]
    },
    {
      "cell_type": "code",
      "execution_count": null,
      "metadata": {
        "id": "L5J82B_L1MdG",
        "outputId": "e83658ea-848a-474d-b4ce-43caafa7e2f5"
      },
      "outputs": [
        {
          "data": {
            "text/plain": [
              "matrix([[0., 0., 0., ..., 0., 0., 0.],\n",
              "        [0., 0., 0., ..., 0., 0., 0.],\n",
              "        [0., 0., 0., ..., 0., 0., 0.],\n",
              "        ...,\n",
              "        [0., 0., 0., ..., 0., 0., 0.],\n",
              "        [0., 0., 0., ..., 0., 0., 0.],\n",
              "        [0., 0., 0., ..., 0., 0., 0.]])"
            ]
          },
          "execution_count": 43,
          "metadata": {},
          "output_type": "execute_result"
        }
      ],
      "source": [
        "# Mengubah vektor tf-idf dalam bentuk matriks dengan fungsi todense()\n",
        "tfidf_matrix.todense()"
      ]
    },
    {
      "cell_type": "markdown",
      "metadata": {
        "id": "FxF-rNU01MdG"
      },
      "source": [
        "Matriks TF-IDF hasil transformasi selanjutnya ditampilkan dalam bentuk DataFrame agar lebih mudah dipahami, dengan:\n",
        "\n",
        "- Baris mewakili judul buku (Book-Title).\n",
        "- Kolom mewakili nama penulis buku (Book-Author).\n",
        "\n",
        "Format ini membantu memvisualisasikan hubungan bobot kata penulis pada setiap judul buku."
      ]
    },
    {
      "cell_type": "code",
      "execution_count": null,
      "metadata": {
        "id": "OiLc4zGk1MdG",
        "outputId": "883bc1d8-7b22-439e-a398-20ef7cdc2419"
      },
      "outputs": [
        {
          "data": {
            "text/html": [
              "<div>\n",
              "<style scoped>\n",
              "    .dataframe tbody tr th:only-of-type {\n",
              "        vertical-align: middle;\n",
              "    }\n",
              "\n",
              "    .dataframe tbody tr th {\n",
              "        vertical-align: top;\n",
              "    }\n",
              "\n",
              "    .dataframe thead th {\n",
              "        text-align: right;\n",
              "    }\n",
              "</style>\n",
              "<table border=\"1\" class=\"dataframe\">\n",
              "  <thead>\n",
              "    <tr style=\"text-align: right;\">\n",
              "      <th></th>\n",
              "      <th>windsor</th>\n",
              "      <th>suza</th>\n",
              "      <th>woodhams</th>\n",
              "      <th>wertheim</th>\n",
              "      <th>gwen</th>\n",
              "      <th>pearsall</th>\n",
              "      <th>hamid</th>\n",
              "      <th>nila</th>\n",
              "      <th>gillan</th>\n",
              "      <th>leclaire</th>\n",
              "      <th>plaskow</th>\n",
              "      <th>jeanne</th>\n",
              "      <th>selznick</th>\n",
              "      <th>mccafferty</th>\n",
              "      <th>yeats</th>\n",
              "    </tr>\n",
              "    <tr>\n",
              "      <th>book_title</th>\n",
              "      <th></th>\n",
              "      <th></th>\n",
              "      <th></th>\n",
              "      <th></th>\n",
              "      <th></th>\n",
              "      <th></th>\n",
              "      <th></th>\n",
              "      <th></th>\n",
              "      <th></th>\n",
              "      <th></th>\n",
              "      <th></th>\n",
              "      <th></th>\n",
              "      <th></th>\n",
              "      <th></th>\n",
              "      <th></th>\n",
              "    </tr>\n",
              "  </thead>\n",
              "  <tbody>\n",
              "    <tr>\n",
              "      <th>The Great Railway Bazaar: By Train Through Asia</th>\n",
              "      <td>0.0</td>\n",
              "      <td>0.0</td>\n",
              "      <td>0.0</td>\n",
              "      <td>0.0</td>\n",
              "      <td>0.0</td>\n",
              "      <td>0.0</td>\n",
              "      <td>0.0</td>\n",
              "      <td>0.0</td>\n",
              "      <td>0.0</td>\n",
              "      <td>0.0</td>\n",
              "      <td>0.0</td>\n",
              "      <td>0.0</td>\n",
              "      <td>0.0</td>\n",
              "      <td>0.0</td>\n",
              "      <td>0.0</td>\n",
              "    </tr>\n",
              "    <tr>\n",
              "      <th>The Ghosts of Sleath</th>\n",
              "      <td>0.0</td>\n",
              "      <td>0.0</td>\n",
              "      <td>0.0</td>\n",
              "      <td>0.0</td>\n",
              "      <td>0.0</td>\n",
              "      <td>0.0</td>\n",
              "      <td>0.0</td>\n",
              "      <td>0.0</td>\n",
              "      <td>0.0</td>\n",
              "      <td>0.0</td>\n",
              "      <td>0.0</td>\n",
              "      <td>0.0</td>\n",
              "      <td>0.0</td>\n",
              "      <td>0.0</td>\n",
              "      <td>0.0</td>\n",
              "    </tr>\n",
              "    <tr>\n",
              "      <th>ZERO RESISTANCE SELLING : (direct marketing)</th>\n",
              "      <td>0.0</td>\n",
              "      <td>0.0</td>\n",
              "      <td>0.0</td>\n",
              "      <td>0.0</td>\n",
              "      <td>0.0</td>\n",
              "      <td>0.0</td>\n",
              "      <td>0.0</td>\n",
              "      <td>0.0</td>\n",
              "      <td>0.0</td>\n",
              "      <td>0.0</td>\n",
              "      <td>0.0</td>\n",
              "      <td>0.0</td>\n",
              "      <td>0.0</td>\n",
              "      <td>0.0</td>\n",
              "      <td>0.0</td>\n",
              "    </tr>\n",
              "    <tr>\n",
              "      <th>The Pageant of World History</th>\n",
              "      <td>0.0</td>\n",
              "      <td>0.0</td>\n",
              "      <td>0.0</td>\n",
              "      <td>0.0</td>\n",
              "      <td>0.0</td>\n",
              "      <td>0.0</td>\n",
              "      <td>0.0</td>\n",
              "      <td>0.0</td>\n",
              "      <td>0.0</td>\n",
              "      <td>0.0</td>\n",
              "      <td>0.0</td>\n",
              "      <td>0.0</td>\n",
              "      <td>0.0</td>\n",
              "      <td>0.0</td>\n",
              "      <td>0.0</td>\n",
              "    </tr>\n",
              "    <tr>\n",
              "      <th>Low Country Low Price</th>\n",
              "      <td>0.0</td>\n",
              "      <td>0.0</td>\n",
              "      <td>0.0</td>\n",
              "      <td>0.0</td>\n",
              "      <td>0.0</td>\n",
              "      <td>0.0</td>\n",
              "      <td>0.0</td>\n",
              "      <td>0.0</td>\n",
              "      <td>0.0</td>\n",
              "      <td>0.0</td>\n",
              "      <td>0.0</td>\n",
              "      <td>0.0</td>\n",
              "      <td>0.0</td>\n",
              "      <td>0.0</td>\n",
              "      <td>0.0</td>\n",
              "    </tr>\n",
              "    <tr>\n",
              "      <th>The Complete Idiot's Guide to Entertaining (Complete Idiot's Guide)</th>\n",
              "      <td>0.0</td>\n",
              "      <td>0.0</td>\n",
              "      <td>0.0</td>\n",
              "      <td>0.0</td>\n",
              "      <td>0.0</td>\n",
              "      <td>0.0</td>\n",
              "      <td>0.0</td>\n",
              "      <td>0.0</td>\n",
              "      <td>0.0</td>\n",
              "      <td>0.0</td>\n",
              "      <td>0.0</td>\n",
              "      <td>0.0</td>\n",
              "      <td>0.0</td>\n",
              "      <td>0.0</td>\n",
              "      <td>0.0</td>\n",
              "    </tr>\n",
              "    <tr>\n",
              "      <th>Out of the Box for Life: (Being Free Is Just a Choice)</th>\n",
              "      <td>0.0</td>\n",
              "      <td>0.0</td>\n",
              "      <td>0.0</td>\n",
              "      <td>0.0</td>\n",
              "      <td>0.0</td>\n",
              "      <td>0.0</td>\n",
              "      <td>0.0</td>\n",
              "      <td>0.0</td>\n",
              "      <td>0.0</td>\n",
              "      <td>0.0</td>\n",
              "      <td>0.0</td>\n",
              "      <td>0.0</td>\n",
              "      <td>0.0</td>\n",
              "      <td>0.0</td>\n",
              "      <td>0.0</td>\n",
              "    </tr>\n",
              "    <tr>\n",
              "      <th>A song at twilight</th>\n",
              "      <td>0.0</td>\n",
              "      <td>0.0</td>\n",
              "      <td>0.0</td>\n",
              "      <td>0.0</td>\n",
              "      <td>0.0</td>\n",
              "      <td>0.0</td>\n",
              "      <td>0.0</td>\n",
              "      <td>0.0</td>\n",
              "      <td>0.0</td>\n",
              "      <td>0.0</td>\n",
              "      <td>0.0</td>\n",
              "      <td>0.0</td>\n",
              "      <td>0.0</td>\n",
              "      <td>0.0</td>\n",
              "      <td>0.0</td>\n",
              "    </tr>\n",
              "    <tr>\n",
              "      <th>Leaning, leaning over water: A novel in ten stories</th>\n",
              "      <td>0.0</td>\n",
              "      <td>0.0</td>\n",
              "      <td>0.0</td>\n",
              "      <td>0.0</td>\n",
              "      <td>0.0</td>\n",
              "      <td>0.0</td>\n",
              "      <td>0.0</td>\n",
              "      <td>0.0</td>\n",
              "      <td>0.0</td>\n",
              "      <td>0.0</td>\n",
              "      <td>0.0</td>\n",
              "      <td>0.0</td>\n",
              "      <td>0.0</td>\n",
              "      <td>0.0</td>\n",
              "      <td>0.0</td>\n",
              "    </tr>\n",
              "    <tr>\n",
              "      <th>No Full Stops in India</th>\n",
              "      <td>0.0</td>\n",
              "      <td>0.0</td>\n",
              "      <td>0.0</td>\n",
              "      <td>0.0</td>\n",
              "      <td>0.0</td>\n",
              "      <td>0.0</td>\n",
              "      <td>0.0</td>\n",
              "      <td>0.0</td>\n",
              "      <td>0.0</td>\n",
              "      <td>0.0</td>\n",
              "      <td>0.0</td>\n",
              "      <td>0.0</td>\n",
              "      <td>0.0</td>\n",
              "      <td>0.0</td>\n",
              "      <td>0.0</td>\n",
              "    </tr>\n",
              "  </tbody>\n",
              "</table>\n",
              "</div>"
            ],
            "text/plain": [
              "                                                    windsor  suza  woodhams  \\\n",
              "book_title                                                                    \n",
              "The Great Railway Bazaar: By Train Through Asia         0.0   0.0       0.0   \n",
              "The Ghosts of Sleath                                    0.0   0.0       0.0   \n",
              "ZERO RESISTANCE SELLING : (direct marketing)            0.0   0.0       0.0   \n",
              "The Pageant of World History                            0.0   0.0       0.0   \n",
              "Low Country Low Price                                   0.0   0.0       0.0   \n",
              "The Complete Idiot's Guide to Entertaining (Com...      0.0   0.0       0.0   \n",
              "Out of the Box for Life: (Being Free Is Just a ...      0.0   0.0       0.0   \n",
              "A song at twilight                                      0.0   0.0       0.0   \n",
              "Leaning, leaning over water: A novel in ten sto...      0.0   0.0       0.0   \n",
              "No Full Stops in India                                  0.0   0.0       0.0   \n",
              "\n",
              "                                                    wertheim  gwen  pearsall  \\\n",
              "book_title                                                                     \n",
              "The Great Railway Bazaar: By Train Through Asia          0.0   0.0       0.0   \n",
              "The Ghosts of Sleath                                     0.0   0.0       0.0   \n",
              "ZERO RESISTANCE SELLING : (direct marketing)             0.0   0.0       0.0   \n",
              "The Pageant of World History                             0.0   0.0       0.0   \n",
              "Low Country Low Price                                    0.0   0.0       0.0   \n",
              "The Complete Idiot's Guide to Entertaining (Com...       0.0   0.0       0.0   \n",
              "Out of the Box for Life: (Being Free Is Just a ...       0.0   0.0       0.0   \n",
              "A song at twilight                                       0.0   0.0       0.0   \n",
              "Leaning, leaning over water: A novel in ten sto...       0.0   0.0       0.0   \n",
              "No Full Stops in India                                   0.0   0.0       0.0   \n",
              "\n",
              "                                                    hamid  nila  gillan  \\\n",
              "book_title                                                                \n",
              "The Great Railway Bazaar: By Train Through Asia       0.0   0.0     0.0   \n",
              "The Ghosts of Sleath                                  0.0   0.0     0.0   \n",
              "ZERO RESISTANCE SELLING : (direct marketing)          0.0   0.0     0.0   \n",
              "The Pageant of World History                          0.0   0.0     0.0   \n",
              "Low Country Low Price                                 0.0   0.0     0.0   \n",
              "The Complete Idiot's Guide to Entertaining (Com...    0.0   0.0     0.0   \n",
              "Out of the Box for Life: (Being Free Is Just a ...    0.0   0.0     0.0   \n",
              "A song at twilight                                    0.0   0.0     0.0   \n",
              "Leaning, leaning over water: A novel in ten sto...    0.0   0.0     0.0   \n",
              "No Full Stops in India                                0.0   0.0     0.0   \n",
              "\n",
              "                                                    leclaire  plaskow  jeanne  \\\n",
              "book_title                                                                      \n",
              "The Great Railway Bazaar: By Train Through Asia          0.0      0.0     0.0   \n",
              "The Ghosts of Sleath                                     0.0      0.0     0.0   \n",
              "ZERO RESISTANCE SELLING : (direct marketing)             0.0      0.0     0.0   \n",
              "The Pageant of World History                             0.0      0.0     0.0   \n",
              "Low Country Low Price                                    0.0      0.0     0.0   \n",
              "The Complete Idiot's Guide to Entertaining (Com...       0.0      0.0     0.0   \n",
              "Out of the Box for Life: (Being Free Is Just a ...       0.0      0.0     0.0   \n",
              "A song at twilight                                       0.0      0.0     0.0   \n",
              "Leaning, leaning over water: A novel in ten sto...       0.0      0.0     0.0   \n",
              "No Full Stops in India                                   0.0      0.0     0.0   \n",
              "\n",
              "                                                    selznick  mccafferty  \\\n",
              "book_title                                                                 \n",
              "The Great Railway Bazaar: By Train Through Asia          0.0         0.0   \n",
              "The Ghosts of Sleath                                     0.0         0.0   \n",
              "ZERO RESISTANCE SELLING : (direct marketing)             0.0         0.0   \n",
              "The Pageant of World History                             0.0         0.0   \n",
              "Low Country Low Price                                    0.0         0.0   \n",
              "The Complete Idiot's Guide to Entertaining (Com...       0.0         0.0   \n",
              "Out of the Box for Life: (Being Free Is Just a ...       0.0         0.0   \n",
              "A song at twilight                                       0.0         0.0   \n",
              "Leaning, leaning over water: A novel in ten sto...       0.0         0.0   \n",
              "No Full Stops in India                                   0.0         0.0   \n",
              "\n",
              "                                                    yeats  \n",
              "book_title                                                 \n",
              "The Great Railway Bazaar: By Train Through Asia       0.0  \n",
              "The Ghosts of Sleath                                  0.0  \n",
              "ZERO RESISTANCE SELLING : (direct marketing)          0.0  \n",
              "The Pageant of World History                          0.0  \n",
              "Low Country Low Price                                 0.0  \n",
              "The Complete Idiot's Guide to Entertaining (Com...    0.0  \n",
              "Out of the Box for Life: (Being Free Is Just a ...    0.0  \n",
              "A song at twilight                                    0.0  \n",
              "Leaning, leaning over water: A novel in ten sto...    0.0  \n",
              "No Full Stops in India                                0.0  "
            ]
          },
          "execution_count": 44,
          "metadata": {},
          "output_type": "execute_result"
        }
      ],
      "source": [
        "pd.DataFrame(\n",
        "    tfidf_matrix.todense(),\n",
        "    columns=tf.get_feature_names_out(),\n",
        "    index=data.book_title\n",
        ").sample(15, axis=1).sample(10, axis=0)"
      ]
    },
    {
      "cell_type": "markdown",
      "metadata": {
        "id": "FLZTqNRB1MdH"
      },
      "source": [
        "Output matriks TF-IDF berhasil mengidentifikasi fitur penting dari judul buku berdasarkan nama penulis menggunakan fungsi `TfidfVectorizer`.\n",
        "\n",
        "Pada contoh ini, hanya ditampilkan sampel acak dari matriks berupa:\n",
        "- 10 judul buku (baris),\n",
        "- 15 nama penulis buku (kolom),\n",
        "\n",
        "sebagai representasi sebagian dari keseluruhan matriks yang berukuran 20.000 x 8.746."
      ]
    },
    {
      "cell_type": "markdown",
      "metadata": {
        "id": "-z1MObrp1MdH"
      },
      "source": [
        "### Cosine Similarity"
      ]
    },
    {
      "cell_type": "markdown",
      "metadata": {
        "id": "Z0yQX-rl1MdH"
      },
      "source": [
        "Setelah mendapatkan representasi fitur penting dari judul buku menggunakan TF-IDF, langkah selanjutnya adalah menghitung derajat kesamaan antar judul buku.\n",
        "\n",
        "Metode yang digunakan adalah **cosine similarity**, yang mengukur sudut kosinus antara dua vektor fitur, sehingga menilai tingkat kemiripan antar judul buku.\n",
        "\n",
        "Nilai similarity ini akan digunakan dalam sistem rekomendasi berbasis konten untuk menemukan buku-buku yang paling relevan dengan preferensi pengguna."
      ]
    },
    {
      "cell_type": "code",
      "execution_count": null,
      "metadata": {
        "id": "ves1v8pg1MdH",
        "outputId": "2b97ddd1-1bb1-47a6-a37a-f26ffda3e38c"
      },
      "outputs": [
        {
          "data": {
            "text/plain": [
              "array([[1., 0., 0., ..., 0., 0., 0.],\n",
              "       [0., 1., 0., ..., 0., 0., 0.],\n",
              "       [0., 0., 1., ..., 0., 0., 0.],\n",
              "       ...,\n",
              "       [0., 0., 0., ..., 1., 0., 0.],\n",
              "       [0., 0., 0., ..., 0., 1., 0.],\n",
              "       [0., 0., 0., ..., 0., 0., 1.]])"
            ]
          },
          "execution_count": 45,
          "metadata": {},
          "output_type": "execute_result"
        }
      ],
      "source": [
        "from sklearn.metrics.pairwise import cosine_similarity\n",
        "\n",
        "# Menghitung cosine similarity pada matrix tf-idf\n",
        "cosine_sim = cosine_similarity(tfidf_matrix)\n",
        "cosine_sim"
      ]
    },
    {
      "cell_type": "markdown",
      "metadata": {
        "id": "2dMFO59d1MdH"
      },
      "source": [
        "Proses ini menghitung tingkat kemiripan antar judul buku berdasarkan representasi TF-IDF yang telah dibuat sebelumnya.\n",
        "\n",
        "Dengan menggunakan fungsi `cosine_similarity` dari library `sklearn`, diperoleh matriks similarity yang berisi nilai kesamaan antar setiap pasangan judul buku.\n",
        "\n",
        "Matriks similarity ini berbentuk array dua dimensi yang nantinya akan digunakan untuk memberikan rekomendasi buku berdasarkan kemiripan konten."
      ]
    },
    {
      "cell_type": "code",
      "execution_count": null,
      "metadata": {
        "id": "xrS2XCqm1MdH",
        "outputId": "06e0984e-3a86-435c-851b-0893ae426f1d"
      },
      "outputs": [
        {
          "name": "stdout",
          "output_type": "stream",
          "text": [
            "Shape: (20000, 20000)\n"
          ]
        },
        {
          "data": {
            "text/html": [
              "<div>\n",
              "<style scoped>\n",
              "    .dataframe tbody tr th:only-of-type {\n",
              "        vertical-align: middle;\n",
              "    }\n",
              "\n",
              "    .dataframe tbody tr th {\n",
              "        vertical-align: top;\n",
              "    }\n",
              "\n",
              "    .dataframe thead th {\n",
              "        text-align: right;\n",
              "    }\n",
              "</style>\n",
              "<table border=\"1\" class=\"dataframe\">\n",
              "  <thead>\n",
              "    <tr style=\"text-align: right;\">\n",
              "      <th>book_title</th>\n",
              "      <th>American Pie : A Novel</th>\n",
              "      <th>Whale for the Killing</th>\n",
              "      <th>Intuitive Edge Understanding and Developin</th>\n",
              "      <th>Handle Your Money: The Lazy Way (The Lazy Way Series)</th>\n",
              "      <th>Feeding the Ghosts</th>\n",
              "    </tr>\n",
              "    <tr>\n",
              "      <th>book_title</th>\n",
              "      <th></th>\n",
              "      <th></th>\n",
              "      <th></th>\n",
              "      <th></th>\n",
              "      <th></th>\n",
              "    </tr>\n",
              "  </thead>\n",
              "  <tbody>\n",
              "    <tr>\n",
              "      <th>The Notorious Dr. August : His Real Life and Crimes</th>\n",
              "      <td>0.0</td>\n",
              "      <td>0.0</td>\n",
              "      <td>0.0</td>\n",
              "      <td>0.0</td>\n",
              "      <td>0.0</td>\n",
              "    </tr>\n",
              "    <tr>\n",
              "      <th>One for My Baby</th>\n",
              "      <td>0.0</td>\n",
              "      <td>0.0</td>\n",
              "      <td>0.0</td>\n",
              "      <td>0.0</td>\n",
              "      <td>0.0</td>\n",
              "    </tr>\n",
              "    <tr>\n",
              "      <th>Unknown Woman: A Journey to Self-Discovery</th>\n",
              "      <td>0.0</td>\n",
              "      <td>0.0</td>\n",
              "      <td>0.0</td>\n",
              "      <td>0.0</td>\n",
              "      <td>0.0</td>\n",
              "    </tr>\n",
              "    <tr>\n",
              "      <th>W. C. Fields by Himself: His Intended Autobiography</th>\n",
              "      <td>0.0</td>\n",
              "      <td>0.0</td>\n",
              "      <td>0.0</td>\n",
              "      <td>0.0</td>\n",
              "      <td>0.0</td>\n",
              "    </tr>\n",
              "    <tr>\n",
              "      <th>Kissing the Virgin's Mouth: A Novel</th>\n",
              "      <td>0.0</td>\n",
              "      <td>0.0</td>\n",
              "      <td>0.0</td>\n",
              "      <td>0.0</td>\n",
              "      <td>0.0</td>\n",
              "    </tr>\n",
              "    <tr>\n",
              "      <th>The Day Sidney Was Lost (Little Red Tractor Books)</th>\n",
              "      <td>0.0</td>\n",
              "      <td>0.0</td>\n",
              "      <td>0.0</td>\n",
              "      <td>0.0</td>\n",
              "      <td>0.0</td>\n",
              "    </tr>\n",
              "    <tr>\n",
              "      <th>Heart of Joy</th>\n",
              "      <td>0.0</td>\n",
              "      <td>0.0</td>\n",
              "      <td>0.0</td>\n",
              "      <td>0.0</td>\n",
              "      <td>0.0</td>\n",
              "    </tr>\n",
              "    <tr>\n",
              "      <th>There's a Hair in My Dirt!: A Worm's Story</th>\n",
              "      <td>0.0</td>\n",
              "      <td>0.0</td>\n",
              "      <td>0.0</td>\n",
              "      <td>0.0</td>\n",
              "      <td>0.0</td>\n",
              "    </tr>\n",
              "    <tr>\n",
              "      <th>The Jaguar Smile: A Nicaraguan Journey</th>\n",
              "      <td>0.0</td>\n",
              "      <td>0.0</td>\n",
              "      <td>0.0</td>\n",
              "      <td>0.0</td>\n",
              "      <td>0.0</td>\n",
              "    </tr>\n",
              "    <tr>\n",
              "      <th>Lloyd George</th>\n",
              "      <td>0.0</td>\n",
              "      <td>0.0</td>\n",
              "      <td>0.0</td>\n",
              "      <td>0.0</td>\n",
              "      <td>0.0</td>\n",
              "    </tr>\n",
              "  </tbody>\n",
              "</table>\n",
              "</div>"
            ],
            "text/plain": [
              "book_title                                          American Pie : A Novel  \\\n",
              "book_title                                                                   \n",
              "The Notorious Dr. August : His Real Life and Cr...                     0.0   \n",
              "One for My Baby                                                        0.0   \n",
              "Unknown Woman: A Journey to Self-Discovery                             0.0   \n",
              "W. C. Fields by Himself: His Intended Autobiogr...                     0.0   \n",
              "Kissing the Virgin's Mouth: A Novel                                    0.0   \n",
              "The Day Sidney Was Lost (Little Red Tractor Books)                     0.0   \n",
              "Heart of Joy                                                           0.0   \n",
              "There's a Hair in My Dirt!: A Worm's Story                             0.0   \n",
              "The Jaguar Smile: A Nicaraguan Journey                                 0.0   \n",
              "Lloyd George                                                           0.0   \n",
              "\n",
              "book_title                                          Whale for the Killing  \\\n",
              "book_title                                                                  \n",
              "The Notorious Dr. August : His Real Life and Cr...                    0.0   \n",
              "One for My Baby                                                       0.0   \n",
              "Unknown Woman: A Journey to Self-Discovery                            0.0   \n",
              "W. C. Fields by Himself: His Intended Autobiogr...                    0.0   \n",
              "Kissing the Virgin's Mouth: A Novel                                   0.0   \n",
              "The Day Sidney Was Lost (Little Red Tractor Books)                    0.0   \n",
              "Heart of Joy                                                          0.0   \n",
              "There's a Hair in My Dirt!: A Worm's Story                            0.0   \n",
              "The Jaguar Smile: A Nicaraguan Journey                                0.0   \n",
              "Lloyd George                                                          0.0   \n",
              "\n",
              "book_title                                          Intuitive Edge Understanding and Developin  \\\n",
              "book_title                                                                                       \n",
              "The Notorious Dr. August : His Real Life and Cr...                                         0.0   \n",
              "One for My Baby                                                                            0.0   \n",
              "Unknown Woman: A Journey to Self-Discovery                                                 0.0   \n",
              "W. C. Fields by Himself: His Intended Autobiogr...                                         0.0   \n",
              "Kissing the Virgin's Mouth: A Novel                                                        0.0   \n",
              "The Day Sidney Was Lost (Little Red Tractor Books)                                         0.0   \n",
              "Heart of Joy                                                                               0.0   \n",
              "There's a Hair in My Dirt!: A Worm's Story                                                 0.0   \n",
              "The Jaguar Smile: A Nicaraguan Journey                                                     0.0   \n",
              "Lloyd George                                                                               0.0   \n",
              "\n",
              "book_title                                          Handle Your Money: The Lazy Way (The Lazy Way Series)  \\\n",
              "book_title                                                                                                  \n",
              "The Notorious Dr. August : His Real Life and Cr...                                                0.0       \n",
              "One for My Baby                                                                                   0.0       \n",
              "Unknown Woman: A Journey to Self-Discovery                                                        0.0       \n",
              "W. C. Fields by Himself: His Intended Autobiogr...                                                0.0       \n",
              "Kissing the Virgin's Mouth: A Novel                                                               0.0       \n",
              "The Day Sidney Was Lost (Little Red Tractor Books)                                                0.0       \n",
              "Heart of Joy                                                                                      0.0       \n",
              "There's a Hair in My Dirt!: A Worm's Story                                                        0.0       \n",
              "The Jaguar Smile: A Nicaraguan Journey                                                            0.0       \n",
              "Lloyd George                                                                                      0.0       \n",
              "\n",
              "book_title                                          Feeding the Ghosts  \n",
              "book_title                                                              \n",
              "The Notorious Dr. August : His Real Life and Cr...                 0.0  \n",
              "One for My Baby                                                    0.0  \n",
              "Unknown Woman: A Journey to Self-Discovery                         0.0  \n",
              "W. C. Fields by Himself: His Intended Autobiogr...                 0.0  \n",
              "Kissing the Virgin's Mouth: A Novel                                0.0  \n",
              "The Day Sidney Was Lost (Little Red Tractor Books)                 0.0  \n",
              "Heart of Joy                                                       0.0  \n",
              "There's a Hair in My Dirt!: A Worm's Story                         0.0  \n",
              "The Jaguar Smile: A Nicaraguan Journey                             0.0  \n",
              "Lloyd George                                                       0.0  "
            ]
          },
          "execution_count": 46,
          "metadata": {},
          "output_type": "execute_result"
        }
      ],
      "source": [
        "# Membuat dataframe dari variabel cosine_sim dengan baris dan kolom berupa nama judul buku\n",
        "cosine_sim_df = pd.DataFrame(cosine_sim, index=data['book_title'], columns=data['book_title'])\n",
        "print('Shape:', cosine_sim_df.shape)\n",
        "\n",
        "# Melihat similarity matrix pada setiap judul buku\n",
        "cosine_sim_df.sample(5, axis=1).sample(10, axis=0)"
      ]
    },
    {
      "cell_type": "markdown",
      "metadata": {
        "id": "4ByvXZs21MdI"
      },
      "source": [
        "Dengan menggunakan cosine similarity, berhasil diidentifikasi tingkat kemiripan antar 20.000 judul buku. Matriks similarity yang dihasilkan berukuran (20.000 x 20.000), di mana masing-masing sumbu mewakili judul buku.\n",
        "\n",
        "Karena ukuran matriks sangat besar dan tidak memungkinkan untuk menampilkan seluruh data, hanya sebagian kecil data yang ditampilkan, yaitu 10 judul buku pada sumbu vertikal dan 5 judul buku pada sumbu horizontal.\n",
        "\n",
        "Data similarity ini nantinya akan digunakan untuk merekomendasikan daftar buku yang mirip dengan buku yang pernah dibaca atau dibeli oleh pengguna sebelumnya, sehingga sistem rekomendasi berbasis konten dapat memberikan rekomendasi yang relevan."
      ]
    },
    {
      "cell_type": "markdown",
      "metadata": {
        "id": "dpO0hG3v1MdI"
      },
      "source": [
        "# Modeling"
      ]
    },
    {
      "cell_type": "markdown",
      "metadata": {
        "id": "AZmxrLyf1MdI"
      },
      "source": [
        "## Model Development dengan Content Based Filtering"
      ]
    },
    {
      "cell_type": "markdown",
      "metadata": {
        "id": "isQtsBZV1MdI"
      },
      "source": [
        "Content-Based Filtering adalah metode rekomendasi yang memanfaatkan informasi atau \"konten\" dari item untuk memberikan rekomendasi.\n",
        "\n",
        "- Ide utama: Mencocokkan preferensi pengguna dengan fitur dari item yang pernah disukai, misalnya buku dengan penulis yang sama.\n",
        "- Contoh: Jika pengguna menyukai buku berjudul *Introduction to Machine Learning* karya *Alex Smola*, sistem merekomendasikan buku lain dengan penulis yang sama.\n",
        "\n",
        "Pada proyek ini, digunakan fungsi `TfidfVectorizer()` dan `cosine_similarity()` dari library Scikit-learn."
      ]
    },
    {
      "cell_type": "markdown",
      "metadata": {
        "id": "MBZ74O431MdI"
      },
      "source": [
        "Sebelum memulai pengembangan model Content-Based Filtering, dilakukan pengecekan ulang terhadap dataset yang sudah disiapkan.\n",
        "\n",
        "Selanjutnya, dataframe hasil persiapan data pada tahap sebelumnya di-assign ke variabel `data` agar siap digunakan pada proses pemodelan."
      ]
    },
    {
      "cell_type": "code",
      "execution_count": null,
      "metadata": {
        "id": "kdfj3nqj1MdI",
        "outputId": "280356be-51a5-4baf-b92a-aaf8e34bf586"
      },
      "outputs": [
        {
          "data": {
            "text/html": [
              "<div>\n",
              "<style scoped>\n",
              "    .dataframe tbody tr th:only-of-type {\n",
              "        vertical-align: middle;\n",
              "    }\n",
              "\n",
              "    .dataframe tbody tr th {\n",
              "        vertical-align: top;\n",
              "    }\n",
              "\n",
              "    .dataframe thead th {\n",
              "        text-align: right;\n",
              "    }\n",
              "</style>\n",
              "<table border=\"1\" class=\"dataframe\">\n",
              "  <thead>\n",
              "    <tr style=\"text-align: right;\">\n",
              "      <th></th>\n",
              "      <th>isbn</th>\n",
              "      <th>book_title</th>\n",
              "      <th>book_author</th>\n",
              "      <th>year_of_publication</th>\n",
              "      <th>publisher</th>\n",
              "    </tr>\n",
              "  </thead>\n",
              "  <tbody>\n",
              "    <tr>\n",
              "      <th>883</th>\n",
              "      <td>0006548180</td>\n",
              "      <td>Cat among the pigeons: A Catholic miscellany</td>\n",
              "      <td>Alice Thomas Ellis</td>\n",
              "      <td>1994.0</td>\n",
              "      <td>Flamingo</td>\n",
              "    </tr>\n",
              "    <tr>\n",
              "      <th>10553</th>\n",
              "      <td>0062504096</td>\n",
              "      <td>We'Ve Had a Hundred Years of Psychotherapy and...</td>\n",
              "      <td>James Hillman</td>\n",
              "      <td>1992.0</td>\n",
              "      <td>Harpercollins</td>\n",
              "    </tr>\n",
              "    <tr>\n",
              "      <th>7660</th>\n",
              "      <td>0060937734</td>\n",
              "      <td>Revelations</td>\n",
              "      <td>Douglas E. Winter</td>\n",
              "      <td>2001.0</td>\n",
              "      <td>Perennial</td>\n",
              "    </tr>\n",
              "    <tr>\n",
              "      <th>18975</th>\n",
              "      <td>0140365265</td>\n",
              "      <td>Hitler</td>\n",
              "      <td>Albert Marrin</td>\n",
              "      <td>1993.0</td>\n",
              "      <td>Puffin Books</td>\n",
              "    </tr>\n",
              "    <tr>\n",
              "      <th>10885</th>\n",
              "      <td>0062516477</td>\n",
              "      <td>The Four Witnesses : The Rebel, the Rabbi, the...</td>\n",
              "      <td>Robin Griffith-Jones</td>\n",
              "      <td>2000.0</td>\n",
              "      <td>HarperSanFrancisco</td>\n",
              "    </tr>\n",
              "  </tbody>\n",
              "</table>\n",
              "</div>"
            ],
            "text/plain": [
              "             isbn                                         book_title  \\\n",
              "883    0006548180       Cat among the pigeons: A Catholic miscellany   \n",
              "10553  0062504096  We'Ve Had a Hundred Years of Psychotherapy and...   \n",
              "7660   0060937734                                        Revelations   \n",
              "18975  0140365265                                             Hitler   \n",
              "10885  0062516477  The Four Witnesses : The Rebel, the Rabbi, the...   \n",
              "\n",
              "                book_author  year_of_publication           publisher  \n",
              "883      Alice Thomas Ellis               1994.0            Flamingo  \n",
              "10553         James Hillman               1992.0       Harpercollins  \n",
              "7660      Douglas E. Winter               2001.0           Perennial  \n",
              "18975         Albert Marrin               1993.0        Puffin Books  \n",
              "10885  Robin Griffith-Jones               2000.0  HarperSanFrancisco  "
            ]
          },
          "execution_count": 40,
          "metadata": {},
          "output_type": "execute_result"
        }
      ],
      "source": [
        "data = books_new\n",
        "data.sample(5)"
      ]
    },
    {
      "cell_type": "markdown",
      "metadata": {
        "id": "g2X5zFFM1MdJ"
      },
      "source": [
        "### Mendapatkan Rekomendasi"
      ]
    },
    {
      "cell_type": "markdown",
      "metadata": {
        "id": "Yce8R8qL1MdJ"
      },
      "source": [
        "Pada langkah ini, kita akan membuat sebuah fungsi bernama book_recommendations dengan parameter sebagai berikut:\n",
        "\n",
        "- book_title: judul buku yang akan dijadikan acuan untuk mencari rekomendasi (sesuai dengan index pada dataframe similarity).\n",
        "- similarity_data: dataframe yang berisi data similarity (kemiripan) antar judul buku yang sudah dihitung sebelumnya.\n",
        "- items: dataframe yang memuat informasi buku, khususnya kolom judul buku (book_title) dan nama penulis (book_author), yang akan digunakan untuk menampilkan hasil rekomendasi.\n",
        "- k: jumlah rekomendasi buku yang ingin ditampilkan, dengan nilai default 5.\n"
      ]
    },
    {
      "cell_type": "code",
      "execution_count": null,
      "metadata": {
        "id": "onydMnsF1MdJ"
      },
      "outputs": [],
      "source": [
        "def book_recommendation(book_title, similarity_data=cosine_sim_df, items=data[['book_title', 'book_author']], k=5):\n",
        "    # Mengambil data dengan menggunakan argpartition untuk melakukan partisi secara tidak langsung sepanjang sumbu yang diberikan\n",
        "    # Dataframe diubah menjadi numpy\n",
        "    # Range(start, stop, step)\n",
        "    index = similarity_data.loc[:,book_title].to_numpy().argpartition(range(-1, -k, -1))\n",
        "\n",
        "    # Mengambil data dengan similarity terbesar dari index yang ada\n",
        "    closest = similarity_data.columns[index[-1:-(k+2):-1]]\n",
        "\n",
        "    # Drop book_title agar nama buku yang dicari tidak muncul dalam daftar rekomendasi\n",
        "    closest = closest.drop(book_title, errors='ignore')\n",
        "\n",
        "    return pd.DataFrame(closest).merge(items).head(k)"
      ]
    },
    {
      "cell_type": "markdown",
      "metadata": {
        "id": "ahbHaZ9e1MdJ"
      },
      "source": [
        "Perlu diperhatikan bahwa dengan menggunakan fungsi argpartition, kita dapat mengambil sejumlah nilai tertinggi sebanyak k dari data similarity (dalam kasus ini adalah dataframe cosine_sim_df). Selanjutnya, hasil nilai tertinggi tersebut diurutkan dari bobot kemiripan yang paling besar hingga terkecil, dan disimpan dalam variabel closest.\n",
        "\n",
        "Kemudian, langkah penting berikutnya adalah menghapus judul buku yang sedang dicari (book_title) dari daftar rekomendasi agar buku tersebut tidak muncul kembali dalam hasil rekomendasi. Hal ini dilakukan karena tujuan sistem adalah mencari buku lain yang serupa dengan buku yang diinput, bukan menampilkan buku itu sendiri."
      ]
    },
    {
      "cell_type": "markdown",
      "metadata": {
        "id": "FGFkSoIA1MdK"
      },
      "source": [
        "Gunakan fungsi book_recommendation tersebut untuk membuat rekomendasi 5 buku teratas yang direkomendasikan oleh sistem."
      ]
    },
    {
      "cell_type": "code",
      "execution_count": null,
      "metadata": {
        "id": "AztgWDZz1MdK",
        "outputId": "399313eb-2048-4f86-e6bd-427a8cfcf180"
      },
      "outputs": [
        {
          "data": {
            "text/html": [
              "<div>\n",
              "<style scoped>\n",
              "    .dataframe tbody tr th:only-of-type {\n",
              "        vertical-align: middle;\n",
              "    }\n",
              "\n",
              "    .dataframe tbody tr th {\n",
              "        vertical-align: top;\n",
              "    }\n",
              "\n",
              "    .dataframe thead th {\n",
              "        text-align: right;\n",
              "    }\n",
              "</style>\n",
              "<table border=\"1\" class=\"dataframe\">\n",
              "  <thead>\n",
              "    <tr style=\"text-align: right;\">\n",
              "      <th></th>\n",
              "      <th>isbn</th>\n",
              "      <th>book_title</th>\n",
              "      <th>book_author</th>\n",
              "      <th>year_of_publication</th>\n",
              "      <th>publisher</th>\n",
              "    </tr>\n",
              "  </thead>\n",
              "  <tbody>\n",
              "    <tr>\n",
              "      <th>6448</th>\n",
              "      <td>0060654775</td>\n",
              "      <td>Entering the Silence : Becoming a Monk and a W...</td>\n",
              "      <td>Thomas Merton</td>\n",
              "      <td>1997.0</td>\n",
              "      <td>HarperSanFrancisco</td>\n",
              "    </tr>\n",
              "  </tbody>\n",
              "</table>\n",
              "</div>"
            ],
            "text/plain": [
              "            isbn                                         book_title  \\\n",
              "6448  0060654775  Entering the Silence : Becoming a Monk and a W...   \n",
              "\n",
              "        book_author  year_of_publication           publisher  \n",
              "6448  Thomas Merton               1997.0  HarperSanFrancisco  "
            ]
          },
          "execution_count": 48,
          "metadata": {},
          "output_type": "execute_result"
        }
      ],
      "source": [
        "book_title_test = \"Entering the Silence : Becoming a Monk and a Writer (The Journals of Thomas Merton, V. 2)\" # contoh judul buku\n",
        "\n",
        "data[data.book_title.eq(book_title_test)]"
      ]
    },
    {
      "cell_type": "markdown",
      "metadata": {
        "id": "6KgbslTt1MdK"
      },
      "source": [
        "Perhatikan bahwa buku berjudul Entering the Silence: Becoming a Monk and a Writer (The Journals of Thomas Merton, V. 2) ditulis oleh Thomas Merton. Sekarang, tolong gunakan fungsi book_recommendation untuk mendapatkan rekomendasi buku yang terkait dengan judul tersebut."
      ]
    },
    {
      "cell_type": "code",
      "execution_count": null,
      "metadata": {
        "id": "GrtD9kC71MdM",
        "outputId": "d6f34ea3-0278-4b33-a3ec-5361379e69b5"
      },
      "outputs": [
        {
          "data": {
            "text/html": [
              "<div>\n",
              "<style scoped>\n",
              "    .dataframe tbody tr th:only-of-type {\n",
              "        vertical-align: middle;\n",
              "    }\n",
              "\n",
              "    .dataframe tbody tr th {\n",
              "        vertical-align: top;\n",
              "    }\n",
              "\n",
              "    .dataframe thead th {\n",
              "        text-align: right;\n",
              "    }\n",
              "</style>\n",
              "<table border=\"1\" class=\"dataframe\">\n",
              "  <thead>\n",
              "    <tr style=\"text-align: right;\">\n",
              "      <th></th>\n",
              "      <th>book_title</th>\n",
              "      <th>book_author</th>\n",
              "    </tr>\n",
              "  </thead>\n",
              "  <tbody>\n",
              "    <tr>\n",
              "      <th>0</th>\n",
              "      <td>Dancing in the Water of Life: Seeking Peace in...</td>\n",
              "      <td>Thomas Merton</td>\n",
              "    </tr>\n",
              "    <tr>\n",
              "      <th>1</th>\n",
              "      <td>Dialogues with Silence: Prayers and Drawings</td>\n",
              "      <td>Thomas Merton</td>\n",
              "    </tr>\n",
              "    <tr>\n",
              "      <th>2</th>\n",
              "      <td>The Other Side of the Mountain: The End of the...</td>\n",
              "      <td>Thomas Merton</td>\n",
              "    </tr>\n",
              "    <tr>\n",
              "      <th>3</th>\n",
              "      <td>Run to the Mountain : The Story of a VocationT...</td>\n",
              "      <td>Thomas Merton</td>\n",
              "    </tr>\n",
              "    <tr>\n",
              "      <th>4</th>\n",
              "      <td>Turning Toward the World: The Pivotal Years (T...</td>\n",
              "      <td>Thomas Merton</td>\n",
              "    </tr>\n",
              "  </tbody>\n",
              "</table>\n",
              "</div>"
            ],
            "text/plain": [
              "                                          book_title    book_author\n",
              "0  Dancing in the Water of Life: Seeking Peace in...  Thomas Merton\n",
              "1       Dialogues with Silence: Prayers and Drawings  Thomas Merton\n",
              "2  The Other Side of the Mountain: The End of the...  Thomas Merton\n",
              "3  Run to the Mountain : The Story of a VocationT...  Thomas Merton\n",
              "4  Turning Toward the World: The Pivotal Years (T...  Thomas Merton"
            ]
          },
          "execution_count": 49,
          "metadata": {},
          "output_type": "execute_result"
        }
      ],
      "source": [
        "# Mendapatkan rekomendasi judul buku yang mirip\n",
        "book_recommendation(book_title_test)"
      ]
    },
    {
      "cell_type": "markdown",
      "metadata": {
        "id": "oCE1xULj1MdN"
      },
      "source": [
        "Berdasarkan output diatas, sistem berhasil merekomendasikan 5 judul buku teratas dengan kategori nama penulis (book_author) yaitu 'Thomas Merton'."
      ]
    },
    {
      "cell_type": "markdown",
      "metadata": {
        "id": "RyhZlA301MdO"
      },
      "source": [
        "## Model Development dengan Collaborative Filtering"
      ]
    },
    {
      "cell_type": "markdown",
      "metadata": {
        "id": "5QabHJSS1MdQ"
      },
      "source": [
        "Content-Based Filtering adalah metode rekomendasi yang memanfaatkan informasi dari konten item untuk memberikan rekomendasi.\n",
        "\n",
        "- **Ide Utama:** mencocokkan preferensi pengguna dengan fitur item yang pernah disukai, misalnya buku dengan penulis yang sama.  \n",
        "- **Contoh:** Jika pengguna suka buku *Introduction to Machine Learning* karya *Alex Smola*, sistem merekomendasikan buku lain dari penulis tersebut.\n",
        "\n",
        "## Teknik yang dipakai:\n",
        "\n",
        "- **TF-IDF Vectorizer**  \n",
        "  Mengubah teks (judul buku) jadi vektor berdasarkan frekuensi kata penting.  \n",
        "\n",
        "- **Cosine Similarity**  \n",
        "  Mengukur kemiripan antar vektor dengan menghitung sudut kosinusnya; makin kecil sudut, makin mirip.\n",
        "\n",
        "Di proyek ini, digunakan fungsi `TfidfVectorizer()` dan `cosine_similarity()` dari Scikit-learn."
      ]
    },
    {
      "cell_type": "markdown",
      "metadata": {
        "id": "duGx1pAV1MdQ"
      },
      "source": [
        "### Membagi data untuk Training dan Validasi"
      ]
    },
    {
      "cell_type": "markdown",
      "metadata": {
        "id": "jOKeHwjn1MdR"
      },
      "source": [
        "Sebelum dilakukan pembagian data menjadi training dan validasi, data terlebih dahulu diacak agar distribusinya menjadi random."
      ]
    },
    {
      "cell_type": "code",
      "execution_count": null,
      "metadata": {
        "id": "Cefzrke-1MdR",
        "outputId": "ba759bdd-7011-4825-c71c-1f8693046a1d"
      },
      "outputs": [
        {
          "data": {
            "text/html": [
              "<div>\n",
              "<style scoped>\n",
              "    .dataframe tbody tr th:only-of-type {\n",
              "        vertical-align: middle;\n",
              "    }\n",
              "\n",
              "    .dataframe tbody tr th {\n",
              "        vertical-align: top;\n",
              "    }\n",
              "\n",
              "    .dataframe thead th {\n",
              "        text-align: right;\n",
              "    }\n",
              "</style>\n",
              "<table border=\"1\" class=\"dataframe\">\n",
              "  <thead>\n",
              "    <tr style=\"text-align: right;\">\n",
              "      <th></th>\n",
              "      <th>User-ID</th>\n",
              "      <th>ISBN</th>\n",
              "      <th>Book-Rating</th>\n",
              "      <th>user</th>\n",
              "      <th>book_title</th>\n",
              "    </tr>\n",
              "  </thead>\n",
              "  <tbody>\n",
              "    <tr>\n",
              "      <th>10650</th>\n",
              "      <td>446</td>\n",
              "      <td>0061000280</td>\n",
              "      <td>10.0</td>\n",
              "      <td>1005</td>\n",
              "      <td>9861</td>\n",
              "    </tr>\n",
              "    <tr>\n",
              "      <th>2041</th>\n",
              "      <td>277478</td>\n",
              "      <td>0340565276</td>\n",
              "      <td>8.0</td>\n",
              "      <td>273</td>\n",
              "      <td>1978</td>\n",
              "    </tr>\n",
              "    <tr>\n",
              "      <th>8668</th>\n",
              "      <td>278418</td>\n",
              "      <td>1569751544</td>\n",
              "      <td>3.0</td>\n",
              "      <td>678</td>\n",
              "      <td>8223</td>\n",
              "    </tr>\n",
              "    <tr>\n",
              "      <th>1114</th>\n",
              "      <td>277195</td>\n",
              "      <td>0394726413</td>\n",
              "      <td>0.0</td>\n",
              "      <td>173</td>\n",
              "      <td>1098</td>\n",
              "    </tr>\n",
              "    <tr>\n",
              "      <th>13902</th>\n",
              "      <td>1928</td>\n",
              "      <td>0373196903</td>\n",
              "      <td>0.0</td>\n",
              "      <td>1511</td>\n",
              "      <td>12430</td>\n",
              "    </tr>\n",
              "    <tr>\n",
              "      <th>...</th>\n",
              "      <td>...</td>\n",
              "      <td>...</td>\n",
              "      <td>...</td>\n",
              "      <td>...</td>\n",
              "      <td>...</td>\n",
              "    </tr>\n",
              "    <tr>\n",
              "      <th>11284</th>\n",
              "      <td>651</td>\n",
              "      <td>1888451084</td>\n",
              "      <td>7.0</td>\n",
              "      <td>1071</td>\n",
              "      <td>10381</td>\n",
              "    </tr>\n",
              "    <tr>\n",
              "      <th>11964</th>\n",
              "      <td>929</td>\n",
              "      <td>0345331605</td>\n",
              "      <td>7.0</td>\n",
              "      <td>1163</td>\n",
              "      <td>10917</td>\n",
              "    </tr>\n",
              "    <tr>\n",
              "      <th>5390</th>\n",
              "      <td>278418</td>\n",
              "      <td>0373121962</td>\n",
              "      <td>0.0</td>\n",
              "      <td>678</td>\n",
              "      <td>5066</td>\n",
              "    </tr>\n",
              "    <tr>\n",
              "      <th>860</th>\n",
              "      <td>277087</td>\n",
              "      <td>8472230082</td>\n",
              "      <td>5.0</td>\n",
              "      <td>139</td>\n",
              "      <td>850</td>\n",
              "    </tr>\n",
              "    <tr>\n",
              "      <th>15795</th>\n",
              "      <td>2442</td>\n",
              "      <td>8804320095</td>\n",
              "      <td>0.0</td>\n",
              "      <td>1706</td>\n",
              "      <td>13939</td>\n",
              "    </tr>\n",
              "  </tbody>\n",
              "</table>\n",
              "<p>20000 rows × 5 columns</p>\n",
              "</div>"
            ],
            "text/plain": [
              "       User-ID        ISBN  Book-Rating  user  book_title\n",
              "10650      446  0061000280         10.0  1005        9861\n",
              "2041    277478  0340565276          8.0   273        1978\n",
              "8668    278418  1569751544          3.0   678        8223\n",
              "1114    277195  0394726413          0.0   173        1098\n",
              "13902     1928  0373196903          0.0  1511       12430\n",
              "...        ...         ...          ...   ...         ...\n",
              "11284      651  1888451084          7.0  1071       10381\n",
              "11964      929  0345331605          7.0  1163       10917\n",
              "5390    278418  0373121962          0.0   678        5066\n",
              "860     277087  8472230082          5.0   139         850\n",
              "15795     2442  8804320095          0.0  1706       13939\n",
              "\n",
              "[20000 rows x 5 columns]"
            ]
          },
          "execution_count": 50,
          "metadata": {},
          "output_type": "execute_result"
        }
      ],
      "source": [
        "# mengacak dataset\n",
        "df_rating = df_rating.sample(frac=1, random_state=42)\n",
        "df_rating"
      ]
    },
    {
      "cell_type": "markdown",
      "metadata": {
        "id": "_3j6yr3i1MdS"
      },
      "source": [
        "Selanjutnya, dilakukan proses pembagian data menjadi data train dan validasi dengan komposisi 90:10. Namun sebelumnya, perlu dipetakan (mapping) data user dan judul buku menjadi satu value terlebih dahulu. Kemudian, dibuat rating dalam skala 0 sampai 1 agar mudah dalam melakukan proses training."
      ]
    },
    {
      "cell_type": "code",
      "execution_count": null,
      "metadata": {
        "id": "ZpgCUxA81MdS",
        "outputId": "fa100f45-1474-4dac-8c69-b5aa8d5281f6"
      },
      "outputs": [
        {
          "name": "stdout",
          "output_type": "stream",
          "text": [
            "[[ 1005  9861]\n",
            " [  273  1978]\n",
            " [  678  8223]\n",
            " ...\n",
            " [  678  5066]\n",
            " [  139   850]\n",
            " [ 1706 13939]] [1.  0.8 0.3 ... 0.  0.5 0. ]\n"
          ]
        }
      ],
      "source": [
        "# membuat variabel x untuk mencocokkan data user dan judul buku menjadi satu value\n",
        "x = df_rating[['user', 'book_title']].values\n",
        "\n",
        "# membuat variabel y untuk membuat rating dari hasil\n",
        "y = df_rating['Book-Rating'].apply(lambda x: (x - min_rating) / (max_rating - min_rating)).values\n",
        "\n",
        "# membagi menjadi 90% data train dan 10% data validasi\n",
        "\n",
        "train_indices = int(0.9 * df_rating.shape[0])\n",
        "x_train, x_val, y_train, y_val = (\n",
        "    x[:train_indices],\n",
        "    x[train_indices:],\n",
        "    y[:train_indices],\n",
        "    y[train_indices:]\n",
        ")\n",
        "\n",
        "print(x, y)"
      ]
    },
    {
      "cell_type": "markdown",
      "metadata": {
        "id": "6UC4cPqf1MdT"
      },
      "source": [
        "Data sudah siap untuk dimasukkan ke dalam pengembangan model dengan collaborative filtering."
      ]
    },
    {
      "cell_type": "markdown",
      "metadata": {
        "id": "3FA_2N8F1MdT"
      },
      "source": [
        "### Proses training"
      ]
    },
    {
      "cell_type": "markdown",
      "metadata": {
        "id": "_RoD1CCJ1MdU"
      },
      "source": [
        "Pada proses training, model menghitung skor kecocokan antara pengguna dan judul buku menggunakan teknik embedding.  \n",
        "\n",
        "Langkah-langkahnya:  \n",
        "1. Embedding dilakukan pada data **user** dan **book_title**.  \n",
        "2. Hitung dot product antara embedding user dan book_title.  \n",
        "3. Tambahkan bias untuk masing-masing user dan book_title.  \n",
        "4. Skor kecocokan dipetakan ke rentang [0, 1] menggunakan fungsi aktivasi **sigmoid**.\n",
        "\n",
        "Model dibuat menggunakan class `RecommenderNet` yang merupakan turunan dari *Keras Model class*. Kode ini terinspirasi dari tutorial di situs *Keras* dengan beberapa penyesuaian layer sesuai kebutuhan proyek."
      ]
    },
    {
      "cell_type": "code",
      "execution_count": null,
      "metadata": {
        "id": "-1OK7-8s1MdU"
      },
      "outputs": [],
      "source": [
        "class RecommenderNet(tf.keras.Model):\n",
        "\n",
        "    # inisialisasi fungsi\n",
        "    def __init__(self, num_users, num_book_title, embedding_size, dropout_rate=0.2, **kwargs):\n",
        "        super(RecommenderNet, self).__init__(**kwargs)\n",
        "        self.num_users = num_users\n",
        "        self.num_book_title = num_book_title\n",
        "        self.embedding_size = embedding_size\n",
        "        self.dropout_rate = dropout_rate\n",
        "\n",
        "        self.user_embedding = layers.Embedding( # layer embedding user\n",
        "            num_users,\n",
        "            embedding_size,\n",
        "            embeddings_initializer = 'he_normal',\n",
        "            embeddings_regularizer = keras.regularizers.l2(1e-6)\n",
        "        )\n",
        "        self.user_bias = layers.Embedding(num_users, 1) # layer embedding user bias\n",
        "\n",
        "        self.book_title_embedding = layers.Embedding( # layer embedding book_title\n",
        "            num_book_title,\n",
        "            embedding_size,\n",
        "            embeddings_initializer = 'he_normal',\n",
        "            embeddings_regularizer = keras.regularizers.l2(1e-6)\n",
        "        )\n",
        "        self.book_title_bias = layers.Embedding(num_book_title, 1) # layer embedding book_title\n",
        "\n",
        "        self.dropout = layers.Dropout(rate=dropout_rate)\n",
        "\n",
        "    def call(self, inputs):\n",
        "        user_vector = self.user_embedding(inputs[:, 0]) # memanggil layer embedding 1\n",
        "        user_vector = self.dropout(user_vector)\n",
        "        user_bias = self.user_bias(inputs[:, 0]) # memanggil layer embedding 2\n",
        "\n",
        "        book_title_vector = self.book_title_embedding(inputs[:, 1]) # memanggil layer embedding 3\n",
        "        book_title_vector = self.dropout(book_title_vector)\n",
        "        book_title_bias = self.book_title_bias(inputs[:, 1]) # memanggil layer embedding 4\n",
        "\n",
        "        dot_user_book_title = tf.tensordot(user_vector, book_title_vector, 2) # perkalian dot product\n",
        "\n",
        "        x = dot_user_book_title + user_bias + book_title_bias\n",
        "\n",
        "        return tf.nn.sigmoid(x) # activation sigmoid"
      ]
    },
    {
      "cell_type": "code",
      "execution_count": null,
      "metadata": {
        "id": "WU04q0Aq1MdV"
      },
      "outputs": [],
      "source": [
        "model = RecommenderNet(num_users, num_book_title, 50) # inisialisasi model\n",
        "\n",
        "# model compile\n",
        "model.compile(\n",
        "    loss = tf.keras.losses.BinaryCrossentropy(),\n",
        "    optimizer = keras.optimizers.Adam(learning_rate=1e-4),\n",
        "    metrics = [tf.keras.metrics.RootMeanSquaredError()]\n",
        ")"
      ]
    },
    {
      "cell_type": "markdown",
      "metadata": {
        "id": "DKhWKEHr1MdV"
      },
      "source": [
        "Model ini menggunakan:  \n",
        "- **Binary Crossentropy** sebagai fungsi loss,  \n",
        "- **Adam (Adaptive Moment Estimation)** sebagai optimizer,  \n",
        "- dan **Root Mean Squared Error (RMSE)** sebagai metrik evaluasi"
      ]
    },
    {
      "cell_type": "code",
      "execution_count": null,
      "metadata": {
        "id": "sJxUEHsQ1MdW",
        "outputId": "5c1630db-c379-452f-9e93-7183512df40f"
      },
      "outputs": [
        {
          "name": "stdout",
          "output_type": "stream",
          "text": [
            "Epoch 1/50\n"
          ]
        },
        {
          "name": "stdout",
          "output_type": "stream",
          "text": [
            "1125/1125 [==============================] - 28s 23ms/step - loss: 0.6575 - root_mean_squared_error: 0.4209 - val_loss: 0.6565 - val_root_mean_squared_error: 0.4177\n",
            "Epoch 2/50\n",
            "1125/1125 [==============================] - 25s 22ms/step - loss: 0.6297 - root_mean_squared_error: 0.4044 - val_loss: 0.6450 - val_root_mean_squared_error: 0.4109\n",
            "Epoch 3/50\n",
            "1125/1125 [==============================] - 24s 22ms/step - loss: 0.5949 - root_mean_squared_error: 0.3837 - val_loss: 0.6345 - val_root_mean_squared_error: 0.4047\n",
            "Epoch 4/50\n",
            "1125/1125 [==============================] - 24s 21ms/step - loss: 0.5664 - root_mean_squared_error: 0.3673 - val_loss: 0.6253 - val_root_mean_squared_error: 0.3992\n",
            "Epoch 5/50\n",
            "1125/1125 [==============================] - 24s 22ms/step - loss: 0.5501 - root_mean_squared_error: 0.3591 - val_loss: 0.6168 - val_root_mean_squared_error: 0.3942\n",
            "Epoch 6/50\n",
            "1125/1125 [==============================] - 25s 22ms/step - loss: 0.5412 - root_mean_squared_error: 0.3551 - val_loss: 0.6086 - val_root_mean_squared_error: 0.3895\n",
            "Epoch 7/50\n",
            "1125/1125 [==============================] - 25s 22ms/step - loss: 0.5359 - root_mean_squared_error: 0.3528 - val_loss: 0.6006 - val_root_mean_squared_error: 0.3848\n",
            "Epoch 8/50\n",
            "1125/1125 [==============================] - 25s 22ms/step - loss: 0.5296 - root_mean_squared_error: 0.3497 - val_loss: 0.5929 - val_root_mean_squared_error: 0.3805\n",
            "Epoch 9/50\n",
            "1125/1125 [==============================] - 25s 22ms/step - loss: 0.5254 - root_mean_squared_error: 0.3477 - val_loss: 0.5857 - val_root_mean_squared_error: 0.3765\n",
            "Epoch 10/50\n",
            "1125/1125 [==============================] - 24s 22ms/step - loss: 0.5203 - root_mean_squared_error: 0.3450 - val_loss: 0.5789 - val_root_mean_squared_error: 0.3728\n",
            "Epoch 11/50\n",
            "1125/1125 [==============================] - 24s 22ms/step - loss: 0.5155 - root_mean_squared_error: 0.3425 - val_loss: 0.5725 - val_root_mean_squared_error: 0.3694\n",
            "Epoch 12/50\n",
            "1125/1125 [==============================] - 25s 22ms/step - loss: 0.5107 - root_mean_squared_error: 0.3402 - val_loss: 0.5667 - val_root_mean_squared_error: 0.3664\n",
            "Epoch 13/50\n",
            "1125/1125 [==============================] - 24s 22ms/step - loss: 0.5063 - root_mean_squared_error: 0.3378 - val_loss: 0.5613 - val_root_mean_squared_error: 0.3637\n",
            "Epoch 14/50\n",
            "1125/1125 [==============================] - 25s 22ms/step - loss: 0.5028 - root_mean_squared_error: 0.3360 - val_loss: 0.5562 - val_root_mean_squared_error: 0.3612\n",
            "Epoch 15/50\n",
            "1125/1125 [==============================] - 24s 22ms/step - loss: 0.4984 - root_mean_squared_error: 0.3338 - val_loss: 0.5515 - val_root_mean_squared_error: 0.3589\n",
            "Epoch 16/50\n",
            "1125/1125 [==============================] - 25s 22ms/step - loss: 0.4935 - root_mean_squared_error: 0.3311 - val_loss: 0.5473 - val_root_mean_squared_error: 0.3570\n",
            "Epoch 17/50\n",
            "1125/1125 [==============================] - 25s 22ms/step - loss: 0.4909 - root_mean_squared_error: 0.3298 - val_loss: 0.5434 - val_root_mean_squared_error: 0.3552\n",
            "Epoch 18/50\n",
            "1125/1125 [==============================] - 25s 22ms/step - loss: 0.4876 - root_mean_squared_error: 0.3280 - val_loss: 0.5398 - val_root_mean_squared_error: 0.3536\n",
            "Epoch 19/50\n",
            "1125/1125 [==============================] - 24s 22ms/step - loss: 0.4858 - root_mean_squared_error: 0.3274 - val_loss: 0.5365 - val_root_mean_squared_error: 0.3522\n",
            "Epoch 20/50\n",
            "1125/1125 [==============================] - 26s 23ms/step - loss: 0.4819 - root_mean_squared_error: 0.3251 - val_loss: 0.5334 - val_root_mean_squared_error: 0.3508\n",
            "Epoch 21/50\n",
            "1125/1125 [==============================] - 24s 22ms/step - loss: 0.4787 - root_mean_squared_error: 0.3231 - val_loss: 0.5306 - val_root_mean_squared_error: 0.3496\n",
            "Epoch 22/50\n",
            "1125/1125 [==============================] - 25s 22ms/step - loss: 0.4774 - root_mean_squared_error: 0.3226 - val_loss: 0.5279 - val_root_mean_squared_error: 0.3485\n",
            "Epoch 23/50\n",
            "1125/1125 [==============================] - 24s 22ms/step - loss: 0.4747 - root_mean_squared_error: 0.3211 - val_loss: 0.5254 - val_root_mean_squared_error: 0.3475\n",
            "Epoch 24/50\n",
            "1125/1125 [==============================] - 24s 22ms/step - loss: 0.4720 - root_mean_squared_error: 0.3195 - val_loss: 0.5233 - val_root_mean_squared_error: 0.3466\n",
            "Epoch 25/50\n",
            "1125/1125 [==============================] - 24s 22ms/step - loss: 0.4699 - root_mean_squared_error: 0.3183 - val_loss: 0.5213 - val_root_mean_squared_error: 0.3458\n",
            "Epoch 26/50\n",
            "1125/1125 [==============================] - 24s 21ms/step - loss: 0.4671 - root_mean_squared_error: 0.3166 - val_loss: 0.5194 - val_root_mean_squared_error: 0.3450\n",
            "Epoch 27/50\n",
            "1125/1125 [==============================] - 24s 22ms/step - loss: 0.4655 - root_mean_squared_error: 0.3158 - val_loss: 0.5176 - val_root_mean_squared_error: 0.3443\n",
            "Epoch 28/50\n",
            "1125/1125 [==============================] - 24s 22ms/step - loss: 0.4627 - root_mean_squared_error: 0.3140 - val_loss: 0.5160 - val_root_mean_squared_error: 0.3436\n",
            "Epoch 29/50\n",
            "1125/1125 [==============================] - 24s 21ms/step - loss: 0.4612 - root_mean_squared_error: 0.3132 - val_loss: 0.5146 - val_root_mean_squared_error: 0.3430\n",
            "Epoch 30/50\n",
            "1125/1125 [==============================] - 25s 22ms/step - loss: 0.4592 - root_mean_squared_error: 0.3119 - val_loss: 0.5132 - val_root_mean_squared_error: 0.3424\n",
            "Epoch 31/50\n",
            "1125/1125 [==============================] - 24s 22ms/step - loss: 0.4583 - root_mean_squared_error: 0.3114 - val_loss: 0.5119 - val_root_mean_squared_error: 0.3419\n",
            "Epoch 32/50\n",
            "1125/1125 [==============================] - 24s 22ms/step - loss: 0.4553 - root_mean_squared_error: 0.3094 - val_loss: 0.5107 - val_root_mean_squared_error: 0.3414\n",
            "Epoch 33/50\n",
            "1125/1125 [==============================] - 25s 22ms/step - loss: 0.4546 - root_mean_squared_error: 0.3092 - val_loss: 0.5095 - val_root_mean_squared_error: 0.3409\n",
            "Epoch 34/50\n",
            "1125/1125 [==============================] - 25s 22ms/step - loss: 0.4526 - root_mean_squared_error: 0.3078 - val_loss: 0.5085 - val_root_mean_squared_error: 0.3404\n",
            "Epoch 35/50\n",
            "1125/1125 [==============================] - 23s 21ms/step - loss: 0.4499 - root_mean_squared_error: 0.3062 - val_loss: 0.5075 - val_root_mean_squared_error: 0.3400\n",
            "Epoch 36/50\n",
            "1125/1125 [==============================] - 23s 20ms/step - loss: 0.4497 - root_mean_squared_error: 0.3060 - val_loss: 0.5066 - val_root_mean_squared_error: 0.3396\n",
            "Epoch 37/50\n",
            "1125/1125 [==============================] - 23s 20ms/step - loss: 0.4490 - root_mean_squared_error: 0.3055 - val_loss: 0.5056 - val_root_mean_squared_error: 0.3392\n",
            "Epoch 38/50\n",
            "1125/1125 [==============================] - 23s 21ms/step - loss: 0.4465 - root_mean_squared_error: 0.3038 - val_loss: 0.5048 - val_root_mean_squared_error: 0.3388\n",
            "Epoch 39/50\n",
            "1125/1125 [==============================] - 26s 23ms/step - loss: 0.4458 - root_mean_squared_error: 0.3036 - val_loss: 0.5039 - val_root_mean_squared_error: 0.3384\n",
            "Epoch 40/50\n",
            "1125/1125 [==============================] - 25s 22ms/step - loss: 0.4438 - root_mean_squared_error: 0.3021 - val_loss: 0.5033 - val_root_mean_squared_error: 0.3381\n",
            "Epoch 41/50\n",
            "1125/1125 [==============================] - 24s 22ms/step - loss: 0.4427 - root_mean_squared_error: 0.3014 - val_loss: 0.5026 - val_root_mean_squared_error: 0.3377\n",
            "Epoch 42/50\n",
            "1125/1125 [==============================] - 24s 22ms/step - loss: 0.4409 - root_mean_squared_error: 0.3002 - val_loss: 0.5019 - val_root_mean_squared_error: 0.3374\n",
            "Epoch 43/50\n",
            "1125/1125 [==============================] - 24s 22ms/step - loss: 0.4392 - root_mean_squared_error: 0.2991 - val_loss: 0.5013 - val_root_mean_squared_error: 0.3371\n",
            "Epoch 44/50\n",
            "1125/1125 [==============================] - 24s 22ms/step - loss: 0.4386 - root_mean_squared_error: 0.2985 - val_loss: 0.5006 - val_root_mean_squared_error: 0.3368\n",
            "Epoch 45/50\n",
            "1125/1125 [==============================] - 24s 22ms/step - loss: 0.4363 - root_mean_squared_error: 0.2970 - val_loss: 0.5000 - val_root_mean_squared_error: 0.3365\n",
            "Epoch 46/50\n",
            "1125/1125 [==============================] - 24s 22ms/step - loss: 0.4362 - root_mean_squared_error: 0.2971 - val_loss: 0.4995 - val_root_mean_squared_error: 0.3362\n",
            "Epoch 47/50\n",
            "1125/1125 [==============================] - 24s 21ms/step - loss: 0.4347 - root_mean_squared_error: 0.2960 - val_loss: 0.4989 - val_root_mean_squared_error: 0.3360\n",
            "Epoch 48/50\n",
            "1125/1125 [==============================] - 24s 22ms/step - loss: 0.4337 - root_mean_squared_error: 0.2953 - val_loss: 0.4984 - val_root_mean_squared_error: 0.3357\n",
            "Epoch 49/50\n",
            "1125/1125 [==============================] - 24s 22ms/step - loss: 0.4317 - root_mean_squared_error: 0.2938 - val_loss: 0.4979 - val_root_mean_squared_error: 0.3355\n",
            "Epoch 50/50\n",
            "1125/1125 [==============================] - 24s 22ms/step - loss: 0.4317 - root_mean_squared_error: 0.2939 - val_loss: 0.4976 - val_root_mean_squared_error: 0.3353\n"
          ]
        }
      ],
      "source": [
        "# memulai training\n",
        "\n",
        "history = model.fit(\n",
        "    x = x_train,\n",
        "    y = y_train,\n",
        "    batch_size = 16,\n",
        "    epochs = 50,\n",
        "    validation_data = (x_val, y_val)\n",
        ")"
      ]
    },
    {
      "cell_type": "markdown",
      "metadata": {
        "id": "DerK_HDm1MdW"
      },
      "source": [
        "Berdasarkan hasil training, model menunjukkan performa yang cukup baik dan konvergen pada sekitar 50 epochs.  \n",
        "Didapatkan nilai Root Mean Squared Error (RMSE) sekitar **0.2939** pada data training dan **0.3353** pada data validasi.  \n",
        "\n",
        "Nilai ini menunjukkan model sudah cukup baik untuk digunakan dalam sistem rekomendasi.  \n",
        "Langkah selanjutnya adalah menggunakan model untuk menghasilkan rekomendasi judul buku sesuai preferensi pengguna.\n"
      ]
    },
    {
      "cell_type": "markdown",
      "metadata": {
        "id": "uP_EB5mo1MdW"
      },
      "source": [
        "### Mendapatkan Rekomendasi Judul Buku"
      ]
    },
    {
      "cell_type": "markdown",
      "metadata": {
        "id": "Dgdz4uRz1MdX"
      },
      "source": [
        "Untuk mendapatkan rekomendasi judul buku:  \n",
        "1. Ambil sampel user secara acak.  \n",
        "2. Definisikan variabel `book_not_readed`, yaitu daftar buku yang belum pernah dibaca atau dibeli oleh pengguna. Variabel ini menjadi kandidat judul buku yang akan direkomendasikan.  \n",
        "3. Variabel `book_not_readed` diperoleh dengan menggunakan operator bitwise `~` pada variabel `book_readed_by_user`.\n"
      ]
    },
    {
      "cell_type": "code",
      "execution_count": null,
      "metadata": {
        "id": "ciTZozwH1MdX"
      },
      "outputs": [],
      "source": [
        "book_df = books_new\n",
        "\n",
        "# mengambil sampel user\n",
        "user_id = df_rating['User-ID'].sample(1).iloc[0]\n",
        "book_readed_by_user = df_rating[df_rating['User-ID'] == user_id]\n",
        "\n",
        "# membuat variabel book_not_readed\n",
        "book_not_readed = book_df[~book_df['isbn'].isin(book_readed_by_user['ISBN'].values)]['isbn']\n",
        "book_not_readed = list(\n",
        "    set(book_not_readed)\n",
        "    .intersection(set(isbn_to_isbn_encoded.keys()))\n",
        ")\n",
        "\n",
        "book_not_readed = [[isbn_to_isbn_encoded.get(x)] for x in book_not_readed]\n",
        "user_encoder = user_to_user_encoded.get(user_id)\n",
        "user_book_array = np.hstack(\n",
        "    ([[user_encoder]] * len(book_not_readed), book_not_readed)\n",
        ")"
      ]
    },
    {
      "cell_type": "markdown",
      "metadata": {
        "id": "WG3-uzpA1MdX"
      },
      "source": [
        "Gunakan fungsi model.predict() dari library Keras, untuk memperoleh rekomendasi judul buku"
      ]
    },
    {
      "cell_type": "code",
      "execution_count": null,
      "metadata": {
        "id": "nnIJrGOE1MdY",
        "outputId": "0b0913cc-d520-478a-a7eb-363d1bcc0bd5"
      },
      "outputs": [
        {
          "name": "stdout",
          "output_type": "stream",
          "text": [
            "13/34 [==========>...................] - ETA: 0s"
          ]
        },
        {
          "name": "stdout",
          "output_type": "stream",
          "text": [
            "34/34 [==============================] - 0s 10ms/step\n",
            "Showing recommendation for users: 1235\n",
            "===========================\n",
            "Book with high ratings from user\n",
            "--------------------------------\n",
            "                                   Book Title    Book Author\n",
            "0  The Second Rumpole Omnibus (Crime Monthly)  John Mortimer\n",
            "--------------------------------\n",
            "Top 10 books recommendation\n",
            "--------------------------------\n"
          ]
        },
        {
          "data": {
            "text/html": [
              "<div>\n",
              "<style scoped>\n",
              "    .dataframe tbody tr th:only-of-type {\n",
              "        vertical-align: middle;\n",
              "    }\n",
              "\n",
              "    .dataframe tbody tr th {\n",
              "        vertical-align: top;\n",
              "    }\n",
              "\n",
              "    .dataframe thead th {\n",
              "        text-align: right;\n",
              "    }\n",
              "</style>\n",
              "<table border=\"1\" class=\"dataframe\">\n",
              "  <thead>\n",
              "    <tr style=\"text-align: right;\">\n",
              "      <th></th>\n",
              "      <th>Book Title</th>\n",
              "      <th>Book Author</th>\n",
              "    </tr>\n",
              "  </thead>\n",
              "  <tbody>\n",
              "    <tr>\n",
              "      <th>0</th>\n",
              "      <td>WINGS ABOVE THE DIAMANTINA</td>\n",
              "      <td>Arthur Upfield</td>\n",
              "    </tr>\n",
              "    <tr>\n",
              "      <th>1</th>\n",
              "      <td>Politically Correct Bedtime Stories: Modern Ta...</td>\n",
              "      <td>James Finn Garner</td>\n",
              "    </tr>\n",
              "    <tr>\n",
              "      <th>2</th>\n",
              "      <td>Falling Up</td>\n",
              "      <td>Shel Silverstein</td>\n",
              "    </tr>\n",
              "    <tr>\n",
              "      <th>3</th>\n",
              "      <td>The Bell Jar : A Novel (Perennial Classics)</td>\n",
              "      <td>Sylvia Plath</td>\n",
              "    </tr>\n",
              "    <tr>\n",
              "      <th>4</th>\n",
              "      <td>Kane &amp;amp; Abel</td>\n",
              "      <td>Jeffrey Archer</td>\n",
              "    </tr>\n",
              "    <tr>\n",
              "      <th>5</th>\n",
              "      <td>Legal Tender</td>\n",
              "      <td>Lisa Scottoline</td>\n",
              "    </tr>\n",
              "    <tr>\n",
              "      <th>6</th>\n",
              "      <td>Stop Being Mean to Yourself: A Story About Fin...</td>\n",
              "      <td>Melody Beattie</td>\n",
              "    </tr>\n",
              "    <tr>\n",
              "      <th>7</th>\n",
              "      <td>Mandy (Julie Andrews Collection)</td>\n",
              "      <td>Julie Andrews Edwards</td>\n",
              "    </tr>\n",
              "    <tr>\n",
              "      <th>8</th>\n",
              "      <td>Memoirs of a Geisha Uk</td>\n",
              "      <td>Arthur Golden</td>\n",
              "    </tr>\n",
              "    <tr>\n",
              "      <th>9</th>\n",
              "      <td>Are You Experienced?</td>\n",
              "      <td>William Sutcliffe</td>\n",
              "    </tr>\n",
              "  </tbody>\n",
              "</table>\n",
              "</div>"
            ],
            "text/plain": [
              "                                          Book Title            Book Author\n",
              "0                         WINGS ABOVE THE DIAMANTINA         Arthur Upfield\n",
              "1  Politically Correct Bedtime Stories: Modern Ta...      James Finn Garner\n",
              "2                                         Falling Up       Shel Silverstein\n",
              "3        The Bell Jar : A Novel (Perennial Classics)           Sylvia Plath\n",
              "4                                    Kane &amp; Abel         Jeffrey Archer\n",
              "5                                       Legal Tender        Lisa Scottoline\n",
              "6  Stop Being Mean to Yourself: A Story About Fin...         Melody Beattie\n",
              "7                   Mandy (Julie Andrews Collection)  Julie Andrews Edwards\n",
              "8                             Memoirs of a Geisha Uk          Arthur Golden\n",
              "9                               Are You Experienced?      William Sutcliffe"
            ]
          },
          "execution_count": 101,
          "metadata": {},
          "output_type": "execute_result"
        }
      ],
      "source": [
        "ratings_model = model.predict(user_book_array).flatten()\n",
        "\n",
        "top_ratings_indices = ratings_model.argsort()[-10:][::-1]\n",
        "\n",
        "recommended_book_ids = [\n",
        "    isbn_encoded_to_isbn.get(book_not_readed[x][0]) for x in top_ratings_indices\n",
        "]\n",
        "\n",
        "top_book_user = (\n",
        "    book_readed_by_user.sort_values(\n",
        "        by='Book-Rating',\n",
        "        ascending=False\n",
        "    )\n",
        "    .head(10)['ISBN'].values\n",
        ")\n",
        "\n",
        "book_df_rows = book_df[book_df['isbn'].isin(top_book_user)]\n",
        "\n",
        "# Menampilkan rekomendasi buku dalam bentuk DataFrame\n",
        "book_df_rows_data = []\n",
        "for row in book_df_rows.itertuples():\n",
        "    book_df_rows_data.append([row.book_title, row.book_author])\n",
        "\n",
        "recommended_book = book_df[book_df['isbn'].isin(recommended_book_ids)]\n",
        "\n",
        "recommended_book_data = []\n",
        "for row in recommended_book.itertuples():\n",
        "    recommended_book_data.append([row.book_title, row.book_author])\n",
        "\n",
        "# Membuat DataFrame untuk output\n",
        "output_columns = ['Book Title', 'Book Author']\n",
        "df_book_readed_by_user = pd.DataFrame(book_df_rows_data, columns=output_columns)\n",
        "df_recommended_books = pd.DataFrame(recommended_book_data, columns=output_columns)\n",
        "\n",
        "# Menampilkan hasil rekomendasi dalam bentuk DataFrame\n",
        "print(\"Showing recommendation for users: {}\".format(user_id))\n",
        "print(\"===\" * 9)\n",
        "print(\"Book with high ratings from user\")\n",
        "print(\"----\" * 8)\n",
        "print(df_book_readed_by_user)\n",
        "print(\"----\" * 8)\n",
        "print(\"Top 10 books recommendation\")\n",
        "print(\"----\" * 8)\n",
        "df_recommended_books\n"
      ]
    },
    {
      "cell_type": "markdown",
      "metadata": {
        "id": "aQzeOodi1MdY"
      },
      "source": [
        "Berdasarkan output di atas, rekomendasi untuk user dengan ID 1235 berhasil dibuat.  \n",
        "\n",
        "Dari hasil tersebut, dapat dibandingkan antara:  \n",
        "- **Book with high ratings from user**  \n",
        "- **Top 10 books recommendation**  \n",
        "\n",
        "Beberapa judul buku rekomendasi juga menyertakan nama penulis yang sesuai dengan preferensi user.  \n",
        "\n",
        "Didapatkan 10 buku rekomendasi teratas lengkap dengan nama penulis, serta 1 judul buku dengan rating tertinggi dari user tersebut.\n"
      ]
    },
    {
      "cell_type": "markdown",
      "metadata": {
        "id": "e9VpsOey1MdY"
      },
      "source": [
        "# Evaluation"
      ]
    },
    {
      "cell_type": "markdown",
      "metadata": {
        "id": "WoD_J6kl1MdZ"
      },
      "source": [
        "## Evaluasi Model dengan Content Based Filtering"
      ]
    },
    {
      "cell_type": "markdown",
      "metadata": {
        "id": "M-MDxq0Y1MdZ"
      },
      "source": [
        "\n",
        "\n",
        "Metrik yang digunakan dalam proyek ini adalah:  \n",
        "- **Precision**: rasio item relevan yang direkomendasikan terhadap total item yang direkomendasikan.  \n",
        "- **Recall**: rasio item relevan yang direkomendasikan terhadap total item relevan yang seharusnya direkomendasikan.  \n",
        "- **F1-Score**: harmonisasi antara Precision dan Recall dalam satu nilai.\n",
        "\n",
        "Sebelum menghitung metrik tersebut, diperlukan data **ground truth** yang berisi label sebenarnya untuk menilai hasil prediksi model.  \n",
        "\n",
        "Pada proyek ini, data ground truth dibuat berdasarkan derajat kemiripan antar judul buku yang dihitung dengan **cosine similarity**.  \n",
        "- Setiap baris dan kolom mewakili judul buku.  \n",
        "- Nilai pada setiap sel adalah label:  \n",
        "  - `1` = similar  \n",
        "  - `0` = tidak similar  \n",
        "\n",
        "Ditetapkan juga sebuah **threshold** untuk menentukan apakah nilai similarity antara dua buku dianggap 1 (similar) atau 0 (tidak similar).\n"
      ]
    },
    {
      "cell_type": "code",
      "execution_count": null,
      "metadata": {
        "id": "vMN1TgPt1MdZ"
      },
      "outputs": [],
      "source": [
        "# Menentukan threshold untuk mengkategorikan similarity sebagai 1 atau 0\n",
        "threshold = 0.5\n",
        "\n",
        "# Membuat ground truth data dengan asumsi threshold\n",
        "ground_truth = np.where(cosine_sim >= threshold, 1, 0)\n",
        "\n",
        "# Menampilkan beberapa nilai pada ground truth matrix\n",
        "ground_truth_df = pd.DataFrame(ground_truth, index=data['book_title'], columns=data['book_title']).sample(5, axis=1).sample(10, axis=0)"
      ]
    },
    {
      "cell_type": "markdown",
      "metadata": {
        "id": "odnM2pUO1Mda"
      },
      "source": [
        "Pada kode di atas, nilai ambang batas (threshold) ditetapkan sebesar **0.5**.  \n",
        "Nilai threshold ini disesuaikan berdasarkan kebutuhan dan karakteristik hasil rekomendasi sebelumnya.  \n",
        "\n",
        "Kemudian, matriks ground truth dibuat menggunakan fungsi `np.where()` dari NumPy, dimana:  \n",
        "- Posisi dengan nilai cosine similarity ≥ threshold diberi nilai **1** (similar).  \n",
        "- Posisi dengan nilai similarity < threshold diberi nilai **0** (tidak similar).  \n",
        "\n",
        "Matriks hasil tersebut kemudian disajikan dalam bentuk **DataFrame**, dengan baris dan kolom yang diindeks oleh judul buku dari dataset.\n",
        "\n",
        "Berikut contoh tampilan DataFrame ground truth.\n"
      ]
    },
    {
      "cell_type": "code",
      "execution_count": null,
      "metadata": {
        "id": "Wokv2mXc1Mda",
        "outputId": "da74a199-2cab-4c17-de1a-b8aacfad31ea"
      },
      "outputs": [
        {
          "data": {
            "text/html": [
              "<div>\n",
              "<style scoped>\n",
              "    .dataframe tbody tr th:only-of-type {\n",
              "        vertical-align: middle;\n",
              "    }\n",
              "\n",
              "    .dataframe tbody tr th {\n",
              "        vertical-align: top;\n",
              "    }\n",
              "\n",
              "    .dataframe thead th {\n",
              "        text-align: right;\n",
              "    }\n",
              "</style>\n",
              "<table border=\"1\" class=\"dataframe\">\n",
              "  <thead>\n",
              "    <tr style=\"text-align: right;\">\n",
              "      <th>book_title</th>\n",
              "      <th>Heart of Darkness (Penguin Great Books of the 20th Century)</th>\n",
              "      <th>A People's Tragedy: The Russian Revolution : 1891-1924</th>\n",
              "      <th>A Special Trade</th>\n",
              "      <th>Computer power and human reason: From judgment to calculation (Pelican books)</th>\n",
              "      <th>Jennifer Fever Older Men Younger Women</th>\n",
              "    </tr>\n",
              "    <tr>\n",
              "      <th>book_title</th>\n",
              "      <th></th>\n",
              "      <th></th>\n",
              "      <th></th>\n",
              "      <th></th>\n",
              "      <th></th>\n",
              "    </tr>\n",
              "  </thead>\n",
              "  <tbody>\n",
              "    <tr>\n",
              "      <th>Murder Through the Looking Glass</th>\n",
              "      <td>0</td>\n",
              "      <td>0</td>\n",
              "      <td>0</td>\n",
              "      <td>0</td>\n",
              "      <td>0</td>\n",
              "    </tr>\n",
              "    <tr>\n",
              "      <th>Lion Is Down in the Dumps (Sweet Pickles Series)</th>\n",
              "      <td>0</td>\n",
              "      <td>0</td>\n",
              "      <td>0</td>\n",
              "      <td>0</td>\n",
              "      <td>0</td>\n",
              "    </tr>\n",
              "    <tr>\n",
              "      <th>Tales of the City</th>\n",
              "      <td>0</td>\n",
              "      <td>0</td>\n",
              "      <td>0</td>\n",
              "      <td>0</td>\n",
              "      <td>0</td>\n",
              "    </tr>\n",
              "    <tr>\n",
              "      <th>Schaum's Outline of Essential Computer Mathematics</th>\n",
              "      <td>0</td>\n",
              "      <td>0</td>\n",
              "      <td>0</td>\n",
              "      <td>0</td>\n",
              "      <td>0</td>\n",
              "    </tr>\n",
              "    <tr>\n",
              "      <th>Understanding Movies</th>\n",
              "      <td>0</td>\n",
              "      <td>0</td>\n",
              "      <td>0</td>\n",
              "      <td>0</td>\n",
              "      <td>0</td>\n",
              "    </tr>\n",
              "    <tr>\n",
              "      <th>Medieval Europe: A Short Source Book</th>\n",
              "      <td>0</td>\n",
              "      <td>0</td>\n",
              "      <td>0</td>\n",
              "      <td>0</td>\n",
              "      <td>0</td>\n",
              "    </tr>\n",
              "    <tr>\n",
              "      <th>Frida : A Biography of Frida Kahlo</th>\n",
              "      <td>0</td>\n",
              "      <td>0</td>\n",
              "      <td>0</td>\n",
              "      <td>0</td>\n",
              "      <td>0</td>\n",
              "    </tr>\n",
              "    <tr>\n",
              "      <th>Shakkai: Women of the Sacred Garden</th>\n",
              "      <td>0</td>\n",
              "      <td>0</td>\n",
              "      <td>0</td>\n",
              "      <td>0</td>\n",
              "      <td>0</td>\n",
              "    </tr>\n",
              "    <tr>\n",
              "      <th>Sirens and Other Daemon Lovers</th>\n",
              "      <td>0</td>\n",
              "      <td>0</td>\n",
              "      <td>0</td>\n",
              "      <td>0</td>\n",
              "      <td>0</td>\n",
              "    </tr>\n",
              "    <tr>\n",
              "      <th>Lair of the Fox</th>\n",
              "      <td>0</td>\n",
              "      <td>0</td>\n",
              "      <td>0</td>\n",
              "      <td>0</td>\n",
              "      <td>0</td>\n",
              "    </tr>\n",
              "  </tbody>\n",
              "</table>\n",
              "</div>"
            ],
            "text/plain": [
              "book_title                                          Heart of Darkness (Penguin Great Books of the 20th Century)  \\\n",
              "book_title                                                                                                        \n",
              "Murder Through the Looking Glass                                                                    0             \n",
              "Lion Is Down in the Dumps (Sweet Pickles Series)                                                    0             \n",
              "Tales of the City                                                                                   0             \n",
              "Schaum's Outline of Essential Computer Mathematics                                                  0             \n",
              "Understanding Movies                                                                                0             \n",
              "Medieval Europe: A Short Source Book                                                                0             \n",
              "Frida : A Biography of Frida Kahlo                                                                  0             \n",
              "Shakkai: Women of the Sacred Garden                                                                 0             \n",
              "Sirens and Other Daemon Lovers                                                                      0             \n",
              "Lair of the Fox                                                                                     0             \n",
              "\n",
              "book_title                                          A People's Tragedy: The Russian Revolution : 1891-1924  \\\n",
              "book_title                                                                                                   \n",
              "Murder Through the Looking Glass                                                                    0        \n",
              "Lion Is Down in the Dumps (Sweet Pickles Series)                                                    0        \n",
              "Tales of the City                                                                                   0        \n",
              "Schaum's Outline of Essential Computer Mathematics                                                  0        \n",
              "Understanding Movies                                                                                0        \n",
              "Medieval Europe: A Short Source Book                                                                0        \n",
              "Frida : A Biography of Frida Kahlo                                                                  0        \n",
              "Shakkai: Women of the Sacred Garden                                                                 0        \n",
              "Sirens and Other Daemon Lovers                                                                      0        \n",
              "Lair of the Fox                                                                                     0        \n",
              "\n",
              "book_title                                          A Special Trade  \\\n",
              "book_title                                                            \n",
              "Murder Through the Looking Glass                                  0   \n",
              "Lion Is Down in the Dumps (Sweet Pickles Series)                  0   \n",
              "Tales of the City                                                 0   \n",
              "Schaum's Outline of Essential Computer Mathematics                0   \n",
              "Understanding Movies                                              0   \n",
              "Medieval Europe: A Short Source Book                              0   \n",
              "Frida : A Biography of Frida Kahlo                                0   \n",
              "Shakkai: Women of the Sacred Garden                               0   \n",
              "Sirens and Other Daemon Lovers                                    0   \n",
              "Lair of the Fox                                                   0   \n",
              "\n",
              "book_title                                          Computer power and human reason: From judgment to calculation (Pelican books)  \\\n",
              "book_title                                                                                                                          \n",
              "Murder Through the Looking Glass                                                                    0                               \n",
              "Lion Is Down in the Dumps (Sweet Pickles Series)                                                    0                               \n",
              "Tales of the City                                                                                   0                               \n",
              "Schaum's Outline of Essential Computer Mathematics                                                  0                               \n",
              "Understanding Movies                                                                                0                               \n",
              "Medieval Europe: A Short Source Book                                                                0                               \n",
              "Frida : A Biography of Frida Kahlo                                                                  0                               \n",
              "Shakkai: Women of the Sacred Garden                                                                 0                               \n",
              "Sirens and Other Daemon Lovers                                                                      0                               \n",
              "Lair of the Fox                                                                                     0                               \n",
              "\n",
              "book_title                                          Jennifer Fever Older Men Younger Women  \n",
              "book_title                                                                                  \n",
              "Murder Through the Looking Glass                                                         0  \n",
              "Lion Is Down in the Dumps (Sweet Pickles Series)                                         0  \n",
              "Tales of the City                                                                        0  \n",
              "Schaum's Outline of Essential Computer Mathematics                                       0  \n",
              "Understanding Movies                                                                     0  \n",
              "Medieval Europe: A Short Source Book                                                     0  \n",
              "Frida : A Biography of Frida Kahlo                                                       0  \n",
              "Shakkai: Women of the Sacred Garden                                                      0  \n",
              "Sirens and Other Daemon Lovers                                                           0  \n",
              "Lair of the Fox                                                                          0  "
            ]
          },
          "execution_count": 103,
          "metadata": {},
          "output_type": "execute_result"
        }
      ],
      "source": [
        "ground_truth_df"
      ]
    },
    {
      "cell_type": "markdown",
      "metadata": {
        "id": "ng6pzBXt1Mdb"
      },
      "source": [
        "Setelah matriks ground truth dibuat, langkah berikutnya adalah menghitung evaluasi model menggunakan metrik **precision**, **recall**, dan **f1 score**.\n",
        "\n",
        "- Fungsi `precision_recall_fscore_support` dari library Sklearn digunakan untuk menghitung ketiga metrik tersebut.  \n",
        "- Karena keterbatasan memori, hanya diambil sekitar 10.000 sampel dari matriks cosine similarity dan ground truth untuk mempercepat perhitungan.  \n",
        "- Matriks cosine similarity dan ground truth kemudian diubah menjadi array satu dimensi untuk memudahkan perbandingan dan perhitungan.  \n",
        "- Nilai cosine similarity dikategorikan berdasarkan threshold:  \n",
        "  - ≥ threshold → 1 (positif)  \n",
        "  - < threshold → 0 (negatif)  \n",
        "- Hasil prediksi disimpan dalam array `predictions`.  \n",
        "- Fungsi `precision_recall_fscore_support` dipanggil dengan parameter `average='binary'` (karena klasifikasi biner) dan `zero_division=1` (menghindari error pembagian nol).\n",
        "\n",
        "Dengan cara ini, diperoleh nilai precision, recall, dan f1 score sebagai ukuran performa model rekomendasi.\n"
      ]
    },
    {
      "cell_type": "code",
      "execution_count": null,
      "metadata": {
        "id": "sM-EKZza1Mdb",
        "outputId": "2547f471-3196-4308-a2bc-fdee9a0f1506"
      },
      "outputs": [
        {
          "name": "stdout",
          "output_type": "stream",
          "text": [
            "Precision: 1.0\n",
            "Recall: 1.0\n",
            "F1-score: 1.0\n"
          ]
        }
      ],
      "source": [
        "from sklearn.metrics import precision_recall_fscore_support\n",
        "\n",
        "# Mengambil sebagian kecil dari cosine similarity matrix dan ground truth matrix\n",
        "sample_size = 10000\n",
        "cosine_sim_sample = cosine_sim[:sample_size, :sample_size]\n",
        "ground_truth_sample = ground_truth[:sample_size, :sample_size]\n",
        "\n",
        "# Mengonversi cosine similarity matrix menjadi array satu dimensi untuk perbandingan\n",
        "cosine_sim_flat = cosine_sim_sample.flatten()\n",
        "\n",
        "# Mengonversi ground truth matrix menjadi array satu dimensi\n",
        "ground_truth_flat = ground_truth_sample.flatten()\n",
        "\n",
        "# Menghitung metrik evaluasi\n",
        "predictions = (cosine_sim_flat >= threshold).astype(int)\n",
        "precision, recall, f1, _ = precision_recall_fscore_support(\n",
        "    ground_truth_flat, predictions, average='binary', zero_division=1\n",
        ")\n",
        "\n",
        "print(\"Precision:\", precision)\n",
        "print(\"Recall:\", recall)\n",
        "print(\"F1-score:\", f1)"
      ]
    },
    {
      "cell_type": "markdown",
      "metadata": {
        "id": "YWcdK5t11Mde"
      },
      "source": [
        "\n",
        "\n",
        "Berdasarkan evaluasi model dengan metrik precision, recall, dan F1 Score didapatkan hasil sebagai berikut:  \n",
        "\n",
        "- **Precision:** 1.0  \n",
        "  Menunjukkan bahwa semua prediksi positif model benar tanpa adanya false positive.  \n",
        "\n",
        "- **Recall:** 1.0  \n",
        "  Model berhasil mengidentifikasi 100% item yang sebenarnya relevan.  \n",
        "\n",
        "- **F1 Score:** ~1.0  \n",
        "  Menunjukkan keseimbangan yang sangat baik antara precision dan recall.  \n",
        "\n",
        "**Kesimpulan:**  \n",
        "Model content-based filtering ini bekerja dengan sangat baik dalam memberikan rekomendasi item yang relevan.\n"
      ]
    },
    {
      "cell_type": "markdown",
      "metadata": {
        "id": "JXENGQHG1Mde"
      },
      "source": [
        "## Evaluasi Model dengan Collaborative Filtering"
      ]
    },
    {
      "cell_type": "markdown",
      "metadata": {
        "id": "5LUndyEZ1Mdf"
      },
      "source": [
        "\n",
        "\n",
        "Metrik evaluasi yang digunakan adalah **Root Mean Squared Error (RMSE)**.  \n",
        "RMSE umum dipakai untuk mengukur seberapa baik model memprediksi nilai kontinu dengan membandingkan hasil prediksi dengan nilai sebenarnya.  \n",
        "\n",
        "Dalam konteks collaborative filtering, RMSE mengukur seberapa akurat model memprediksi preferensi pengguna terhadap item.  \n",
        "\n",
        "Berdasarkan hasil training, diperoleh nilai RMSE untuk data training dan validasi.  \n",
        "Untuk memvisualisasikan proses training dan evaluasi model, digunakan plotting metrik dengan library **matplotlib**.  \n",
        "Kode plotting dapat diterapkan sebagai berikut:\n"
      ]
    },
    {
      "cell_type": "code",
      "execution_count": null,
      "metadata": {
        "id": "fr-qrlhM1Mdf",
        "outputId": "8d1dd322-a10b-4085-f434-d01868f7b087"
      },
      "outputs": [
        {
          "data": {
            "image/png": "[encoded data removed]",
            "text/plain": [
              "<Figure size 432x288 with 1 Axes>"
            ]
          },
          "metadata": {
            "needs_background": "light"
          },
          "output_type": "display_data"
        }
      ],
      "source": [
        "plt.plot(history.history['root_mean_squared_error'])\n",
        "plt.plot(history.history['val_root_mean_squared_error'])\n",
        "plt.title('model_metrics')\n",
        "plt.ylabel('root_mean_squared_error')\n",
        "plt.xlabel('epoch')\n",
        "plt.legend(['train', 'test'], loc='upper left')\n",
        "plt.show()"
      ]
    },
    {
      "cell_type": "markdown",
      "metadata": {
        "id": "ig-v-i3c1Mdg"
      },
      "source": [
        "\n",
        "\n",
        "Dari visualisasi metrik RMSE pada model, terlihat bahwa model konvergen sekitar **epochs ke-50**.  \n",
        "\n",
        "Plot metrik menunjukkan nilai error (MSE) yang cukup kecil.  \n",
        "\n",
        "Nilai RMSE akhir yang diperoleh:  \n",
        "- **Training:** 0.2939  \n",
        "- **Validasi:** 0.3353  \n",
        "\n",
        "Nilai RMSE yang kecil ini menunjukkan model mampu memprediksi preferensi pengguna terhadap item dengan baik.  \n",
        "\n",
        "Sehingga, rekomendasi yang dihasilkan oleh model cukup akurat dan dapat diandalkan.\n"
      ]
    }
  ],
  "metadata": {
    "kernelspec": {
      "display_name": "Python 3",
      "language": "python",
      "name": "python3"
    },
    "language_info": {
      "codemirror_mode": {
        "name": "ipython",
        "version": 3
      },
      "file_extension": ".py",
      "mimetype": "text/x-python",
      "name": "python",
      "nbconvert_exporter": "python",
      "pygments_lexer": "ipython3",
      "version": "3.10.5"
    },
    "colab": {
      "provenance": [],
      "include_colab_link": true
    }
  },
  "nbformat": 4,
  "nbformat_minor": 0
}